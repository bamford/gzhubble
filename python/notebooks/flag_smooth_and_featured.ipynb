{
 "cells": [
  {
   "cell_type": "code",
   "execution_count": null,
   "metadata": {
    "collapsed": true
   },
   "outputs": [],
   "source": [
    "#add column to flag smooth and featured galaxies\n",
    "\n",
    "#featured: any galaxy with p_features > 0.8\n",
    "#smooth: galaxies with correction_type = 0 or 1 and p_features < 0.2\n"
   ]
  },
  {
   "cell_type": "code",
   "execution_count": null,
   "metadata": {
    "collapsed": true
   },
   "outputs": [],
   "source": [
    "%matplotlib inline\n",
    "\n",
    "from astropy.io import fits as pyfits\n",
    "from astropy.table import Table,join\n",
    "import numpy as np\n",
    "from astropy.io.fits import Column\n",
    "from datetime import datetime\n",
    "from operator import itemgetter\n",
    "import matplotlib.pyplot as plt\n",
    "import matplotlib.gridspec as gridspec\n",
    "import os\n",
    "import warnings\n",
    "import requests"
   ]
  },
  {
   "cell_type": "code",
   "execution_count": null,
   "metadata": {
    "collapsed": true
   },
   "outputs": [],
   "source": [
    "def download_from_dropbox(url):\n",
    "    \n",
    "    local_filename = \"{:}\".format(url.split(\"/\")[-1].split(\"?\")[0])\n",
    "    r = requests.get(url, stream=True)\n",
    "    with open(local_filename, 'wb') as f:\n",
    "        for chunk in r.iter_content(chunk_size=1024): \n",
    "            if chunk: # filter out keep-alive new chunks\n",
    "                f.write(chunk)\n",
    "                f.flush()\n",
    "            \n",
    "    return local_filename"
   ]
  },
  {
   "cell_type": "code",
   "execution_count": null,
   "metadata": {
    "collapsed": true
   },
   "outputs": [],
   "source": [
    "p_smooth = 't01_smooth_or_features_a01_smooth_best_fraction'\n",
    "p_features = 't01_smooth_or_features_a02_features_or_disk_best_fraction'\n",
    "p_star = 't01_smooth_or_features_a03_star_or_artifact_weighted_fraction'"
   ]
  },
  {
   "cell_type": "code",
   "execution_count": null,
   "metadata": {
    "collapsed": false
   },
   "outputs": [],
   "source": [
    "def add_features_flag_column(link,p_smooth_cut,p_features_cut,p_star_cut):\n",
    "    f_name = download_from_dropbox(link)\n",
    "    table = Table.read(f_name)\n",
    "    table_with_flag = table.copy(copy_data=True)\n",
    "\n",
    "    smooth_flag=Table.Column(name='t01_smooth_or_features_a01_smooth_flag',length=len(table))\n",
    "    features_flag=Table.Column(name='t01_smooth_or_features_a02_features_or_disk_flag',length=len(table))\n",
    "    star_flag=Table.Column(name='t01_smooth_or_features_a03_star_or_artifact_flag',length=len(table))\n",
    "    \n",
    "    table_with_flag.add_columns([smooth_flag,features_flag,star_flag])\n",
    "    \n",
    "    for gal in table_with_flag:\n",
    "        if gal[p_smooth]>p_smooth_cut and gal['correction_type']!=3 and gal['correction_type']!=4: \n",
    "            gal['t01_smooth_or_features_a01_smooth_flag']=1\n",
    "        else:\n",
    "            gal['t01_smooth_or_features_a01_smooth_flag']=0\n",
    "        if gal[p_features]>p_features_cut:\n",
    "            gal['t01_smooth_or_features_a02_features_or_disk_flag']=1\n",
    "        else:\n",
    "            gal['t01_smooth_or_features_a02_features_or_disk_flag']=0\n",
    "        if gal[p_star]>0.8:\n",
    "            gal['t01_smooth_or_features_a03_star_or_artifact_flag']=1\n",
    "        else:\n",
    "            gal['t01_smooth_or_features_a03_star_or_artifact_flag']=0\n",
    "            \n",
    "    return(table_with_flag)"
   ]
  },
  {
   "cell_type": "code",
   "execution_count": null,
   "metadata": {
    "collapsed": false
   },
   "outputs": [],
   "source": [
    "#hubble\n",
    "new_hubble = add_features_flag_column('https://www.dropbox.com/s/lv8xue07eqpyf3v/catalog_3_23_2016_hubble.fits?dl=1',.8,.8,.8)\n",
    "new_hubble.write('/home/mel/Dropbox/gzhubble/hubble_files/votes_catalogs/catalog_3_23_2016_hubble.fits',overwrite=True)"
   ]
  },
  {
   "cell_type": "code",
   "execution_count": null,
   "metadata": {
    "collapsed": false
   },
   "outputs": [],
   "source": [
    "#recoloured\n",
    "new_recoloured = add_features_flag_column('https://www.dropbox.com/s/hvm92deg7fzhh20/catalog_3_23_2016_recoloured.fits?dl=1',.8,.8,.8)\n",
    "new_recoloured.write('/home/mel/Dropbox/gzhubble/hubble_files/votes_catalogs/catalog_3_23_2016_recoloured.fits',overwrite=True)"
   ]
  },
  {
   "cell_type": "code",
   "execution_count": null,
   "metadata": {
    "collapsed": false
   },
   "outputs": [],
   "source": [
    "#sdss_single\n",
    "new_sdss_single = add_features_flag_column('https://www.dropbox.com/s/wwcqbqixha5k4w9/catalog_3_23_2016_sdss_single.fits?dl=1',.8,.8,.8)\n",
    "new_sdss_single.write('/home/mel/Dropbox/gzhubble/hubble_files/votes_catalogs/catalog_3_23_2016_sdss_single.fits',overwrite=True)"
   ]
  },
  {
   "cell_type": "code",
   "execution_count": null,
   "metadata": {
    "collapsed": false
   },
   "outputs": [],
   "source": [
    "#sdss_coadd\n",
    "new_sdss_coadd = add_features_flag_column('https://www.dropbox.com/s/am13o4k7wfwmzzd/catalog_3_23_2016_sdss_coadd.fits?dl=1',.8,.8,.8)\n",
    "new_sdss_coadd.write('/home/mel/Dropbox/gzhubble/hubble_files/votes_catalogs/catalog_3_23_2016_sdss_coadd.fits',overwrite=True)"
   ]
  },
  {
   "cell_type": "code",
   "execution_count": null,
   "metadata": {
    "collapsed": false
   },
   "outputs": [],
   "source": [
    "#faded\n",
    "new_faded = add_features_flag_column('https://www.dropbox.com/s/qdiw90tmm2aos5j/catalog_3_23_2016_faded.fits?dl=1',.8,.8,.8)\n",
    "new_faded.write('/home/mel/Dropbox/gzhubble/hubble_files/votes_catalogs/catalog_3_23_2016_faded.fits',overwrite=True)"
   ]
  },
  {
   "cell_type": "code",
   "execution_count": null,
   "metadata": {
    "collapsed": false
   },
   "outputs": [],
   "source": [
    "#fake_agn\n",
    "new_fake_agn = add_features_flag_column('https://www.dropbox.com/s/e3xnw21w4slua85/catalog_3_23_2016_fake_agn.fits?dl=1',.8,.8,.8)\n",
    "new_fake_agn.write('/home/mel/Dropbox/gzhubble/hubble_files/votes_catalogs/catalog_3_23_2016_fake_agn.fits',overwrite=True)"
   ]
  },
  {
   "cell_type": "code",
   "execution_count": null,
   "metadata": {
    "collapsed": false
   },
   "outputs": [],
   "source": [
    "#goods_shallow\n",
    "new_goods_shallow = add_features_flag_column('https://www.dropbox.com/s/er9hv07jfddqrb5/catalog_3_23_2016_goods_shallow.fits?dl=1',.8,.8,.8)\n",
    "new_goods_shallow.write('/home/mel/Dropbox/gzhubble/hubble_files/votes_catalogs/catalog_3_23_2016_goods_shallow.fits',overwrite=True)"
   ]
  },
  {
   "cell_type": "code",
   "execution_count": null,
   "metadata": {
    "collapsed": true
   },
   "outputs": [],
   "source": []
  }
 ],
 "metadata": {
  "kernelspec": {
   "display_name": "Python 2",
   "language": "python",
   "name": "python2"
  },
  "language_info": {
   "codemirror_mode": {
    "name": "ipython",
    "version": 2
   },
   "file_extension": ".py",
   "mimetype": "text/x-python",
   "name": "python",
   "nbconvert_exporter": "python",
   "pygments_lexer": "ipython2",
   "version": "2.7.6"
  }
 },
 "nbformat": 4,
 "nbformat_minor": 0
}
