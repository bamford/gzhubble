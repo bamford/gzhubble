{
 "cells": [
  {
   "cell_type": "markdown",
   "metadata": {},
   "source": [
    "## Comparing GZ: Hubble and GZ: CANDELS\n",
    "\n",
    "#### K. Willett (UMN) & B. Simmons (UCSD)"
   ]
  },
  {
   "cell_type": "code",
   "execution_count": 1,
   "metadata": {
    "collapsed": true
   },
   "outputs": [],
   "source": [
    "# Import any necessary packages\n",
    "\n",
    "from matplotlib import pyplot as plt\n",
    "from astropy.io import fits\n",
    "#from astropy.table import Table\n",
    "#import requests\n",
    "import numpy as np"
   ]
  },
  {
   "cell_type": "code",
   "execution_count": 2,
   "metadata": {
    "collapsed": true
   },
   "outputs": [],
   "source": [
    "# I did a positional match with a radius of 1.0 arcsec on \n",
    "# Table 6 in Willett+(in prep) and Table 2 in Simmons+(submitted). \n",
    "\n",
    "# Split by survey, these are the matches:"
   ]
  },
  {
   "cell_type": "markdown",
   "metadata": {},
   "source": [
    "|         | N    |\n",
    "|---------|------|\n",
    "| COSMOS  | 2980 |\n",
    "| GEMS    | 246  |\n",
    "| GOODS-S | 4455 |\n",
    "| Total   | 7681 |"
   ]
  },
  {
   "cell_type": "code",
   "execution_count": 3,
   "metadata": {
    "collapsed": false
   },
   "outputs": [],
   "source": [
    "# Get the matched dataset\n",
    "\n",
    "data = fits.getdata('/Users/willettk/Dropbox/gzhubble/gzh_gzcandels.fits',1)"
   ]
  },
  {
   "cell_type": "code",
   "execution_count": null,
   "metadata": {
    "collapsed": false
   },
   "outputs": [],
   "source": [
    "gzc = data['t00_smooth_or_featured_a1_features_weighted_frac']\n",
    "gzh = data['t01_smooth_or_features_a02_features_or_disk_best_fraction']"
   ]
  },
  {
   "cell_type": "code",
   "execution_count": null,
   "metadata": {
    "collapsed": false
   },
   "outputs": [],
   "source": [
    "# Make a Simmons-style plot of the averaged vote fractions, akin to Figure 7 in the GZC paper.\n",
    "\n",
    "fig,ax = plt.subplots(1,1)\n",
    "\n",
    "ax.hexbin(gzc,gzh,cmap=plt.cm.gray)\n",
    "\n",
    "plt.show()"
   ]
  },
  {
   "cell_type": "code",
   "execution_count": null,
   "metadata": {
    "collapsed": true
   },
   "outputs": [],
   "source": []
  }
 ],
 "metadata": {
  "kernelspec": {
   "display_name": "Python 2",
   "language": "python",
   "name": "python2"
  },
  "language_info": {
   "codemirror_mode": {
    "name": "ipython",
    "version": 2
   },
   "file_extension": ".py",
   "mimetype": "text/x-python",
   "name": "python",
   "nbconvert_exporter": "python",
   "pygments_lexer": "ipython2",
   "version": "2.7.11"
  }
 },
 "nbformat": 4,
 "nbformat_minor": 0
}
