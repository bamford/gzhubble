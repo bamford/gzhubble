{
 "cells": [
  {
   "cell_type": "markdown",
   "metadata": {},
   "source": [
    "# Obtaining the best redshift from 3 Catalogs: Griffiths, 3dHST, UltraVISTA\n",
    "\n",
    "## What we have:\n",
    "## Griffiths has spec-z, photo-z. Their best Z is 'high-quality spec z else photoz.' It is not known how high-quality is defined. The errors listed on their photoz are 3sig. \n",
    "## 3dHST has spec-zs, photo-zs, and grism-zs. Their 'z_best' can be any of these.\n",
    "## UltraVISTA just has photo-zs. \n",
    "## MUSYC has spec-zs and photo-z's. "
   ]
  },
  {
   "cell_type": "markdown",
   "metadata": {},
   "source": [
    "## Workflow for choosing best redshift:\n",
    "## 1) If Griffiths has high quality spec z (z_spec = z_best), use that.  Note: Griffith et al states that SPECZ = Z if z_quality >=3, but that doens't seem to be the case for places that don't have a quality measurement - inspection showed that in these cases, the specz was more consistent with the other catalogs than the photoz, so I'm using z_spec = z_best as the critera here instead of z_qual >=3. \n",
    "## else if 3dHST spec-z = 3dHST best_z, use that. \n",
    "## else if MUSYC has spec-z (within real range; 0 < z < 9), use that. \n",
    "## else (no good spec-z's anywhere):\n",
    "## compare 1-sig errors on Griffiths photoz, 3dHST grism z, 3dHST photoz, UltraVISTA photoz MUSYC. choose that with lowest err. Note: all except Griffiths report 1 sig errors; Griffiths reports 3sig if Imaging = COSMOS, so that error is divided by 3 in the comparison.\n",
    "\n",
    " \n",
    "\n"
   ]
  },
  {
   "cell_type": "code",
   "execution_count": 1,
   "metadata": {
    "collapsed": true
   },
   "outputs": [],
   "source": [
    "%matplotlib inline\n",
    "\n",
    "from astropy.io import fits as pyfits\n",
    "from astropy.table import Table,join\n",
    "import numpy as np\n",
    "from astropy.io.fits import Column\n",
    "from datetime import datetime\n",
    "from operator import itemgetter\n",
    "import matplotlib.pyplot as plt\n",
    "import matplotlib.gridspec as gridspec\n",
    "import os\n",
    "import warnings\n",
    "import requests"
   ]
  },
  {
   "cell_type": "code",
   "execution_count": 2,
   "metadata": {
    "collapsed": true
   },
   "outputs": [],
   "source": [
    "def download_from_dropbox(url):\n",
    "    \n",
    "    local_filename = \"{:}\".format(url.split(\"/\")[-1].split(\"?\")[0])\n",
    "    r = requests.get(url, stream=True)\n",
    "    with open(local_filename, 'wb') as f:\n",
    "        for chunk in r.iter_content(chunk_size=1024): \n",
    "            if chunk: # filter out keep-alive new chunks\n",
    "                f.write(chunk)\n",
    "                f.flush()\n",
    "            \n",
    "    return local_filename"
   ]
  },
  {
   "cell_type": "code",
   "execution_count": 4,
   "metadata": {
    "collapsed": false
   },
   "outputs": [
    {
     "name": "stderr",
     "output_type": "stream",
     "text": [
      "/usr/local/lib/python2.7/dist-packages/requests/packages/urllib3/util/ssl_.py:120: InsecurePlatformWarning: A true SSLContext object is not available. This prevents urllib3 from configuring SSL appropriately and may cause certain SSL connections to fail. For more information, see https://urllib3.readthedocs.org/en/latest/security.html#insecureplatformwarning.\n",
      "  InsecurePlatformWarning\n",
      "/usr/local/lib/python2.7/dist-packages/requests/packages/urllib3/util/ssl_.py:120: InsecurePlatformWarning: A true SSLContext object is not available. This prevents urllib3 from configuring SSL appropriately and may cause certain SSL connections to fail. For more information, see https://urllib3.readthedocs.org/en/latest/security.html#insecureplatformwarning.\n",
      "  InsecurePlatformWarning\n"
     ]
    }
   ],
   "source": [
    "old_catalog_filename = download_from_dropbox(\"https://www.dropbox.com/s/ge7sgtf0crxmwyi/all_redshift_info.fits?dl=1\")\n",
    "old_catalog = Table.read(old_catalog_filename)\n"
   ]
  },
  {
   "cell_type": "code",
   "execution_count": 12,
   "metadata": {
    "collapsed": false
   },
   "outputs": [],
   "source": [
    "#add new redshift columns \n",
    "col1=Table.Column(name='Z_BEST',length=len(old_catalog))\n",
    "col2=Table.Column(name='Z_BEST_TYPE',length=len(old_catalog),dtype='|S10')\n",
    "col3=Table.Column(name='Z_BEST_SOURCE',length=len(old_catalog),dtype='|S10')"
   ]
  },
  {
   "cell_type": "code",
   "execution_count": 22,
   "metadata": {
    "collapsed": false
   },
   "outputs": [],
   "source": [
    "updated_table = old_catalog.copy(copy_data=True)\n",
    "updated_table.add_columns((col1,col2,col3))"
   ]
  },
  {
   "cell_type": "code",
   "execution_count": 25,
   "metadata": {
    "collapsed": false
   },
   "outputs": [
    {
     "data": {
      "text/plain": [
       "(0, '', '')"
      ]
     },
     "execution_count": 25,
     "metadata": {},
     "output_type": "execute_result"
    }
   ],
   "source": [
    "get_best_redshift(old_catalog[181000])"
   ]
  },
  {
   "cell_type": "code",
   "execution_count": 23,
   "metadata": {
    "collapsed": false
   },
   "outputs": [],
   "source": [
    "def get_best_redshift(galaxy):\n",
    "    \n",
    "    #define Griffith variables\n",
    "    griffith_specz = galaxy['SPECZ']\n",
    "    griffith_quality = galaxy['ZQUALITY']\n",
    "    griffith_photoz = galaxy['PHOTOZ']\n",
    "    griffith_bestz = galaxy['Z']\n",
    "    \n",
    "    if galaxy['IMAGING']=='COSMOS    ':\n",
    "        griffith_photoz_err = galaxy['PHOTOZ_ERR']/galaxy['PHOTOZ']/3.\n",
    "    else:\n",
    "        griffith_photoz_err = galaxy['PHOTOZ_ERR']/galaxy['PHOTOZ']\n",
    "    \n",
    "    if str(griffith_photoz_err)=='nan':\n",
    "        griffith_photoz_err = 99\n",
    "    if galaxy['PHOTOZ_ERR']<=0:\n",
    "        griffith_photoz_err = 99\n",
    "\n",
    "    #define 3dhst variables\n",
    "    dhst_specz = galaxy['z_spec']\n",
    "    dhst_bestz = galaxy['z_best']\n",
    "    dhst_photoz = galaxy['z_peak_phot']\n",
    "    dhst_photoz_err = (galaxy['z_phot_u68']-galaxy['z_phot_l68'])/dhst_photoz\n",
    "\n",
    "    dhst_grismz = galaxy['z_max_grism']\n",
    "    dhst_grismz_err = (galaxy['z_grism_u68']-galaxy['z_grism_l68'])/dhst_grismz\n",
    "\n",
    "    \n",
    "    if str(dhst_photoz_err)=='nan':\n",
    "        dhst_photoz_err = 99\n",
    "    if dhst_photoz < 0:\n",
    "        dhst_photoz_err = 99\n",
    "    if str(dhst_grismz_err)=='nan':\n",
    "        dhst_grismz_err = 99\n",
    "    if dhst_grismz < 0:\n",
    "        dhst_grismz_err = 99\n",
    "    \n",
    "    #define ultravista variables\n",
    "    uv_photoz = galaxy['zPDF']\n",
    "    uv_photoz_err = (galaxy['zPDF_u68']-galaxy['zPDF_l68'])/uv_photoz\n",
    "    \n",
    "    if str(uv_photoz_err)=='nan':\n",
    "        uv_photoz_err = 99\n",
    "    if uv_photoz < 0:\n",
    "        uv_photoz_err=99\n",
    "        \n",
    "    #define MUSYC variables:\n",
    "    musyc_specz = galaxy['Z_SPEC_ALL']\n",
    "    musyc_photoz = galaxy['Z_PEAK']\n",
    "    musyc_photoz_err = (galaxy['z_U68']-galaxy['z_L68'])/musyc_photoz\n",
    "    \n",
    "    if str(musyc_photoz_err)=='nan':\n",
    "        musyc_photoz_err = 99\n",
    "    if musyc_photoz < 0:\n",
    "        musyc_photoz_err=99\n",
    "    \n",
    "    #First, if SDSS, just use those values\n",
    "    if galaxy['IMAGING'].strip()=='SDSS':\n",
    "        if str(galaxy['REDSHIFT'])=='nan':\n",
    "            return(0,'','')\n",
    "        else:\n",
    "            return(galaxy['REDSHIFT'],'','SDSS')\n",
    "\n",
    "    \n",
    "    \n",
    "    #Order of operations to determine which redshift to use:\n",
    "    #1) If high quality specz exists in Griffiths catalog, use that first. \n",
    "    if griffith_specz==griffith_bestz and griffith_specz > 0 and griffith_specz < 9:\n",
    "        return griffith_specz,'SPEC_Z','Griffith'\n",
    "        \n",
    "    #if no specz in Griffith, check 3Dhst\n",
    "    elif dhst_specz == dhst_bestz and dhst_specz >0 and dhst_specz <9: \n",
    "            return dhst_bestz,'SPEC_Z','3DHST'\n",
    "    #if no specz in Griffith or 3Dhst, check MUSYC:\n",
    "    elif musyc_specz > 0 and musyc_specz < 9:\n",
    "            return musyc_specz, 'SPEC_Z','MUSYC'\n",
    "        \n",
    "    else: #no speczs, so check which photoz or grism has smallest error. \n",
    "        photoz_list = [[griffith_photoz,griffith_photoz_err,'PHOTO_Z','Griffith'],[dhst_photoz,dhst_photoz_err,'PHOTO_Z','3DHST'],[uv_photoz,uv_photoz_err,'PHOTO_Z','UltraVISTA'],[dhst_grismz,dhst_grismz_err,'GRISM_Z','3DHST'],[musyc_photoz,musyc_photoz_err,'PHOTO_Z','MUSYC']]\n",
    "        photoz_list = sorted(photoz_list, key=itemgetter(1)) #sort by which has smallest error            \n",
    "        # if photo_z is a real number: \n",
    "        if photoz_list[0][0] > 0 and photoz_list[0][0] <9:\n",
    "            return photoz_list[0][0],photoz_list[0][2],photoz_list[0][3]\n",
    "        #else no good redshifts anywhere, return blank\n",
    "        else:\n",
    "            return 0,'',''"
   ]
  },
  {
   "cell_type": "code",
   "execution_count": 26,
   "metadata": {
    "collapsed": false,
    "scrolled": true
   },
   "outputs": [
    {
     "name": "stdout",
     "output_type": "stream",
     "text": [
      "0\n",
      "10000\n",
      "20000\n",
      "30000\n",
      "40000\n",
      "50000\n",
      "60000"
     ]
    },
    {
     "name": "stderr",
     "output_type": "stream",
     "text": [
      "/usr/local/lib/python2.7/dist-packages/ipykernel/__main__.py:12: RuntimeWarning: divide by zero encountered in float_scalars\n",
      "/usr/local/lib/python2.7/dist-packages/ipykernel/__main__.py:12: RuntimeWarning: invalid value encountered in float_scalars\n"
     ]
    },
    {
     "name": "stdout",
     "output_type": "stream",
     "text": [
      "\n",
      "70000\n",
      "80000\n",
      "90000\n",
      "100000\n",
      "110000\n",
      "120000\n",
      "130000\n",
      "140000\n",
      "150000\n",
      "160000\n",
      "170000\n",
      "180000\n"
     ]
    }
   ],
   "source": [
    "for g,galaxy in enumerate(updated_table):\n",
    "    galaxy['Z_BEST'], galaxy['Z_BEST_TYPE'], galaxy['Z_BEST_SOURCE'] = get_best_redshift(galaxy)\n",
    "    if g % 10000==0:\n",
    "        print g "
   ]
  },
  {
   "cell_type": "code",
   "execution_count": 27,
   "metadata": {
    "collapsed": false
   },
   "outputs": [],
   "source": [
    "updated_table.write('/home/mel/Dropbox/gzhubble/hubble_files/gzh_redshift_data/best_redshift_table_%i_%i_%i.fits'%(datetime.now().month,datetime.now().day,datetime.now().year),overwrite=True)\n"
   ]
  },
  {
   "cell_type": "code",
   "execution_count": 3,
   "metadata": {
    "collapsed": false
   },
   "outputs": [
    {
     "name": "stderr",
     "output_type": "stream",
     "text": [
      "/usr/local/lib/python2.7/dist-packages/requests/packages/urllib3/util/ssl_.py:315: SNIMissingWarning: An HTTPS request has been made, but the SNI (Subject Name Indication) extension to TLS is not available on this platform. This may cause the server to present an incorrect TLS certificate, which can cause validation failures. For more information, see https://urllib3.readthedocs.org/en/latest/security.html#snimissingwarning.\n",
      "  SNIMissingWarning\n",
      "/usr/local/lib/python2.7/dist-packages/requests/packages/urllib3/util/ssl_.py:120: InsecurePlatformWarning: A true SSLContext object is not available. This prevents urllib3 from configuring SSL appropriately and may cause certain SSL connections to fail. For more information, see https://urllib3.readthedocs.org/en/latest/security.html#insecureplatformwarning.\n",
      "  InsecurePlatformWarning\n",
      "/usr/local/lib/python2.7/dist-packages/requests/packages/urllib3/util/ssl_.py:120: InsecurePlatformWarning: A true SSLContext object is not available. This prevents urllib3 from configuring SSL appropriately and may cause certain SSL connections to fail. For more information, see https://urllib3.readthedocs.org/en/latest/security.html#insecureplatformwarning.\n",
      "  InsecurePlatformWarning\n"
     ]
    }
   ],
   "source": [
    "#read table if coming back to code later:\n",
    "fname = download_from_dropbox('https://www.dropbox.com/s/5wt2650l8mf1797/best_redshift_table_3_3_2016.fits?dl=1')\n",
    "updated_table = Table.read(fname)"
   ]
  },
  {
   "cell_type": "code",
   "execution_count": 4,
   "metadata": {
    "collapsed": false
   },
   "outputs": [
    {
     "name": "stdout",
     "output_type": "stream",
     "text": [
      "for survey GEMS:\n",
      "for source \n",
      ":  = 561\n",
      "SPEC_Z:  = 0\n",
      "GRISM_Z:  = 0\n",
      "PHOTO_Z:  = 0\n",
      "for source 3DHST\n",
      ":  = 0\n",
      "SPEC_Z:  = 6\n",
      "GRISM_Z:  = 99\n",
      "PHOTO_Z:  = 40\n",
      "for source MUSYC\n",
      ":  = 0\n",
      "SPEC_Z:  = 279\n",
      "GRISM_Z:  = 0\n",
      "PHOTO_Z:  = 7304\n",
      "for source Griffith\n",
      ":  = 0\n",
      "SPEC_Z:  = 387\n",
      "GRISM_Z:  = 0\n",
      "PHOTO_Z:  = 628\n",
      "for source UltraVISTA\n",
      ":  = 0\n",
      "SPEC_Z:  = 0\n",
      "GRISM_Z:  = 0\n",
      "PHOTO_Z:  = 0\n",
      "\n",
      "for survey GOODS-S:\n",
      "for source \n",
      ":  = 319\n",
      "SPEC_Z:  = 0\n",
      "GRISM_Z:  = 0\n",
      "PHOTO_Z:  = 0\n",
      "for source 3DHST\n",
      ":  = 0\n",
      "SPEC_Z:  = 103\n",
      "GRISM_Z:  = 369\n",
      "PHOTO_Z:  = 37\n",
      "for source MUSYC\n",
      ":  = 0\n",
      "SPEC_Z:  = 287\n",
      "GRISM_Z:  = 0\n",
      "PHOTO_Z:  = 275\n",
      "for source Griffith\n",
      ":  = 0\n",
      "SPEC_Z:  = 3016\n",
      "GRISM_Z:  = 0\n",
      "PHOTO_Z:  = 507\n",
      "for source UltraVISTA\n",
      ":  = 0\n",
      "SPEC_Z:  = 0\n",
      "GRISM_Z:  = 0\n",
      "PHOTO_Z:  = 0\n",
      "\n",
      "for survey GOODS-S-FULLDEPTH:\n",
      "for source \n",
      ":  = 102\n",
      "SPEC_Z:  = 0\n",
      "GRISM_Z:  = 0\n",
      "PHOTO_Z:  = 0\n",
      "for source 3DHST\n",
      ":  = 0\n",
      "SPEC_Z:  = 327\n",
      "GRISM_Z:  = 1348\n",
      "PHOTO_Z:  = 281\n",
      "for source MUSYC\n",
      ":  = 0\n",
      "SPEC_Z:  = 816\n",
      "GRISM_Z:  = 0\n",
      "PHOTO_Z:  = 1184\n",
      "for source Griffith\n",
      ":  = 0\n",
      "SPEC_Z:  = 1080\n",
      "GRISM_Z:  = 0\n",
      "PHOTO_Z:  = 4\n",
      "for source UltraVISTA\n",
      ":  = 0\n",
      "SPEC_Z:  = 0\n",
      "GRISM_Z:  = 0\n",
      "PHOTO_Z:  = 0\n",
      "\n",
      "for survey GOODS-N-FULLDEPTH:\n",
      "for source \n",
      ":  = 687\n",
      "SPEC_Z:  = 0\n",
      "GRISM_Z:  = 0\n",
      "PHOTO_Z:  = 0\n",
      "for source 3DHST\n",
      ":  = 0\n",
      "SPEC_Z:  = 418\n",
      "GRISM_Z:  = 1545\n",
      "PHOTO_Z:  = 1381\n",
      "for source MUSYC\n",
      ":  = 0\n",
      "SPEC_Z:  = 0\n",
      "GRISM_Z:  = 0\n",
      "PHOTO_Z:  = 0\n",
      "for source Griffith\n",
      ":  = 0\n",
      "SPEC_Z:  = 1947\n",
      "GRISM_Z:  = 0\n",
      "PHOTO_Z:  = 37\n",
      "for source UltraVISTA\n",
      ":  = 0\n",
      "SPEC_Z:  = 0\n",
      "GRISM_Z:  = 0\n",
      "PHOTO_Z:  = 0\n",
      "\n",
      "for survey GOODS-N:\n",
      "for source \n",
      ":  = 159\n",
      "SPEC_Z:  = 0\n",
      "GRISM_Z:  = 0\n",
      "PHOTO_Z:  = 0\n",
      "for source 3DHST\n",
      ":  = 0\n",
      "SPEC_Z:  = 5\n",
      "GRISM_Z:  = 101\n",
      "PHOTO_Z:  = 253\n",
      "for source MUSYC\n",
      ":  = 0\n",
      "SPEC_Z:  = 0\n",
      "GRISM_Z:  = 0\n",
      "PHOTO_Z:  = 0\n",
      "for source Griffith\n",
      ":  = 0\n",
      "SPEC_Z:  = 1997\n",
      "GRISM_Z:  = 0\n",
      "PHOTO_Z:  = 36\n",
      "for source UltraVISTA\n",
      ":  = 0\n",
      "SPEC_Z:  = 0\n",
      "GRISM_Z:  = 0\n",
      "PHOTO_Z:  = 0\n",
      "\n",
      "for survey AEGIS:\n",
      "for source \n",
      ":  = 1134\n",
      "SPEC_Z:  = 0\n",
      "GRISM_Z:  = 0\n",
      "PHOTO_Z:  = 0\n",
      "for source 3DHST\n",
      ":  = 0\n",
      "SPEC_Z:  = 12\n",
      "GRISM_Z:  = 515\n",
      "PHOTO_Z:  = 249\n",
      "for source MUSYC\n",
      ":  = 0\n",
      "SPEC_Z:  = 0\n",
      "GRISM_Z:  = 0\n",
      "PHOTO_Z:  = 0\n",
      "for source Griffith\n",
      ":  = 0\n",
      "SPEC_Z:  = 3656\n",
      "GRISM_Z:  = 0\n",
      "PHOTO_Z:  = 2941\n",
      "for source UltraVISTA\n",
      ":  = 0\n",
      "SPEC_Z:  = 0\n",
      "GRISM_Z:  = 0\n",
      "PHOTO_Z:  = 0\n",
      "\n",
      "for survey COSMOS:\n",
      "for source \n",
      ":  = 5088\n",
      "SPEC_Z:  = 0\n",
      "GRISM_Z:  = 0\n",
      "PHOTO_Z:  = 0\n",
      "for source 3DHST\n",
      ":  = 0\n",
      "SPEC_Z:  = 35\n",
      "GRISM_Z:  = 768\n",
      "PHOTO_Z:  = 45\n",
      "for source MUSYC\n",
      ":  = 0\n",
      "SPEC_Z:  = 0\n",
      "GRISM_Z:  = 0\n",
      "PHOTO_Z:  = 0\n",
      "for source Griffith\n",
      ":  = 0\n",
      "SPEC_Z:  = 7201\n",
      "GRISM_Z:  = 0\n",
      "PHOTO_Z:  = 61613\n",
      "for source UltraVISTA\n",
      ":  = 0\n",
      "SPEC_Z:  = 0\n",
      "GRISM_Z:  = 0\n",
      "PHOTO_Z:  = 18058\n",
      "\n",
      "for survey SDSS:\n",
      "for source \n",
      ":  = 51861\n",
      "SPEC_Z:  = 0\n",
      "GRISM_Z:  = 0\n",
      "PHOTO_Z:  = 0\n",
      "for source 3DHST\n",
      ":  = 0\n",
      "SPEC_Z:  = 0\n",
      "GRISM_Z:  = 0\n",
      "PHOTO_Z:  = 0\n",
      "for source MUSYC\n",
      ":  = 0\n",
      "SPEC_Z:  = 0\n",
      "GRISM_Z:  = 0\n",
      "PHOTO_Z:  = 0\n",
      "for source Griffith\n",
      ":  = 0\n",
      "SPEC_Z:  = 0\n",
      "GRISM_Z:  = 0\n",
      "PHOTO_Z:  = 0\n",
      "for source UltraVISTA\n",
      ":  = 0\n",
      "SPEC_Z:  = 0\n",
      "GRISM_Z:  = 0\n",
      "PHOTO_Z:  = 0\n",
      "\n",
      "total  = 59911\n",
      "\n",
      "total 3DHST = 7937\n",
      "\n",
      "total MUSYC = 10145\n",
      "\n",
      "total Griffith = 85050\n",
      "\n",
      "total UltraVISTA = 18058\n",
      "\n",
      "total  = 59911\n",
      "total SPEC_Z = 21572\n",
      "total GRISM_Z = 4745\n",
      "total PHOTO_Z = 94873\n"
     ]
    }
   ],
   "source": [
    "#Check distribution of different redshifts\n",
    "imaging_list=list(set(updated_table['IMAGING']))\n",
    "\n",
    "z_sources = list(set(updated_table['Z_BEST_SOURCE']))\n",
    "z_types = list(set(updated_table['Z_BEST_TYPE']))\n",
    "for survey in imaging_list:\n",
    "    print('for survey %s:' %survey)\n",
    "    for source in z_sources: \n",
    "        print('for source %s'%source)\n",
    "        for zt in z_types:\n",
    "            print ('%s:  = %i' %(zt, ((updated_table['IMAGING'] == survey) & (updated_table['Z_BEST_SOURCE'] == source)&(updated_table['Z_BEST_TYPE'] == zt)).sum()))\n",
    "    print('')\n",
    "for source in z_sources:\n",
    "    print('total %s = %i'%(source,((updated_table['Z_BEST_SOURCE']==source)).sum()))\n",
    "    \n",
    "    print('')\n",
    "for zt in z_types:\n",
    "    print('total %s = %i'%(zt,((updated_table['Z_BEST_TYPE']==zt)).sum()))\n"
   ]
  },
  {
   "cell_type": "code",
   "execution_count": 5,
   "metadata": {
    "collapsed": false
   },
   "outputs": [
    {
     "name": "stdout",
     "output_type": "stream",
     "text": [
      "GEMS:  = 9304\n",
      "GOODS-S:  = 4913\n",
      "GOODS-S-FULLDEPTH:  = 5142\n",
      "GOODS-N-FULLDEPTH:  = 6015\n",
      "GOODS-N:  = 2551\n",
      "AEGIS:  = 8507\n",
      "COSMOS:  = 92808\n",
      "SDSS:  = 51861\n"
     ]
    }
   ],
   "source": [
    "for survey in imaging_list:\n",
    "    print ('%s:  = %i' %(survey, ((updated_table['IMAGING'] == survey).sum())))\n"
   ]
  },
  {
   "cell_type": "code",
   "execution_count": 6,
   "metadata": {
    "collapsed": false
   },
   "outputs": [],
   "source": [
    "#Compare spec-z's of Griffith, 3dhst, and MUSYIC for those that we use - ie those that have Z_BEST_TYPE = specz\n",
    "speczs = (updated_table['Z_BEST_TYPE']=='SPEC_Z')"
   ]
  },
  {
   "cell_type": "code",
   "execution_count": 7,
   "metadata": {
    "collapsed": false
   },
   "outputs": [],
   "source": [
    "griffith_specz = 'SPECZ'\n",
    "dhst_specz = 'z_spec'\n",
    "musyc_specz = 'Z_SPEC_ALL'\n"
   ]
  },
  {
   "cell_type": "code",
   "execution_count": 8,
   "metadata": {
    "collapsed": false
   },
   "outputs": [],
   "source": [
    "# quantify consistency between redshifts \n",
    "griff_dhst_diff = []\n",
    "musyc_dhst_diff = []\n",
    "griff_musyc_diff = []\n",
    "for galaxy in updated_table[speczs]:\n",
    "    if galaxy['Z']==galaxy[griffith_specz] and galaxy[griffith_specz]>0 and galaxy[griffith_specz]<9:\n",
    "        if galaxy[dhst_specz] == galaxy['z_best'] and galaxy[dhst_specz]>0 and galaxy[dhst_specz]<9: #good specz in griffith and 3dhst:\n",
    "            griff_dhst_diff.append(abs(galaxy[griffith_specz]-galaxy[dhst_specz]))\n",
    "        if galaxy[musyc_specz]>0 and galaxy[musyc_specz]<9: #good specz in griffith and musyc\n",
    "            griff_musyc_diff.append(abs(galaxy[griffith_specz]-galaxy[musyc_specz]))\n",
    "    if galaxy[musyc_specz]>0 and galaxy[musyc_specz]<9: \n",
    "        if galaxy[dhst_specz] == galaxy['z_best'] and galaxy[dhst_specz]>0 and galaxy[dhst_specz]<9: #good specz in musyc and 3dhst:\n",
    "            musyc_dhst_diff.append(abs(galaxy[musyc_specz]-galaxy[dhst_specz]))\n",
    "\n",
    "griff_musyc_percent = float(len(griff_musyc_diff) - sum(i>.05 for i in griff_musyc_diff))/len(griff_musyc_diff)\n",
    "griff_dhst_percent = float(len(griff_dhst_diff) - sum(i>.05 for i in griff_dhst_diff))/len(griff_dhst_diff)\n",
    "dhst_musyc_percent = float(len(musyc_dhst_diff) - sum(i>.05 for i in musyc_dhst_diff))/len(musyc_dhst_diff)"
   ]
  },
  {
   "cell_type": "code",
   "execution_count": 32,
   "metadata": {
    "collapsed": false
   },
   "outputs": [
    {
     "name": "stderr",
     "output_type": "stream",
     "text": [
      "/usr/lib/pymodules/python2.7/matplotlib/collections.py:548: FutureWarning: elementwise comparison failed; returning scalar instead, but in the future will perform elementwise comparison\n",
      "  if self._edgecolors == 'face':\n"
     ]
    },
    {
     "data": {
      "image/png": "[encoded data removed]",
      "text/plain": [
       "<matplotlib.figure.Figure at 0x7f1255d76990>"
      ]
     },
     "metadata": {},
     "output_type": "display_data"
    }
   ],
   "source": [
    "f=plt.figure(figsize=(17,5))\n",
    "gs=gridspec.GridSpec(1,3)\n",
    "gs.update(wspace=.25)\n",
    "\n",
    "size = 1\n",
    "plt.rcParams['xtick.labelsize'] = 14\n",
    "plt.rcParams['ytick.labelsize'] = 14 \n",
    "\n",
    "\n",
    "ax1=plt.subplot(gs[0,0])\n",
    "plt.scatter(updated_table[griffith_specz],updated_table[dhst_specz],s=size)\n",
    "ax1.annotate(\"{0:.2f}%\".format(griff_dhst_percent * 100),fontsize=15,xy=(.05,.95),xycoords='axes fraction',verticalalignment='top')\n",
    "plt.xlabel('$ \\mathrm{Griffith} $',fontsize=20)\n",
    "plt.ylabel('$ \\mathrm{3DHST} $',fontsize=20)\n",
    "\n",
    "plt.xlim(0,4)\n",
    "plt.ylim(0,4)\n",
    "\n",
    "ax2 = plt.subplot(gs[0,1])\n",
    "plt.scatter(updated_table[dhst_specz],updated_table[musyc_specz],s=size)\n",
    "ax2.annotate(\"{0:.2f}%\".format(dhst_musyc_percent * 100),fontsize=15,xy=(.05,.95),xycoords='axes fraction',verticalalignment='top')\n",
    "plt.xlabel('$ \\mathrm{3DHST} $',fontsize=20)\n",
    "plt.ylabel('$ \\mathrm{MUSYC} $',fontsize=20)\n",
    "\n",
    "plt.xlim(0,4)\n",
    "plt.ylim(0,4)\n",
    "\n",
    "\n",
    "ax3 = plt.subplot(gs[0,2])\n",
    "plt.scatter(updated_table[musyc_specz],updated_table[griffith_specz],s=size)\n",
    "ax3.annotate(\"{0:.2f}%\".format(griff_musyc_percent * 100),fontsize=15,xy=(.05,.95),xycoords='axes fraction',verticalalignment='top')\n",
    "plt.xlabel('$ \\mathrm{MUSYC} $',fontsize=20)\n",
    "plt.ylabel('$ \\mathrm{Griffith} $',fontsize=20)\n",
    "\n",
    "plt.xlim(0,4)\n",
    "plt.ylim(0,4)\n",
    "\n",
    "plt.savefig('../writeup/figures/specz_comparison.pdf')"
   ]
  },
  {
   "cell_type": "code",
   "execution_count": 25,
   "metadata": {
    "collapsed": false
   },
   "outputs": [],
   "source": [
    "list(set(updated_table['IMAGING']))\n",
    "not_sdss=(updated_table['IMAGING']!='SDSS')\n",
    "sdss=(updated_table['IMAGING']=='SDSS')"
   ]
  },
  {
   "cell_type": "code",
   "execution_count": 46,
   "metadata": {
    "collapsed": false
   },
   "outputs": [
    {
     "data": {
      "text/plain": [
       "<matplotlib.legend.Legend at 0x7f89b272edd0>"
      ]
     },
     "execution_count": 46,
     "metadata": {},
     "output_type": "execute_result"
    },
    {
     "data": {
      "image/png": "[encoded data removed]",
      "text/plain": [
       "<matplotlib.figure.Figure at 0x7f89b2899ed0>"
      ]
     },
     "metadata": {},
     "output_type": "display_data"
    }
   ],
   "source": [
    "plt.rcParams['xtick.labelsize']=20\n",
    "\n",
    "plt.hist(updated_table[not_sdss]['Z_BEST'],range=(0,2),bins=10,histtype='stepfilled',alpha=.5,label='HST')\n",
    "plt.hist(updated_table[sdss]['Z_BEST'],range=(0,2),bins=10,histtype='stepfilled',alpha=.5,label='SDSS',color='m')\n",
    "plt.xlabel('z',fontsize=25)\n",
    "plt.tick_params(labelleft='off')\n",
    "plt.legend()"
   ]
  },
  {
   "cell_type": "code",
   "execution_count": 47,
   "metadata": {
    "collapsed": true
   },
   "outputs": [],
   "source": [
    "## Add flag column for galaxies with discrepant spec-zs. \n",
    "table_with_flag = updated_table.copy(copy_data=True)\n",
    "\n",
    "flagcol=Table.Column(name='z_spec_flag',length=len(updated_table))\n",
    "table_with_flag.add_columns([flagcol])"
   ]
  },
  {
   "cell_type": "code",
   "execution_count": 58,
   "metadata": {
    "collapsed": false
   },
   "outputs": [],
   "source": [
    "#If any speczs differ by dz = 0.001, flag\n",
    "dz = .001\n",
    "for gal in table_with_flag:\n",
    "    if gal['Z_BEST_TYPE']=='SPEC_Z':\n",
    "        if (abs(gal['SPECZ']-gal['z_spec'])>dz and gal['SPECZ']>0 and gal['SPECZ']<9 and gal['z_spec']>0 and gal['z_spec']<9) or (abs(gal['SPECZ']-gal['Z_SPEC_ALL'])>dz and gal['SPECZ']>0 and gal['SPECZ']<9 and gal['Z_SPEC_ALL']>0 and gal['Z_SPEC_ALL']<9) or (abs(gal['z_spec']-gal['Z_SPEC_ALL'])>dz and gal['Z_SPEC_ALL']>0 and gal['Z_SPEC_ALL']<9 and gal['z_spec']>0 and gal['z_spec']<9):\n",
    "            gal['z_spec_flag']=1\n",
    "        else:\n",
    "            gal['z_spec_flag']=0\n",
    "    else:\n",
    "        gal['z_spec_flag']=0"
   ]
  },
  {
   "cell_type": "code",
   "execution_count": 49,
   "metadata": {
    "collapsed": true
   },
   "outputs": [],
   "source": [
    "table_with_flag.write('/home/mel/Dropbox/gzhubble/hubble_files/gzh_redshift_data/best_redshift_table_with_flag_%i_%i_%i.fits'%(datetime.now().month,datetime.now().day,datetime.now().year),overwrite=True)\n"
   ]
  },
  {
   "cell_type": "code",
   "execution_count": null,
   "metadata": {
    "collapsed": false
   },
   "outputs": [],
   "source": []
  },
  {
   "cell_type": "code",
   "execution_count": null,
   "metadata": {
    "collapsed": false
   },
   "outputs": [],
   "source": []
  },
  {
   "cell_type": "code",
   "execution_count": 50,
   "metadata": {
    "collapsed": false
   },
   "outputs": [],
   "source": [
    "flags = (table_with_flag['z_spec_flag']==1) \n",
    "specz = (table_with_flag['Z_BEST_TYPE']=='SPEC_Z')"
   ]
  },
  {
   "cell_type": "code",
   "execution_count": null,
   "metadata": {
    "collapsed": false
   },
   "outputs": [],
   "source": []
  },
  {
   "cell_type": "code",
   "execution_count": null,
   "metadata": {
    "collapsed": false
   },
   "outputs": [],
   "source": []
  },
  {
   "cell_type": "code",
   "execution_count": null,
   "metadata": {
    "collapsed": false
   },
   "outputs": [],
   "source": []
  },
  {
   "cell_type": "code",
   "execution_count": null,
   "metadata": {
    "collapsed": true
   },
   "outputs": [],
   "source": []
  }
 ],
 "metadata": {
  "kernelspec": {
   "display_name": "Python 2",
   "language": "python",
   "name": "python2"
  },
  "language_info": {
   "codemirror_mode": {
    "name": "ipython",
    "version": 2
   },
   "file_extension": ".py",
   "mimetype": "text/x-python",
   "name": "python",
   "nbconvert_exporter": "python",
   "pygments_lexer": "ipython2",
   "version": "2.7.6"
  }
 },
 "nbformat": 4,
 "nbformat_minor": 0
}
