{
 "metadata": {
  "name": ""
 },
 "nbformat": 3,
 "nbformat_minor": 0,
 "worksheets": [
  {
   "cells": [
    {
     "cell_type": "code",
     "collapsed": false,
     "input": [
      "%matplotlib inline\n",
      "\n",
      "from astropy.io import fits as pyfits\n",
      "from astropy.table import Table\n",
      "import numpy as np\n",
      "from astropy.io.fits import Column\n",
      "from datetime import datetime\n",
      "import matplotlib.pyplot as plt"
     ],
     "language": "python",
     "metadata": {},
     "outputs": [],
     "prompt_number": 43
    },
    {
     "cell_type": "code",
     "collapsed": false,
     "input": [
      "#The input table has the same information as gz_hst_table.fits, but the column names have been changed to match the \n",
      "#new ones defined in this code below. \n",
      "votes_data=Table.read('/home/mel/Documents/GZ_HUBBLE/gz_hst_votes_and_meta_acs.fits',1)\n",
      "#votes_data=votes_data[1].data\n",
      "#Metadata for each galaxy so that we only include debiased vote fractions for galaxies in the 'correctable'\n",
      "#surface brightness and redshift space. \n",
      "#meta_data=pyfits.open('/home/mel/Documents/GZ_HUBBLE/gz_hst_info_acs.fits')\n",
      "#meta_data=meta_data[1].data"
     ],
     "language": "python",
     "metadata": {},
     "outputs": [],
     "prompt_number": 55
    },
    {
     "cell_type": "code",
     "collapsed": false,
     "input": [
      "subjects=set(votes_data['objid'])"
     ],
     "language": "python",
     "metadata": {},
     "outputs": [],
     "prompt_number": 57
    },
    {
     "cell_type": "code",
     "collapsed": false,
     "input": [
      "#And here we define our new table!\n",
      "intcolumn = np.zeros(len(subjects),dtype=int)\n",
      "floatcolumn = np.zeros(len(subjects),dtype=float)\n",
      "strcolumn = np.array([' ']*len(subjects),dtype='S24')\n",
      "   #S24=24 character string \n",
      "    #c01 = Column(name='num_classifications', format='J', array=floatcolumn)          # c05 = c01, by definition\n",
      "\n",
      "#format for Columns: D = double precision floating point, J = integer\n",
      "c00 = Column(name='objid', format='A24', array=strcolumn) \n",
      "c00t1 = Column(name='total_count',format='J',array=intcolumn)           #c00t1 = c01a1a, by definition\n",
      "c00t2 = Column(name='total_weight',format='D',array=floatcolumn)\n",
      "\n",
      "#Columns for Task 01 \"Smooth or features\"\n",
      "c01cat = Column(name='Correctable_Category', format = 'A24', array=strcolumn)\n",
      "c01a1a = Column(name='t01_smooth_or_features_a01_smooth_count', format='J', array=intcolumn)\n",
      "c01a1b = Column(name='t01_smooth_or_features_a01_smooth_weight', format='D', array=floatcolumn)\n",
      "c01a1c = Column(name='t01_smooth_or_features_a01_smooth_fraction', format='D', array=floatcolumn)\n",
      "c01a1d = Column(name='t01_smooth_or_features_a01_smooth_weighted_fraction', format='D', array=floatcolumn)\n",
      "\n",
      "c01a2a = Column(name='t01_smooth_or_features_a02_features_or_disk_count', format='J', array=intcolumn)\n",
      "c01a2b = Column(name='t01_smooth_or_features_a02_features_or_disk_weight', format='D', array=floatcolumn)\n",
      "c01a2c = Column(name='t01_smooth_or_features_a02_features_or_disk_fraction', format='D', array=floatcolumn)\n",
      "c01a2d = Column(name='t01_smooth_or_features_a02_features_or_disk_weighted_fraction', format='D', array=floatcolumn)\n",
      "c01a2e = Column(name='t01_smooth_or_features_a02_features_or_disk_debiased_fraction', format='D', array=floatcolumn)\n",
      "c01a2f = Column(name='t01_smooth_or_features_a02_features_or_disk_lower_limit', format='D',array=floatcolumn)\n",
      "c01a2g = Column(name='t01_smooth_or_features_a02_features_or_disk_upper_limit', format='D',array=floatcolumn)\n",
      "c01a2h = Column(name='t01_smooth_or_features_a02_features_or_disk_best_fraction',format='D',array=floatcolumn)\n",
      "\n",
      "c01a3a = Column(name='t01_smooth_or_features_a03_star_or_artifact_count', format='J', array=intcolumn)\n",
      "c01a3b = Column(name='t01_smooth_or_features_a03_star_or_artifact_weight', format='D', array=floatcolumn)\n",
      "c01a3c = Column(name='t01_smooth_or_features_a03_star_or_artifact_fraction', format='D', array=floatcolumn)\n",
      "c01a3d = Column(name='t01_smooth_or_features_a03_star_or_artifact_weighted_fraction', format='D', array=floatcolumn)\n",
      "\n",
      "c01t1 = Column(name='t01_smooth_or_features_total_count', format='J', array=intcolumn)\n",
      "c01t2 = Column(name='t01_smooth_or_features_total_weight', format='D', array=floatcolumn)\n",
      "\n",
      "\n",
      "#Columns for Task 02 \"Edge on\"\n",
      "c02a1a = Column(name='t02_edgeon_a01_yes_count', format='J', array=intcolumn)\n",
      "c02a1b = Column(name='t02_edgeon_a01_yes_weight', format='D', array=floatcolumn)\n",
      "c02a1c = Column(name='t02_edgeon_a01_yes_fraction', format='D', array=floatcolumn)\n",
      "c02a1d = Column(name='t02_edgeon_a01_yes_weighted_fraction', format='D', array=floatcolumn)\n",
      "\n",
      "c02a2a = Column(name='t02_edgeon_a02_no_count', format='J', array=intcolumn)\n",
      "c02a2b = Column(name='t02_edgeon_a02_no_weight', format='D', array=floatcolumn)\n",
      "c02a2c = Column(name='t02_edgeon_a02_no_fraction', format='D', array=floatcolumn)\n",
      "c02a2d = Column(name='t02_edgeon_a02_no_weighted_fraction', format='D', array=floatcolumn)\n",
      "\n",
      "c02t1 = Column(name='t02_edgeon_total_count', format='J', array=intcolumn)\n",
      "c02t2 = Column(name='t02_edgeon_total_weight', format='D', array=floatcolumn)\n",
      "\n",
      "\n",
      "#Columns for Task 03 \"Bar\"\n",
      "c03a1a = Column(name='t03_bar_a01_bar_count', format='J', array=intcolumn)\n",
      "c03a1b = Column(name='t03_bar_a01_bar_weight', format='D', array=floatcolumn)\n",
      "c03a1c = Column(name='t03_bar_a01_bar_fraction', format='D', array=floatcolumn)\n",
      "c03a1d = Column(name='t03_bar_a01_bar_weighted_fraction', format='D', array=floatcolumn)\n",
      "\n",
      "c03a2a = Column(name='t03_bar_a02_no_bar_count', format='J', array=intcolumn)\n",
      "c03a2b = Column(name='t03_bar_a02_no_bar_weight', format='D', array=floatcolumn)\n",
      "c03a2c = Column(name='t03_bar_a02_no_bar_fraction', format='D', array=floatcolumn)\n",
      "c03a2d = Column(name='t03_bar_a02_no_bar_weighted_fraction', format='D', array=floatcolumn)\n",
      "\n",
      "c03t1 = Column(name='t03_bar_total_count', format='J', array=intcolumn)\n",
      "c03t2 = Column(name='t03_bar_total_weight', format='D', array=floatcolumn)\n",
      "\n",
      "\n",
      "#Columns for Task 04 \"Spiral Arms\"\n",
      "c04a1a = Column(name='t04_spiral_a01_spiral_count', format='J', array=intcolumn)\n",
      "c04a1b = Column(name='t04_spiral_a01_spiral_weight', format='D', array=floatcolumn)\n",
      "c04a1c = Column(name='t04_spiral_a01_spiral_fraction', format='D', array=floatcolumn)\n",
      "c04a1d = Column(name='t04_spiral_a01_spiral_weighted_fraction', format='D', array=floatcolumn)\n",
      "\n",
      "c04a2a = Column(name='t04_spiral_a02_no_spiral_count', format='J', array=intcolumn)\n",
      "c04a2b = Column(name='t04_spiral_a02_no_spiral_weight', format='D', array=floatcolumn)\n",
      "c04a2c = Column(name='t04_spiral_a02_no_spiral_fraction', format='D', array=floatcolumn)\n",
      "c04a2d = Column(name='t04_spiral_a02_no_spiral_weighted_fraction', format='D', array=floatcolumn)\n",
      "\n",
      "c04t1 = Column(name='t04_spiral_total_count', format='J', array=intcolumn)\n",
      "c04t2 = Column(name='t04_spiral_total_weight', format='D', array=floatcolumn)\n",
      "\n",
      "\n",
      "#Columns for Task 05 \"Bulge Prominence\"\n",
      "c05a1a = Column(name='t05_bulge_prominence_a01_no_bulge_count', format='J', array=intcolumn)\n",
      "c05a1b = Column(name='t05_bulge_prominence_a01_no_bulge_weight', format='D', array=floatcolumn)\n",
      "c05a1c = Column(name='t05_bulge_prominence_a01_no_bulge_fraction', format='D', array=floatcolumn)\n",
      "c05a1d = Column(name='t05_bulge_prominence_a01_no_bulge_weighted_fraction', format='D', array=floatcolumn)\n",
      "\n",
      "c05a2a = Column(name='t05_bulge_prominence_a02_just_noticeable_count', format='J', array=intcolumn)\n",
      "c05a2b = Column(name='t05_bulge_prominence_a02_just_noticeable_weight', format='D', array=floatcolumn)\n",
      "c05a2c = Column(name='t05_bulge_prominence_a02_just_noticeable_fraction', format='D', array=floatcolumn)\n",
      "c05a2d = Column(name='t05_bulge_prominence_a02_just_noticeable_weighted_fraction', format='D', array=floatcolumn)\n",
      "\n",
      "c05a3a = Column(name='t05_bulge_prominence_a03_obvious_count', format='J', array=intcolumn)\n",
      "c05a3b = Column(name='t05_bulge_prominence_a03_obvious_weight', format='D', array=floatcolumn)\n",
      "c05a3c = Column(name='t05_bulge_prominence_a03_obvious_fraction', format='D', array=floatcolumn)\n",
      "c05a3d = Column(name='t05_bulge_prominence_a03_obvious_weighted_fraction', format='D', array=floatcolumn)\n",
      "\n",
      "c05a4a = Column(name='t05_bulge_prominence_a04_dominant_count', format='J', array=intcolumn)\n",
      "c05a4b = Column(name='t05_bulge_prominence_a04_dominant_weight', format='D', array=floatcolumn)\n",
      "c05a4c = Column(name='t05_bulge_prominence_a04_dominant_fraction', format='D', array=floatcolumn)\n",
      "c05a4d = Column(name='t05_bulge_prominence_a04_dominant_weighted_fraction', format='D', array=floatcolumn)\n",
      "\n",
      "c05t1 = Column(name='t05_bulge_prominence_total_count', format='J', array=intcolumn)\n",
      "c05t2 = Column(name='t05_bulge_prominence_total_weight', format='D', array=floatcolumn)\n",
      "\n",
      "\n",
      "#Columns for Task 06 \"Odd\"\n",
      "c06a1a = Column(name='t06_odd_a01_yes_count', format='J', array=intcolumn)\n",
      "c06a1b = Column(name='t06_odd_a01_yes_weight', format='D', array=floatcolumn)\n",
      "c06a1c = Column(name='t06_odd_a01_yes_fraction', format='D', array=floatcolumn)\n",
      "c06a1d = Column(name='t06_odd_a01_yes_weighted_fraction', format='D', array=floatcolumn)\n",
      "\n",
      "c06a2a = Column(name='t06_odd_a02_no_count', format='J', array=intcolumn)\n",
      "c06a2b = Column(name='t06_odd_a02_no_weight', format='D', array=floatcolumn)\n",
      "c06a2c = Column(name='t06_odd_a02_no_fraction', format='D', array=floatcolumn)\n",
      "c06a2d = Column(name='t06_odd_a02_no_weighted_fraction', format='D', array=floatcolumn)\n",
      "\n",
      "c06t1 = Column(name='t06_odd_total_count', format='J', array=intcolumn)\n",
      "c06t2 = Column(name='t06_odd_total_weight', format='D', array=floatcolumn)\n",
      "\n",
      "#Columns for Task 07 \"Rounded\"\n",
      "c07a1a = Column(name='t07_rounded_a01_completely_round_count', format='J', array=intcolumn)\n",
      "c07a1b = Column(name='t07_rounded_a01_completely_round_weight', format='D', array=floatcolumn)\n",
      "c07a1c = Column(name='t07_rounded_a01_completely_round_fraction', format='D', array=floatcolumn)\n",
      "c07a1d = Column(name='t07_rounded_a01_completely_round_weighted_fraction', format='D', array=floatcolumn)\n",
      "\n",
      "c07a2a = Column(name='t07_rounded_a02_in_between_count', format='J', array=intcolumn)\n",
      "c07a2b = Column(name='t07_rounded_a02_in_between_weight', format='D', array=floatcolumn)\n",
      "c07a2c = Column(name='t07_rounded_a02_in_between_fraction', format='D', array=floatcolumn)\n",
      "c07a2d = Column(name='t07_rounded_a02_in_between_weighted_fraction', format='D', array=floatcolumn)\n",
      "\n",
      "c07a3a = Column(name='t07_rounded_a03_cigar_shaped_count', format='J', array=intcolumn)\n",
      "c07a3b = Column(name='t07_rounded_a03_cigar_shaped_weight', format='D', array=floatcolumn)\n",
      "c07a3c = Column(name='t07_rounded_a03_cigar_shaped_fraction', format='D', array=floatcolumn)\n",
      "c07a3d = Column(name='t07_rounded_a03_cigar_shaped_weighted_fraction', format='D', array=floatcolumn)\n",
      "\n",
      "c07t1 = Column(name='t07_rounded_total_count', format='J', array=intcolumn)\n",
      "c07t2 = Column(name='t07_rounded_total_weight', format='D', array=floatcolumn)\n",
      "\n",
      "#Columns for Task 08 \"Odd Feature\"\n",
      "c08a1a = Column(name='t08_odd_feature_a01_ring_count', format='J', array=intcolumn)\n",
      "c08a1b = Column(name='t08_odd_feature_a01_ring_weight', format='D', array=floatcolumn)\n",
      "c08a1c = Column(name='t08_odd_feature_a01_ring_fraction', format='D', array=floatcolumn)\n",
      "c08a1d = Column(name='t08_odd_feature_a01_ring_weighted_fraction', format='D', array=floatcolumn)\n",
      "\n",
      "c08a2a = Column(name='t08_odd_feature_a02_lens_or_arc_count', format='J', array=intcolumn)\n",
      "c08a2b = Column(name='t08_odd_feature_a02_lens_or_arc_weight', format='D', array=floatcolumn)\n",
      "c08a2c = Column(name='t08_odd_feature_a02_lens_or_arc_fraction', format='D', array=floatcolumn)\n",
      "c08a2d = Column(name='t08_odd_feature_a02_lens_or_arc_weighted_fraction', format='D', array=floatcolumn)\n",
      "\n",
      "c08a3a = Column(name='t08_odd_feature_a03_disturbed_count', format='J', array=intcolumn)\n",
      "c08a3b = Column(name='t08_odd_feature_a03_disturbed_weight', format='D', array=floatcolumn)\n",
      "c08a3c = Column(name='t08_odd_feature_a03_disturbed_fraction', format='D', array=floatcolumn)\n",
      "c08a3d = Column(name='t08_odd_feature_a03_disturbed_weighted_fraction', format='D', array=floatcolumn)\n",
      "\n",
      "c08a4a = Column(name='t08_odd_feature_a04_irregular_count', format='J', array=intcolumn)\n",
      "c08a4b = Column(name='t08_odd_feature_a04_irregular_weight', format='D', array=floatcolumn)\n",
      "c08a4c = Column(name='t08_odd_feature_a04_irregular_fraction', format='D', array=floatcolumn)\n",
      "c08a4d = Column(name='t08_odd_feature_a04_irregular_weighted_fraction', format='D', array=floatcolumn)\n",
      "\n",
      "c08a5a = Column(name='t08_odd_feature_a05_other_count', format='J', array=intcolumn)\n",
      "c08a5b = Column(name='t08_odd_feature_a05_other_weight', format='D', array=floatcolumn)\n",
      "c08a5c = Column(name='t08_odd_feature_a05_other_fraction', format='D', array=floatcolumn)\n",
      "c08a5d = Column(name='t08_odd_feature_a05_other_weighted_fraction', format='D', array=floatcolumn)\n",
      "\n",
      "c08a6a = Column(name='t08_odd_feature_a06_merger_count', format='J', array=intcolumn)\n",
      "c08a6b = Column(name='t08_odd_feature_a06_merger_weight', format='D', array=floatcolumn)\n",
      "c08a6c = Column(name='t08_odd_feature_a06_merger_fraction', format='D', array=floatcolumn)\n",
      "c08a6d = Column(name='t08_odd_feature_a06_merger_weighted_fraction', format='D', array=floatcolumn)\n",
      "\n",
      "c08a7a = Column(name='t08_odd_feature_a07_dust_lane_count', format='J', array=intcolumn)\n",
      "c08a7b = Column(name='t08_odd_feature_a07_dust_lane_weight', format='D', array=floatcolumn)\n",
      "c08a7c = Column(name='t08_odd_feature_a07_dust_lane_fraction', format='D', array=floatcolumn)\n",
      "c08a7d = Column(name='t08_odd_feature_a07_dust_lane_weighted_fraction', format='D', array=floatcolumn)\n",
      "\n",
      "c08t1 = Column(name='t08_odd_feature_total_count', format='J', array=intcolumn)\n",
      "c08t2 = Column(name='t08_odd_feature_total_weight', format='D', array=floatcolumn)\n",
      "\n",
      "#Columns for Task 09 \"Bulge Shape\"\n",
      "c09a1a = Column(name='t09_bulge_shape_a01_rounded_count', format='J', array=intcolumn)\n",
      "c09a1b = Column(name='t09_bulge_shape_a01_rounded_weight', format='D', array=floatcolumn)\n",
      "c09a1c = Column(name='t09_bulge_shape_a01_rounded_fraction', format='D', array=floatcolumn)\n",
      "c09a1d = Column(name='t09_bulge_shape_a01_rounded_weighted_fraction', format='D', array=floatcolumn)\n",
      "\n",
      "c09a2a = Column(name='t09_bulge_shape_a02_boxy_count', format='J', array=intcolumn)\n",
      "c09a2b = Column(name='t09_bulge_shape_a02_boxy_weight', format='D', array=floatcolumn)\n",
      "c09a2c = Column(name='t09_bulge_shape_a02_boxy_fraction', format='D', array=floatcolumn)\n",
      "c09a2d = Column(name='t09_bulge_shape_a02_boxy_weighted_fraction', format='D', array=floatcolumn)\n",
      "\n",
      "c09a3a = Column(name='t09_bulge_shape_a03_no_bulge_count', format='J', array=intcolumn)\n",
      "c09a3b = Column(name='t09_bulge_shape_a03_no_bulge_weight', format='D', array=floatcolumn)\n",
      "c09a3c = Column(name='t09_bulge_shape_a03_no_bulge_fraction', format='D', array=floatcolumn)\n",
      "c09a3d = Column(name='t09_bulge_shape_a03_no_bulge_weighted_fraction', format='D', array=floatcolumn)\n",
      "\n",
      "c09t1 = Column(name='t09_bulge_shape_total_count', format='J', array=intcolumn)\n",
      "c09t2 = Column(name='t09_bulge_shape_total_weight', format='D', array=floatcolumn)\n",
      "\n",
      "#Columns for Task 10 \"Arms Winding\"\n",
      "c10a1a = Column(name='t10_arms_winding_a01_tight_count', format='J', array=intcolumn)\n",
      "c10a1b = Column(name='t10_arms_winding_a01_tight_weight', format='D', array=floatcolumn)\n",
      "c10a1c = Column(name='t10_arms_winding_a01_tight_fraction', format='D', array=floatcolumn)\n",
      "c10a1d = Column(name='t10_arms_winding_a01_tight_weighted_fraction', format='D', array=floatcolumn)\n",
      "\n",
      "c10a2a = Column(name='t10_arms_winding_a02_medium_count', format='J', array=intcolumn)\n",
      "c10a2b = Column(name='t10_arms_winding_a02_medium_weight', format='D', array=floatcolumn)\n",
      "c10a2c = Column(name='t10_arms_winding_a02_medium_fraction', format='D', array=floatcolumn)\n",
      "c10a2d = Column(name='t10_arms_winding_a02_medium_weighted_fraction', format='D', array=floatcolumn)\n",
      "\n",
      "c10a3a = Column(name='t10_arms_winding_a03_loose_count', format='J', array=intcolumn)\n",
      "c10a3b = Column(name='t10_arms_winding_a03_loose_weight', format='D', array=floatcolumn)\n",
      "c10a3c = Column(name='t10_arms_winding_a03_loose_fraction', format='D', array=floatcolumn)\n",
      "c10a3d = Column(name='t10_arms_winding_a03_loose_weighted_fraction', format='D', array=floatcolumn)\n",
      "\n",
      "c10t1 = Column(name='t10_arms_winding_total_count', format='J', array=intcolumn)\n",
      "c10t2 = Column(name='t10_arms_winding_total_weight', format='D', array=floatcolumn)\n",
      "\n",
      "#Columns for Task 11 \"Arms Number\"\n",
      "c11a1a = Column(name='t11_arms_number_a01_1_count', format='J', array=intcolumn)\n",
      "c11a1b = Column(name='t11_arms_number_a01_1_weight', format='D', array=floatcolumn)\n",
      "c11a1c = Column(name='t11_arms_number_a01_1_fraction', format='D', array=floatcolumn)\n",
      "c11a1d = Column(name='t11_arms_number_a01_1_weighted_fraction', format='D', array=floatcolumn)\n",
      "\n",
      "c11a2a = Column(name='t11_arms_number_a02_2_count', format='J', array=intcolumn)\n",
      "c11a2b = Column(name='t11_arms_number_a02_2_weight', format='D', array=floatcolumn)\n",
      "c11a2c = Column(name='t11_arms_number_a02_2_fraction', format='D', array=floatcolumn)\n",
      "c11a2d = Column(name='t11_arms_number_a02_2_weighted_fraction', format='D', array=floatcolumn)\n",
      "\n",
      "c11a3a = Column(name='t11_arms_number_a03_3_count', format='J', array=intcolumn)\n",
      "c11a3b = Column(name='t11_arms_number_a03_3_weight', format='D', array=floatcolumn)\n",
      "c11a3c = Column(name='t11_arms_number_a03_3_fraction', format='D', array=floatcolumn)\n",
      "c11a3d = Column(name='t11_arms_number_a03_3_weighted_fraction', format='D', array=floatcolumn)\n",
      "\n",
      "c11a4a = Column(name='t11_arms_number_a04_4_count', format='J', array=intcolumn)\n",
      "c11a4b = Column(name='t11_arms_number_a04_4_weight', format='D', array=floatcolumn)\n",
      "c11a4c = Column(name='t11_arms_number_a04_4_fraction', format='D', array=floatcolumn)\n",
      "c11a4d = Column(name='t11_arms_number_a04_4_weighted_fraction', format='D', array=floatcolumn)\n",
      "\n",
      "c11a5a = Column(name='t11_arms_number_a05_more_than_4_count', format='J', array=intcolumn)\n",
      "c11a5b = Column(name='t11_arms_number_a05_more_than_4_weight', format='D', array=floatcolumn)\n",
      "c11a5c = Column(name='t11_arms_number_a05_more_than_4_fraction', format='D', array=floatcolumn)\n",
      "c11a5d = Column(name='t11_arms_number_a05_more_than_4_weighted_fraction', format='D', array=floatcolumn)\n",
      "\n",
      "c11a6a = Column(name='t11_arms_number_a06_cant_tell_count', format='J', array=intcolumn)\n",
      "c11a6b = Column(name='t11_arms_number_a06_cant_tell_weight', format='D', array=floatcolumn)\n",
      "c11a6c = Column(name='t11_arms_number_a06_cant_tell_fraction', format='D', array=floatcolumn)\n",
      "c11a6d = Column(name='t11_arms_number_a06_cant_tell_weighted_fraction', format='D', array=floatcolumn)\n",
      "\n",
      "c11t1 = Column(name='t11_arms_number_total_count', format='J', array=intcolumn)\n",
      "c11t2 = Column(name='t11_arms_number_total_weight', format='D', array=floatcolumn)\n",
      "\n",
      "#Columns for Task 12 \"Clumpy\"\n",
      "c12a1a = Column(name='t12_clumpy_a01_yes_count', format='J', array=intcolumn)\n",
      "c12a1b = Column(name='t12_clumpy_a01_yes_weight', format='D', array=floatcolumn)\n",
      "c12a1c = Column(name='t12_clumpy_a01_yes_fraction', format='D', array=floatcolumn)\n",
      "c12a1d = Column(name='t12_clumpy_a01_yes_weighted_fraction', format='D', array=floatcolumn)\n",
      "\n",
      "c12a2a = Column(name='t12_clumpy_a02_no_count', format='J', array=intcolumn)\n",
      "c12a2b = Column(name='t12_clumpy_a02_no_weight', format='D', array=floatcolumn)\n",
      "c12a2c = Column(name='t12_clumpy_a02_no_fraction', format='D', array=floatcolumn)\n",
      "c12a2d = Column(name='t12_clumpy_a02_no_weighted_fraction', format='D', array=floatcolumn)\n",
      "\n",
      "c12t1 = Column(name='t12_clumpy_total_count', format='J', array=intcolumn)\n",
      "c12t2 = Column(name='t12_clumpy_total_weight', format='D', array=floatcolumn)\n",
      "\n",
      "#Columns for Task 13 \"Multiple Clumps\"\n",
      "c13a1a = Column(name='t13_multiple_clumps_a01_yes_count', format='J', array=intcolumn)\n",
      "c13a1b = Column(name='t13_multiple_clumps_a01_yes_weight', format='D', array=floatcolumn)\n",
      "c13a1c = Column(name='t13_multiple_clumps_a01_yes_fraction', format='D', array=floatcolumn)\n",
      "c13a1d = Column(name='t13_multiple_clumps_a01_yes_weighted_fraction', format='D', array=floatcolumn)\n",
      "\n",
      "c13a2a = Column(name='t13_multiple_clumps_a02_no_count', format='J', array=intcolumn)\n",
      "c13a2b = Column(name='t13_multiple_clumps_a02_no_weight', format='D', array=floatcolumn)\n",
      "c13a2c = Column(name='t13_multiple_clumps_a02_no_fraction', format='D', array=floatcolumn)\n",
      "c13a2d = Column(name='t13_multiple_clumps_a02_no_weighted_fraction', format='D', array=floatcolumn)\n",
      "\n",
      "c13t1 = Column(name='t13_multiple_clumps_total_count', format='J', array=intcolumn)\n",
      "c13t2 = Column(name='t13_multiple_clumps_total_weight', format='D', array=floatcolumn)\n",
      "\n",
      "\n",
      "#Columns for Task 14 \"Bright Clump\"\n",
      "c14a1a = Column(name='t14_bright_clump_a01_yes_count', format='J', array=intcolumn)\n",
      "c14a1b = Column(name='t14_bright_clump_a01_yes_weight', format='D', array=floatcolumn)\n",
      "c14a1c = Column(name='t14_bright_clump_a01_yes_fraction', format='D', array=floatcolumn)\n",
      "c14a1d = Column(name='t14_bright_clump_a01_yes_weighted_fraction', format='D', array=floatcolumn)\n",
      "\n",
      "c14a2a = Column(name='t14_bright_clump_a02_no_count', format='J', array=intcolumn)\n",
      "c14a2b = Column(name='t14_bright_clump_a02_no_weight', format='D', array=floatcolumn)\n",
      "c14a2c = Column(name='t14_bright_clump_a02_no_fraction', format='D', array=floatcolumn)\n",
      "c14a2d = Column(name='t14_bright_clump_a02_no_weighted_fraction', format='D', array=floatcolumn)\n",
      "\n",
      "c14t1 = Column(name='t14_bright_clump_total_count', format='J', array=intcolumn)\n",
      "c14t2 = Column(name='t14_bright_clump_total_weight', format='D', array=floatcolumn)\n",
      "\n",
      "\n",
      "#Columns for Task 15 \"Bright Clump Central\"\n",
      "c15a1a = Column(name='t15_bright_clump_central_a01_yes_count', format='J', array=intcolumn)\n",
      "c15a1b = Column(name='t15_bright_clump_central_a01_yes_weight', format='D', array=floatcolumn)\n",
      "c15a1c = Column(name='t15_bright_clump_central_a01_yes_fraction', format='D', array=floatcolumn)\n",
      "c15a1d = Column(name='t15_bright_clump_central_a01_yes_weighted_fraction', format='D', array=floatcolumn)\n",
      "\n",
      "c15a2a = Column(name='t15_bright_clump_central_a02_no_count', format='J', array=intcolumn)\n",
      "c15a2b = Column(name='t15_bright_clump_central_a02_no_weight', format='D', array=floatcolumn)\n",
      "c15a2c = Column(name='t15_bright_clump_central_a02_no_fraction', format='D', array=floatcolumn)\n",
      "c15a2d = Column(name='t15_bright_clump_central_a02_no_weighted_fraction', format='D', array=floatcolumn)\n",
      "\n",
      "c15t1 = Column(name='t15_bright_clump_central_total_count', format='J', array=intcolumn)\n",
      "c15t2 = Column(name='t15_bright_clump_central_total_weight', format='D', array=floatcolumn)\n",
      "\n",
      "#Columns for Task 16 \"Clumps Arrangement\"\n",
      "c16a1a = Column(name='t16_clumps_arrangement_a01_line_count', format='J', array=intcolumn)\n",
      "c16a1b = Column(name='t16_clumps_arrangement_a01_line_weight', format='D', array=floatcolumn)\n",
      "c16a1c = Column(name='t16_clumps_arrangement_a01_line_fraction', format='D', array=floatcolumn)\n",
      "c16a1d = Column(name='t16_clumps_arrangement_a01_line_weighted_fraction', format='D', array=floatcolumn)\n",
      "\n",
      "c16a2a = Column(name='t16_clumps_arrangement_a02_chain_count', format='J', array=intcolumn)\n",
      "c16a2b = Column(name='t16_clumps_arrangement_a02_chain_weight', format='D', array=floatcolumn)\n",
      "c16a2c = Column(name='t16_clumps_arrangement_a02_chain_fraction', format='D', array=floatcolumn)\n",
      "c16a2d = Column(name='t16_clumps_arrangement_a02_chain_weighted_fraction', format='D', array=floatcolumn)\n",
      "\n",
      "c16a3a = Column(name='t16_clumps_arrangement_a03_cluster_count', format='J', array=intcolumn)\n",
      "c16a3b = Column(name='t16_clumps_arrangement_a03_cluster_weight', format='D', array=floatcolumn)\n",
      "c16a3c = Column(name='t16_clumps_arrangement_a03_cluster_fraction', format='D', array=floatcolumn)\n",
      "c16a3d = Column(name='t16_clumps_arrangement_a03_cluster_weighted_fraction', format='D', array=floatcolumn)\n",
      "\n",
      "c16a4a = Column(name='t16_clumps_arrangement_a04_spiral_count', format='J', array=intcolumn)\n",
      "c16a4b = Column(name='t16_clumps_arrangement_a04_spiral_weight', format='D', array=floatcolumn)\n",
      "c16a4c = Column(name='t16_clumps_arrangement_a04_spiral_fraction', format='D', array=floatcolumn)\n",
      "c16a4d = Column(name='t16_clumps_arrangement_a04_spiral_weighted_fraction', format='D', array=floatcolumn)\n",
      "\n",
      "c16t1 = Column(name='t16_clumps_arrangement_total_count', format='J', array=intcolumn)\n",
      "c16t2 = Column(name='t16_clumps_arrangement_total_weight', format='D', array=floatcolumn)\n",
      "\n",
      "#Columns for Task 17 \"Clumps Number\"\n",
      "c17a1a = Column(name='t17_clumps_count_a01_1_count', format='J', array=intcolumn)\n",
      "c17a1b = Column(name='t17_clumps_count_a01_1_weight', format='D', array=floatcolumn)\n",
      "c17a1c = Column(name='t17_clumps_count_a01_1_fraction', format='D', array=floatcolumn)\n",
      "c17a1d = Column(name='t17_clumps_count_a01_1_weighted_fraction', format='D', array=floatcolumn)\n",
      "\n",
      "c17a2a = Column(name='t17_clumps_count_a02_2_count', format='J', array=intcolumn)\n",
      "c17a2b = Column(name='t17_clumps_count_a02_2_weight', format='D', array=floatcolumn)\n",
      "c17a2c = Column(name='t17_clumps_count_a02_2_fraction', format='D', array=floatcolumn)\n",
      "c17a2d = Column(name='t17_clumps_count_a02_2_weighted_fraction', format='D', array=floatcolumn)\n",
      "\n",
      "c17a3a = Column(name='t17_clumps_count_a03_3_count', format='J', array=intcolumn)\n",
      "c17a3b = Column(name='t17_clumps_count_a03_3_weight', format='D', array=floatcolumn)\n",
      "c17a3c = Column(name='t17_clumps_count_a03_3_fraction', format='D', array=floatcolumn)\n",
      "c17a3d = Column(name='t17_clumps_count_a03_3_weighted_fraction', format='D', array=floatcolumn)\n",
      "\n",
      "c17a4a = Column(name='t17_clumps_count_a04_4_count', format='J', array=intcolumn)\n",
      "c17a4b = Column(name='t17_clumps_count_a04_4_weight', format='D', array=floatcolumn)\n",
      "c17a4c = Column(name='t17_clumps_count_a04_4_fraction', format='D', array=floatcolumn)\n",
      "c17a4d = Column(name='t17_clumps_count_a04_4_weighted_fraction', format='D', array=floatcolumn)\n",
      "\n",
      "c17a5a = Column(name='t17_clumps_count_a05_more_than_4_count', format='J', array=intcolumn)\n",
      "c17a5b = Column(name='t17_clumps_count_a05_more_than_4_weight', format='D', array=floatcolumn)\n",
      "c17a5c = Column(name='t17_clumps_count_a05_more_than_4_fraction', format='D', array=floatcolumn)\n",
      "c17a5d = Column(name='t17_clumps_count_a05_more_than_4_weighted_fraction', format='D', array=floatcolumn)\n",
      "\n",
      "c17a6a = Column(name='t17_clumps_count_a06_cant_tell_count', format='J', array=intcolumn)\n",
      "c17a6b = Column(name='t17_clumps_count_a06_cant_tell_weight', format='D', array=floatcolumn)\n",
      "c17a6c = Column(name='t17_clumps_count_a06_cant_tell_fraction', format='D', array=floatcolumn)\n",
      "c17a6d = Column(name='t17_clumps_count_a06_cant_tell_weighted_fraction', format='D', array=floatcolumn)\n",
      "\n",
      "c17t1 = Column(name='t17_clumps_count_total_count', format='J', array=intcolumn)\n",
      "c17t2 = Column(name='t17_clumps_count_total_weight', format='D', array=floatcolumn)\n",
      "\n",
      "#Columns for Task 18 \"Clumps Symmetrical\"\n",
      "c18a1a = Column(name='t18_clumps_symmetrical_a01_yes_count', format='J', array=intcolumn)\n",
      "c18a1b = Column(name='t18_clumps_symmetrical_a01_yes_weight', format='D', array=floatcolumn)\n",
      "c18a1c = Column(name='t18_clumps_symmetrical_a01_yes_fraction', format='D', array=floatcolumn)\n",
      "c18a1d = Column(name='t18_clumps_symmetrical_a01_yes_weighted_fraction', format='D', array=floatcolumn)\n",
      "\n",
      "c18a2a = Column(name='t18_clumps_symmetrical_a02_no_count', format='J', array=intcolumn)\n",
      "c18a2b = Column(name='t18_clumps_symmetrical_a02_no_weight', format='D', array=floatcolumn)\n",
      "c18a2c = Column(name='t18_clumps_symmetrical_a02_no_fraction', format='D', array=floatcolumn)\n",
      "c18a2d = Column(name='t18_clumps_symmetrical_a02_no_weighted_fraction', format='D', array=floatcolumn)\n",
      "\n",
      "c18t1 = Column(name='t18_clumps_symmetrical_total_count', format='J', array=intcolumn)\n",
      "c18t2 = Column(name='t18_clumps_symmetrical_total_weight', format='D', array=floatcolumn)\n",
      "\n",
      "#Columns for Task 19 \"Clumps Embedded\"\n",
      "c19a1a = Column(name='t19_clumps_embedded_a01_yes_count', format='J', array=intcolumn)\n",
      "c19a1b = Column(name='t19_clumps_embedded_a01_yes_weight', format='D', array=floatcolumn)\n",
      "c19a1c = Column(name='t19_clumps_embedded_a01_yes_fraction', format='D', array=floatcolumn)\n",
      "c19a1d = Column(name='t19_clumps_embedded_a01_yes_weighted_fraction', format='D', array=floatcolumn)\n",
      "\n",
      "c19a2a = Column(name='t19_clumps_embedded_a02_no_count', format='J', array=intcolumn)\n",
      "c19a2b = Column(name='t19_clumps_embedded_a02_no_weight', format='D', array=floatcolumn)\n",
      "c19a2c = Column(name='t19_clumps_embedded_a02_no_fraction', format='D', array=floatcolumn)\n",
      "c19a2d = Column(name='t19_clumps_embedded_a02_no_weighted_fraction', format='D', array=floatcolumn)\n",
      "\n",
      "c19t1 = Column(name='t19_clumps_embedded_total_count', format='J', array=intcolumn)\n",
      "c19t2 = Column(name='t19_clumps_embedded_total_weight', format='D', array=floatcolumn)"
     ],
     "language": "python",
     "metadata": {},
     "outputs": [],
     "prompt_number": 59
    },
    {
     "cell_type": "code",
     "collapsed": false,
     "input": [
      "classifications = pyfits.new_table([c00,c00t1,c00t2,\n",
      "                                    c01cat,\n",
      "                                    c01a1a,c01a1b,c01a1c,c01a1d,\n",
      "                                    c01a2a,c01a2b,c01a2c,c01a2d,c01a2e,c01a2f,c01a2g,c01a2h,\n",
      "                                    c01a3a,c01a3b,c01a3c,c01a3d,\n",
      "                                    c01t1,c01t2,\n",
      "                                    c02a1a,c02a1b,c02a1c,c02a1d,\n",
      "                                    c02a2a,c02a2b,c02a2c,c02a2d,\n",
      "                                    c02t1,c02t2,\n",
      "                                    c03a1a,c03a1b,c03a1c,c03a1d,\n",
      "                                    c03a2a,c03a2b,c03a2c,c03a2d,\n",
      "                                    c03t1,c03t2,\n",
      "                                    c04a1a,c04a1b,c04a1c,c04a1d,\n",
      "                                    c04a2a,c04a2b,c04a2c,c04a2d,\n",
      "                                    c04t1,c04t2,\n",
      "                                    c05a1a,c05a1b,c05a1c,c05a1d,\n",
      "                                    c05a2a,c05a2b,c05a2c,c05a2d,\n",
      "                                    c05a3a,c05a3b,c05a3c,c05a3d,\n",
      "                                    c05a4a,c05a4b,c05a4c,c05a4d,\n",
      "                                    c05t1,c05t2,  \n",
      "                                    c06a1a,c06a1b,c06a1c,c06a1d,\n",
      "                                    c06a2a,c06a2b,c06a2c,c06a2d,\n",
      "                                    c06t1,c06t2,\n",
      "                                    c07a1a,c07a1b,c07a1c,c07a1d,\n",
      "                                    c07a2a,c07a2b,c07a2c,c07a2d,\n",
      "                                    c07a3a,c07a3b,c07a3c,c07a3d,\n",
      "                                    c07t1,c07t2,\n",
      "                                    c08a1a,c08a1b,c08a1c,c08a1d,\n",
      "                                    c08a2a,c08a2b,c08a2c,c08a2d,\n",
      "                                    c08a3a,c08a3b,c08a3c,c08a3d,\n",
      "                                    c08a4a,c08a4b,c08a4c,c08a4d,\n",
      "                                    c08a5a,c08a5b,c08a5c,c08a5d,\n",
      "                                    c08a6a,c08a6b,c08a6c,c08a6d,\n",
      "                                    c08a7a,c08a7b,c08a7c,c08a7d,\n",
      "                                    c08t1,c08t2,\n",
      "                                    c09a1a,c09a1b,c09a1c,c09a1d,\n",
      "                                    c09a2a,c09a2b,c09a2c,c09a2d,\n",
      "                                    c09a3a,c09a3b,c09a3c,c09a3d,\n",
      "                                    c09t1,c09t2,\n",
      "                                    c10a1a,c10a1b,c10a1c,c10a1d,\n",
      "                                    c10a2a,c10a2b,c10a2c,c10a2d,\n",
      "                                    c10a3a,c10a3b,c10a3c,c10a3d,\n",
      "                                    c10t1,c10t2,\n",
      "                                    c11a1a,c11a1b,c11a1c,c11a1d,\n",
      "                                    c11a2a,c11a2b,c11a2c,c11a2d,\n",
      "                                    c11a3a,c11a3b,c11a3c,c11a3d,\n",
      "                                    c11a4a,c11a4b,c11a4c,c11a4d,\n",
      "                                    c11a5a,c11a5b,c11a5c,c11a5d,\n",
      "                                    c11a6a,c11a6b,c11a6c,c11a6d,\n",
      "                                    c11t1,c11t2,\n",
      "                                    c12a1a,c12a1b,c12a1c,c12a1d,\n",
      "                                    c12a2a,c12a2b,c12a2c,c12a2d,\n",
      "                                    c12t1,c12t2,\n",
      "                                    c13a1a,c13a1b,c13a1c,c13a1d,\n",
      "                                    c13a2a,c13a2b,c13a2c,c13a2d,\n",
      "                                    c13t1,c13t2,\n",
      "                                    c14a1a,c14a1b,c14a1c,c14a1d,\n",
      "                                    c14a2a,c14a2b,c14a2c,c14a2d,\n",
      "                                    c14t1,c14t2,\n",
      "                                    c15a1a,c15a1b,c15a1c,c15a1d,\n",
      "                                    c15a2a,c15a2b,c15a2c,c15a2d,\n",
      "                                    c15t1,c15t2,\n",
      "                                    c16a1a,c16a1b,c16a1c,c16a1d,\n",
      "                                    c16a2a,c16a2b,c16a2c,c16a2d,\n",
      "                                    c16a3a,c16a3b,c16a3c,c16a3d,\n",
      "                                    c16a4a,c16a4b,c16a4c,c16a4d,\n",
      "                                    c16t1,c16t2,\n",
      "                                    c17a1a,c17a1b,c17a1c,c17a1d,\n",
      "                                    c17a2a,c17a2b,c17a2c,c17a2d,\n",
      "                                    c17a3a,c17a3b,c17a3c,c17a3d,\n",
      "                                    c17a4a,c17a4b,c17a4c,c17a4d,\n",
      "                                    c17a5a,c17a5b,c17a5c,c17a5d,\n",
      "                                    c17a6a,c17a6b,c17a6c,c17a6d,\n",
      "                                    c17t1,c17t2,\n",
      "                                    c18a1a,c18a1b,c18a1c,c18a1d,\n",
      "                                    c18a2a,c18a2b,c18a2c,c18a2d,\n",
      "                                    c18t1,c18t2,\n",
      "                                    c19a1a,c19a1b,c19a1c,c19a1d,\n",
      "                                    c19a2a,c19a2b,c19a2c,c19a2d,\n",
      "                                    c19t1,c19t2\n",
      "                                     ])\n",
      "                                    \n",
      "hubble_catalog = pyfits.new_table(classifications.columns)                         "
     ],
     "language": "python",
     "metadata": {},
     "outputs": [],
     "prompt_number": 60
    },
    {
     "cell_type": "code",
     "collapsed": false,
     "input": [
      "#First copy the raw and weighted vote information to new table. \n",
      "#remove columns that are not in old table - those will be transferred manually \n",
      "old_columns = classifications.columns.names\n",
      "old_columns.remove('t01_smooth_or_features_a02_features_or_disk_debiased_fraction')\n",
      "old_columns.remove('t01_smooth_or_features_a02_features_or_disk_best_fraction')"
     ],
     "language": "python",
     "metadata": {},
     "outputs": [],
     "prompt_number": 61
    },
    {
     "cell_type": "code",
     "collapsed": false,
     "input": [
      "#Zeta-hat function for computing debiased values\n",
      "z0 = 0.3 \n",
      "#zeta_hat = 0.5\n",
      "#def fhat(f,z,z0=0.3,zeta_hat):\n",
      "    \n",
      " #   val = f * np.exp((z - z0)/ zeta_hat)\n",
      "    \n",
      "  #  return val\n",
      "def fhat_mel(f,z,z0,zeta_hat):\n",
      "    \n",
      "    val = 1. - (1. - f)*np.exp(-(z - z0)/ zeta_hat)\n",
      "    \n",
      "    return val\n",
      "def zeta_hat_lin(SB):\n",
      "    \n",
      "    val = 10.**((SB*-0.022) + .302 )\n",
      "    return val"
     ],
     "language": "python",
     "metadata": {},
     "outputs": [],
     "prompt_number": 62
    },
    {
     "cell_type": "code",
     "collapsed": false,
     "input": [
      "print 'Writing file...'\n",
      "for i,gal in enumerate(votes_data):\n",
      "    if i % 1000 == 0:\n",
      "        t=datetime.now().time().isoformat()\n",
      "        print 'Writing %ith row at time %s' %(i,t)\n",
      "    #transfer all raw/weighted data\n",
      "    for column_name in old_columns:\n",
      "        hubble_catalog.data.field(column_name)[i] = gal[column_name]\n",
      "    #new data: debiased vote fractions\n",
      "    hubble_catalog.data.field('t01_smooth_or_features_a02_features_or_disk_debiased_fraction')[i] = fhat_mel(gal['t01_smooth_or_features_a02_features_or_disk_weighted_fraction'],gal['Z'],z0,zeta_hat_lin(gal['MU_HI']))\n",
      "    #write the 'best' fraction column\n",
      "    if hubble_catalog.data.field('Correctable_Category')[i]=='correctable':\n",
      "        hubble_catalog.data.field('t01_smooth_or_features_a02_features_or_disk_best_fraction')[i] = hubble_catalog.data.field('t01_smooth_or_features_a02_features_or_disk_debiased_fraction')[i]\n",
      "    elif hubble_catalog.data.field('Correctable_Category')[i]=='uncorrectable':\n",
      "        hubble_catalog.data.field('t01_smooth_or_features_a02_features_or_disk_best_fraction')[i] = hubble_catalog.data.field('t01_smooth_or_features_a02_features_or_disk_lower_limit')[i]\n",
      "    else:\n",
      "        hubble_catalog.data.field('t01_smooth_or_features_a02_features_or_disk_best_fraction')[i] = hubble_catalog.data.field('t01_smooth_or_features_a02_features_or_disk_weighted_fraction')[i]\n"
     ],
     "language": "python",
     "metadata": {},
     "outputs": [
      {
       "output_type": "stream",
       "stream": "stdout",
       "text": [
        "Writing file...\n",
        "Writing 0th row at time 13:26:45.509181\n",
        "Writing 1000th row at time 13:26:51.855497"
       ]
      },
      {
       "output_type": "stream",
       "stream": "stdout",
       "text": [
        "\n",
        "Writing 2000th row at time 13:26:58.224938"
       ]
      },
      {
       "output_type": "stream",
       "stream": "stdout",
       "text": [
        "\n",
        "Writing 3000th row at time 13:27:04.544320"
       ]
      },
      {
       "output_type": "stream",
       "stream": "stdout",
       "text": [
        "\n",
        "Writing 4000th row at time 13:27:10.760871"
       ]
      },
      {
       "output_type": "stream",
       "stream": "stdout",
       "text": [
        "\n",
        "Writing 5000th row at time 13:27:16.910749"
       ]
      },
      {
       "output_type": "stream",
       "stream": "stdout",
       "text": [
        "\n",
        "Writing 6000th row at time 13:27:23.108200"
       ]
      },
      {
       "output_type": "stream",
       "stream": "stdout",
       "text": [
        "\n",
        "Writing 7000th row at time 13:27:29.452837"
       ]
      },
      {
       "output_type": "stream",
       "stream": "stdout",
       "text": [
        "\n",
        "Writing 8000th row at time 13:27:36.800361"
       ]
      },
      {
       "output_type": "stream",
       "stream": "stdout",
       "text": [
        "\n",
        "Writing 9000th row at time 13:27:43.086788"
       ]
      },
      {
       "output_type": "stream",
       "stream": "stdout",
       "text": [
        "\n",
        "Writing 10000th row at time 13:27:49.128045"
       ]
      },
      {
       "output_type": "stream",
       "stream": "stdout",
       "text": [
        "\n",
        "Writing 11000th row at time 13:27:55.120894"
       ]
      },
      {
       "output_type": "stream",
       "stream": "stdout",
       "text": [
        "\n",
        "Writing 12000th row at time 13:28:01.615803"
       ]
      },
      {
       "output_type": "stream",
       "stream": "stdout",
       "text": [
        "\n",
        "Writing 13000th row at time 13:28:08.479358"
       ]
      },
      {
       "output_type": "stream",
       "stream": "stdout",
       "text": [
        "\n",
        "Writing 14000th row at time 13:28:14.833551"
       ]
      },
      {
       "output_type": "stream",
       "stream": "stdout",
       "text": [
        "\n",
        "Writing 15000th row at time 13:28:20.802971"
       ]
      },
      {
       "output_type": "stream",
       "stream": "stdout",
       "text": [
        "\n",
        "Writing 16000th row at time 13:28:26.828523"
       ]
      },
      {
       "output_type": "stream",
       "stream": "stdout",
       "text": [
        "\n",
        "Writing 17000th row at time 13:28:33.122099"
       ]
      },
      {
       "output_type": "stream",
       "stream": "stdout",
       "text": [
        "\n",
        "Writing 18000th row at time 13:28:39.173408"
       ]
      },
      {
       "output_type": "stream",
       "stream": "stdout",
       "text": [
        "\n",
        "Writing 19000th row at time 13:28:46.088408"
       ]
      },
      {
       "output_type": "stream",
       "stream": "stdout",
       "text": [
        "\n",
        "Writing 20000th row at time 13:28:53.218240"
       ]
      },
      {
       "output_type": "stream",
       "stream": "stdout",
       "text": [
        "\n",
        "Writing 21000th row at time 13:29:00.043757"
       ]
      },
      {
       "output_type": "stream",
       "stream": "stdout",
       "text": [
        "\n",
        "Writing 22000th row at time 13:29:06.643529"
       ]
      },
      {
       "output_type": "stream",
       "stream": "stdout",
       "text": [
        "\n",
        "Writing 23000th row at time 13:29:13.249824"
       ]
      },
      {
       "output_type": "stream",
       "stream": "stdout",
       "text": [
        "\n",
        "Writing 24000th row at time 13:29:19.964585"
       ]
      },
      {
       "output_type": "stream",
       "stream": "stdout",
       "text": [
        "\n",
        "Writing 25000th row at time 13:29:26.228494"
       ]
      },
      {
       "output_type": "stream",
       "stream": "stdout",
       "text": [
        "\n",
        "Writing 26000th row at time 13:29:32.200968"
       ]
      },
      {
       "output_type": "stream",
       "stream": "stdout",
       "text": [
        "\n",
        "Writing 27000th row at time 13:29:38.224941"
       ]
      },
      {
       "output_type": "stream",
       "stream": "stdout",
       "text": [
        "\n",
        "Writing 28000th row at time 13:29:44.248595"
       ]
      },
      {
       "output_type": "stream",
       "stream": "stdout",
       "text": [
        "\n",
        "Writing 29000th row at time 13:29:50.701654"
       ]
      },
      {
       "output_type": "stream",
       "stream": "stdout",
       "text": [
        "\n",
        "Writing 30000th row at time 13:29:57.245334"
       ]
      },
      {
       "output_type": "stream",
       "stream": "stdout",
       "text": [
        "\n",
        "Writing 31000th row at time 13:30:03.396854"
       ]
      },
      {
       "output_type": "stream",
       "stream": "stdout",
       "text": [
        "\n",
        "Writing 32000th row at time 13:30:09.383205"
       ]
      },
      {
       "output_type": "stream",
       "stream": "stdout",
       "text": [
        "\n",
        "Writing 33000th row at time 13:30:15.480797"
       ]
      },
      {
       "output_type": "stream",
       "stream": "stdout",
       "text": [
        "\n",
        "Writing 34000th row at time 13:30:21.551932"
       ]
      },
      {
       "output_type": "stream",
       "stream": "stdout",
       "text": [
        "\n",
        "Writing 35000th row at time 13:30:27.587743"
       ]
      },
      {
       "output_type": "stream",
       "stream": "stdout",
       "text": [
        "\n",
        "Writing 36000th row at time 13:30:33.599830"
       ]
      },
      {
       "output_type": "stream",
       "stream": "stdout",
       "text": [
        "\n",
        "Writing 37000th row at time 13:30:39.627336"
       ]
      },
      {
       "output_type": "stream",
       "stream": "stdout",
       "text": [
        "\n",
        "Writing 38000th row at time 13:30:45.755163"
       ]
      },
      {
       "output_type": "stream",
       "stream": "stdout",
       "text": [
        "\n",
        "Writing 39000th row at time 13:30:51.919537"
       ]
      },
      {
       "output_type": "stream",
       "stream": "stdout",
       "text": [
        "\n",
        "Writing 40000th row at time 13:30:58.031047"
       ]
      },
      {
       "output_type": "stream",
       "stream": "stdout",
       "text": [
        "\n",
        "Writing 41000th row at time 13:31:04.116653"
       ]
      },
      {
       "output_type": "stream",
       "stream": "stdout",
       "text": [
        "\n",
        "Writing 42000th row at time 13:31:10.168719"
       ]
      },
      {
       "output_type": "stream",
       "stream": "stdout",
       "text": [
        "\n",
        "Writing 43000th row at time 13:31:16.252420"
       ]
      },
      {
       "output_type": "stream",
       "stream": "stdout",
       "text": [
        "\n",
        "Writing 44000th row at time 13:31:22.338596"
       ]
      },
      {
       "output_type": "stream",
       "stream": "stdout",
       "text": [
        "\n",
        "Writing 45000th row at time 13:31:28.361482"
       ]
      },
      {
       "output_type": "stream",
       "stream": "stdout",
       "text": [
        "\n",
        "Writing 46000th row at time 13:31:34.323264"
       ]
      },
      {
       "output_type": "stream",
       "stream": "stdout",
       "text": [
        "\n",
        "Writing 47000th row at time 13:31:40.278315"
       ]
      },
      {
       "output_type": "stream",
       "stream": "stdout",
       "text": [
        "\n",
        "Writing 48000th row at time 13:31:46.317199"
       ]
      },
      {
       "output_type": "stream",
       "stream": "stdout",
       "text": [
        "\n",
        "Writing 49000th row at time 13:31:52.411027"
       ]
      },
      {
       "output_type": "stream",
       "stream": "stdout",
       "text": [
        "\n",
        "Writing 50000th row at time 13:31:58.465295"
       ]
      },
      {
       "output_type": "stream",
       "stream": "stdout",
       "text": [
        "\n",
        "Writing 51000th row at time 13:32:04.513584"
       ]
      },
      {
       "output_type": "stream",
       "stream": "stdout",
       "text": [
        "\n",
        "Writing 52000th row at time 13:32:10.561811"
       ]
      },
      {
       "output_type": "stream",
       "stream": "stdout",
       "text": [
        "\n",
        "Writing 53000th row at time 13:32:17.057687"
       ]
      },
      {
       "output_type": "stream",
       "stream": "stdout",
       "text": [
        "\n",
        "Writing 54000th row at time 13:32:23.603434"
       ]
      },
      {
       "output_type": "stream",
       "stream": "stdout",
       "text": [
        "\n",
        "Writing 55000th row at time 13:32:29.754622"
       ]
      },
      {
       "output_type": "stream",
       "stream": "stdout",
       "text": [
        "\n",
        "Writing 56000th row at time 13:32:36.118604"
       ]
      },
      {
       "output_type": "stream",
       "stream": "stdout",
       "text": [
        "\n",
        "Writing 57000th row at time 13:32:42.593587"
       ]
      },
      {
       "output_type": "stream",
       "stream": "stdout",
       "text": [
        "\n",
        "Writing 58000th row at time 13:32:48.779160"
       ]
      },
      {
       "output_type": "stream",
       "stream": "stdout",
       "text": [
        "\n",
        "Writing 59000th row at time 13:32:54.868091"
       ]
      },
      {
       "output_type": "stream",
       "stream": "stdout",
       "text": [
        "\n",
        "Writing 60000th row at time 13:33:01.030060"
       ]
      },
      {
       "output_type": "stream",
       "stream": "stdout",
       "text": [
        "\n",
        "Writing 61000th row at time 13:33:07.169529"
       ]
      },
      {
       "output_type": "stream",
       "stream": "stdout",
       "text": [
        "\n",
        "Writing 62000th row at time 13:33:13.087132"
       ]
      },
      {
       "output_type": "stream",
       "stream": "stdout",
       "text": [
        "\n",
        "Writing 63000th row at time 13:33:19.162774"
       ]
      },
      {
       "output_type": "stream",
       "stream": "stdout",
       "text": [
        "\n",
        "Writing 64000th row at time 13:33:25.245537"
       ]
      },
      {
       "output_type": "stream",
       "stream": "stdout",
       "text": [
        "\n",
        "Writing 65000th row at time 13:33:31.508435"
       ]
      },
      {
       "output_type": "stream",
       "stream": "stdout",
       "text": [
        "\n",
        "Writing 66000th row at time 13:33:37.745476"
       ]
      },
      {
       "output_type": "stream",
       "stream": "stdout",
       "text": [
        "\n",
        "Writing 67000th row at time 13:33:43.922902"
       ]
      },
      {
       "output_type": "stream",
       "stream": "stdout",
       "text": [
        "\n",
        "Writing 68000th row at time 13:33:49.873037"
       ]
      },
      {
       "output_type": "stream",
       "stream": "stdout",
       "text": [
        "\n",
        "Writing 69000th row at time 13:33:55.868138"
       ]
      },
      {
       "output_type": "stream",
       "stream": "stdout",
       "text": [
        "\n",
        "Writing 70000th row at time 13:34:02.226735"
       ]
      },
      {
       "output_type": "stream",
       "stream": "stdout",
       "text": [
        "\n",
        "Writing 71000th row at time 13:34:08.358557"
       ]
      },
      {
       "output_type": "stream",
       "stream": "stdout",
       "text": [
        "\n",
        "Writing 72000th row at time 13:34:14.587903"
       ]
      },
      {
       "output_type": "stream",
       "stream": "stdout",
       "text": [
        "\n",
        "Writing 73000th row at time 13:34:20.752403"
       ]
      },
      {
       "output_type": "stream",
       "stream": "stdout",
       "text": [
        "\n",
        "Writing 74000th row at time 13:34:26.920128"
       ]
      },
      {
       "output_type": "stream",
       "stream": "stdout",
       "text": [
        "\n",
        "Writing 75000th row at time 13:34:33.593491"
       ]
      },
      {
       "output_type": "stream",
       "stream": "stdout",
       "text": [
        "\n",
        "Writing 76000th row at time 13:34:40.184922"
       ]
      },
      {
       "output_type": "stream",
       "stream": "stdout",
       "text": [
        "\n",
        "Writing 77000th row at time 13:34:46.318230"
       ]
      },
      {
       "output_type": "stream",
       "stream": "stdout",
       "text": [
        "\n",
        "Writing 78000th row at time 13:34:52.570461"
       ]
      },
      {
       "output_type": "stream",
       "stream": "stdout",
       "text": [
        "\n",
        "Writing 79000th row at time 13:34:58.831539"
       ]
      },
      {
       "output_type": "stream",
       "stream": "stdout",
       "text": [
        "\n",
        "Writing 80000th row at time 13:35:05.689041"
       ]
      },
      {
       "output_type": "stream",
       "stream": "stdout",
       "text": [
        "\n",
        "Writing 81000th row at time 13:35:11.746806"
       ]
      },
      {
       "output_type": "stream",
       "stream": "stdout",
       "text": [
        "\n",
        "Writing 82000th row at time 13:35:17.899825"
       ]
      },
      {
       "output_type": "stream",
       "stream": "stdout",
       "text": [
        "\n",
        "Writing 83000th row at time 13:35:24.264025"
       ]
      },
      {
       "output_type": "stream",
       "stream": "stdout",
       "text": [
        "\n",
        "Writing 84000th row at time 13:35:30.405089"
       ]
      },
      {
       "output_type": "stream",
       "stream": "stdout",
       "text": [
        "\n",
        "Writing 85000th row at time 13:35:36.684671"
       ]
      },
      {
       "output_type": "stream",
       "stream": "stdout",
       "text": [
        "\n",
        "Writing 86000th row at time 13:35:42.838039"
       ]
      },
      {
       "output_type": "stream",
       "stream": "stdout",
       "text": [
        "\n",
        "Writing 87000th row at time 13:35:49.044275"
       ]
      },
      {
       "output_type": "stream",
       "stream": "stdout",
       "text": [
        "\n",
        "Writing 88000th row at time 13:35:55.131447"
       ]
      },
      {
       "output_type": "stream",
       "stream": "stdout",
       "text": [
        "\n",
        "Writing 89000th row at time 13:36:01.344595"
       ]
      },
      {
       "output_type": "stream",
       "stream": "stdout",
       "text": [
        "\n",
        "Writing 90000th row at time 13:36:07.568320"
       ]
      },
      {
       "output_type": "stream",
       "stream": "stdout",
       "text": [
        "\n",
        "Writing 91000th row at time 13:36:13.550979"
       ]
      },
      {
       "output_type": "stream",
       "stream": "stdout",
       "text": [
        "\n",
        "Writing 92000th row at time 13:36:19.649661"
       ]
      },
      {
       "output_type": "stream",
       "stream": "stdout",
       "text": [
        "\n",
        "Writing 93000th row at time 13:36:25.931661"
       ]
      },
      {
       "output_type": "stream",
       "stream": "stdout",
       "text": [
        "\n",
        "Writing 94000th row at time 13:36:33.382251"
       ]
      },
      {
       "output_type": "stream",
       "stream": "stdout",
       "text": [
        "\n",
        "Writing 95000th row at time 13:36:39.541741"
       ]
      },
      {
       "output_type": "stream",
       "stream": "stdout",
       "text": [
        "\n",
        "Writing 96000th row at time 13:36:46.143334"
       ]
      },
      {
       "output_type": "stream",
       "stream": "stdout",
       "text": [
        "\n",
        "Writing 97000th row at time 13:36:52.191137"
       ]
      },
      {
       "output_type": "stream",
       "stream": "stdout",
       "text": [
        "\n",
        "Writing 98000th row at time 13:36:58.586063"
       ]
      },
      {
       "output_type": "stream",
       "stream": "stdout",
       "text": [
        "\n",
        "Writing 99000th row at time 13:37:04.798472"
       ]
      },
      {
       "output_type": "stream",
       "stream": "stdout",
       "text": [
        "\n",
        "Writing 100000th row at time 13:37:11.296227"
       ]
      },
      {
       "output_type": "stream",
       "stream": "stdout",
       "text": [
        "\n",
        "Writing 101000th row at time 13:37:18.190315"
       ]
      },
      {
       "output_type": "stream",
       "stream": "stdout",
       "text": [
        "\n",
        "Writing 102000th row at time 13:37:24.661644"
       ]
      },
      {
       "output_type": "stream",
       "stream": "stdout",
       "text": [
        "\n",
        "Writing 103000th row at time 13:37:30.813784"
       ]
      },
      {
       "output_type": "stream",
       "stream": "stdout",
       "text": [
        "\n",
        "Writing 104000th row at time 13:37:36.980185"
       ]
      },
      {
       "output_type": "stream",
       "stream": "stdout",
       "text": [
        "\n",
        "Writing 105000th row at time 13:37:43.567343"
       ]
      },
      {
       "output_type": "stream",
       "stream": "stdout",
       "text": [
        "\n",
        "Writing 106000th row at time 13:37:49.608363"
       ]
      },
      {
       "output_type": "stream",
       "stream": "stdout",
       "text": [
        "\n",
        "Writing 107000th row at time 13:37:55.976929"
       ]
      },
      {
       "output_type": "stream",
       "stream": "stdout",
       "text": [
        "\n",
        "Writing 108000th row at time 13:38:01.885063"
       ]
      },
      {
       "output_type": "stream",
       "stream": "stderr",
       "text": [
        "-c:11: RuntimeWarning: overflow encountered in exp\n",
        "-c:11: RuntimeWarning: invalid value encountered in double_scalars\n"
       ]
      },
      {
       "output_type": "stream",
       "stream": "stdout",
       "text": [
        "\n",
        "Writing 109000th row at time 13:38:08.267451"
       ]
      },
      {
       "output_type": "stream",
       "stream": "stdout",
       "text": [
        "\n",
        "Writing 110000th row at time 13:38:14.234259"
       ]
      },
      {
       "output_type": "stream",
       "stream": "stdout",
       "text": [
        "\n",
        "Writing 111000th row at time 13:38:20.697999"
       ]
      },
      {
       "output_type": "stream",
       "stream": "stdout",
       "text": [
        "\n",
        "Writing 112000th row at time 13:38:26.820713"
       ]
      },
      {
       "output_type": "stream",
       "stream": "stdout",
       "text": [
        "\n",
        "Writing 113000th row at time 13:38:32.851894"
       ]
      },
      {
       "output_type": "stream",
       "stream": "stdout",
       "text": [
        "\n",
        "Writing 114000th row at time 13:38:38.932037"
       ]
      },
      {
       "output_type": "stream",
       "stream": "stdout",
       "text": [
        "\n",
        "Writing 115000th row at time 13:38:45.303308"
       ]
      },
      {
       "output_type": "stream",
       "stream": "stdout",
       "text": [
        "\n",
        "Writing 116000th row at time 13:38:51.830755"
       ]
      },
      {
       "output_type": "stream",
       "stream": "stdout",
       "text": [
        "\n",
        "Writing 117000th row at time 13:38:58.227244"
       ]
      },
      {
       "output_type": "stream",
       "stream": "stdout",
       "text": [
        "\n",
        "Writing 118000th row at time 13:39:04.435133"
       ]
      },
      {
       "output_type": "stream",
       "stream": "stdout",
       "text": [
        "\n"
       ]
      }
     ],
     "prompt_number": 63
    },
    {
     "cell_type": "code",
     "collapsed": false,
     "input": [
      "#write to file \n",
      "hubble_catalog.writeto('gz_hubble_catalog.fits',clobber=True)"
     ],
     "language": "python",
     "metadata": {},
     "outputs": [],
     "prompt_number": 64
    },
    {
     "cell_type": "code",
     "collapsed": false,
     "input": [
      "correctable=(votes_data['Correctable_Category']=='correctable             ')\n",
      "uncorrectable=(votes_data['Correctable_Category']=='uncorrectable           ')\n",
      "nei=votes_data['Correctable_Category']=='nei                     ' \n",
      "\n",
      "old_votes=votes_data['t01_smooth_or_features_a02_features_or_disk_weighted_fraction']\n",
      "old_lower_limit=votes_data['t01_smooth_or_features_a02_features_or_disk_lower_limit']\n",
      "old_z=votes_data['Z']\n",
      "old_mu=votes_data['MU_HI']\n",
      "\n",
      "new_c=fhat_mel(old_votes[correctable],old_z[correctable],z0,zeta_hat_lin(old_mu[correctable]))\n",
      "new_unc=fhat_mel(old_votes[uncorrectable],old_z[uncorrectable],z0,zeta_hat_lin(old_mu[uncorrectable])) #debiased value\n",
      "#new_unc = old_lower_limit[uncorrectable] #lower limit\n",
      "new_nei=fhat_mel(old_votes[nei],old_z[nei],z0,zeta_hat_lin(old_mu[nei]))"
     ],
     "language": "python",
     "metadata": {},
     "outputs": [],
     "prompt_number": 99
    },
    {
     "cell_type": "code",
     "collapsed": false,
     "input": [
      "# 2D histogram of new p_features distribution\n",
      "fig = plt.figure(figsize=(20,5))\n",
      "ax1 = fig.add_subplot(131)\n",
      "hex1 = ax1.hexbin(old_votes[correctable],new_c, cmap=plt.cm.YlOrRd_r,gridsize=50,vmin =0,vmax=100)\n",
      "ax1.set_xlabel(r'$f_{features}$',fontsize=20)\n",
      "ax1.set_ylabel(r'$\\hat f_{features}$',fontsize=20)\n",
      "cb1 = plt.colorbar(hex1)\n",
      "ax1.set_title('correctable data, linear $\\hat \\zeta$',fontsize=20)\n",
      "\n",
      "# Add the one-to-one line for comparision.\n",
      "# Upper left = boosted p_features for z > 0.3\n",
      "# Lower right = depressed p_features for z < 0.3\n",
      "\n",
      "ax1.plot([0,1],[0,1],color='k',lw=2,ls='--')\n",
      "\n",
      "# Try it with Mel's new function\n",
      "ax2 = fig.add_subplot(132)\n",
      "hex2 = ax2.hexbin(old_votes[nei],new_nei, cmap=plt.cm.YlOrRd_r,gridsize=50,vmax=100)\n",
      "ax2.set_xlabel(r'$f_{features}$',fontsize=20)\n",
      "ax2.set_ylabel(r'$\\hat f_{features}$',fontsize=20)\n",
      "ax2.set_xlim(0,1)\n",
      "ax2.set_ylim(0,1)\n",
      "cb2 = plt.colorbar(hex2)\n",
      "ax2.plot([0,1],[0,1],color='k',lw=2,ls='--')\n",
      "ax2.set_title('NEI data, linear $\\hat \\zeta$',fontsize=20)\n",
      "\n",
      "ax3 = fig.add_subplot(133)\n",
      "hex3 = ax3.hexbin(old_votes[uncorrectable],new_unc, cmap=plt.cm.YlOrRd_r,gridsize=50,vmin =0, vmax=100)\n",
      "ax3.set_xlabel(r'$f_{features}$',fontsize=20)\n",
      "ax3.set_ylabel(r'$\\hat f_{features}$',fontsize=20)\n",
      "ax3.set_xlim(0,1)\n",
      "ax3.set_ylim(0,1)\n",
      "cb3 = plt.colorbar(hex3)\n",
      "ax3.plot([0,1],[0,1],color='k',lw=2,ls='--')\n",
      "ax3.set_title('uncorrectable data, linear $\\hat \\zeta$',fontsize=20)\n",
      "ax3.set_axis_bgcolor('#800000')\n",
      "\n",
      "\n",
      "plt.savefig('linear_zeta.png')"
     ],
     "language": "python",
     "metadata": {},
     "outputs": [
      {
       "metadata": {},
       "output_type": "display_data",
       "png": "[encoded data removed]",
       "text": [
        "<matplotlib.figure.Figure at 0x7f7b11d2b810>"
       ]
      }
     ],
     "prompt_number": 100
    },
    {
     "cell_type": "code",
     "collapsed": false,
     "input": [],
     "language": "python",
     "metadata": {},
     "outputs": [],
     "prompt_number": 100
    },
    {
     "cell_type": "code",
     "collapsed": false,
     "input": [
      "#Finally write to fits file \n",
      "hubble_catalog.writeto('gz_hubble_catalog.fits',clobber=True)\n"
     ],
     "language": "python",
     "metadata": {},
     "outputs": [
      {
       "output_type": "stream",
       "stream": "stderr",
       "text": [
        "WARNING:astropy:Overwriting existing file 'gz_hubble_catalog.fits'.\n"
       ]
      },
      {
       "output_type": "stream",
       "stream": "stdout",
       "text": [
        "WARNING: Overwriting existing file 'gz_hubble_catalog.fits'. [astropy.io.fits.file]\n"
       ]
      }
     ],
     "prompt_number": 101
    },
    {
     "cell_type": "code",
     "collapsed": false,
     "input": [],
     "language": "python",
     "metadata": {},
     "outputs": [],
     "prompt_number": 83
    },
    {
     "cell_type": "code",
     "collapsed": false,
     "input": [
      "fhat_mel(.875,.287,z0,zeta_hat_lin(19.5779))"
     ],
     "language": "python",
     "metadata": {},
     "outputs": [
      {
       "metadata": {},
       "output_type": "pyout",
       "prompt_number": 83,
       "text": [
        "0.86898991479885201"
       ]
      }
     ],
     "prompt_number": 83
    },
    {
     "cell_type": "code",
     "collapsed": false,
     "input": [
      "this_list=[0,1,2,3]"
     ],
     "language": "python",
     "metadata": {},
     "outputs": [],
     "prompt_number": 1
    },
    {
     "cell_type": "code",
     "collapsed": false,
     "input": [
      "len(votes_data)"
     ],
     "language": "python",
     "metadata": {},
     "outputs": [
      {
       "metadata": {},
       "output_type": "pyout",
       "prompt_number": 56,
       "text": [
        "118083"
       ]
      }
     ],
     "prompt_number": 56
    },
    {
     "cell_type": "code",
     "collapsed": false,
     "input": [],
     "language": "python",
     "metadata": {},
     "outputs": [],
     "prompt_number": 19
    },
    {
     "cell_type": "code",
     "collapsed": false,
     "input": [],
     "language": "python",
     "metadata": {},
     "outputs": []
    }
   ],
   "metadata": {}
  }
 ]
}