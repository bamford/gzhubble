{
 "metadata": {
  "name": "",
  "signature": "sha256:1acd841610c27ed593272e210df2a8c40587539573a46788072b4e6883f47ca9"
 },
 "nbformat": 3,
 "nbformat_minor": 0,
 "worksheets": [
  {
   "cells": [
    {
     "cell_type": "heading",
     "level": 1,
     "metadata": {},
     "source": [
      "Measure and parameterize dropoff in $f_{features}$ for FERENGI-fied images in Galaxy Zoo: Hubble"
     ]
    },
    {
     "cell_type": "code",
     "collapsed": false,
     "input": [
      "%pylab inline\n",
      "from astropy.io import fits\n",
      "from scipy import optimize"
     ],
     "language": "python",
     "metadata": {},
     "outputs": [
      {
       "output_type": "stream",
       "stream": "stdout",
       "text": [
        "Populating the interactive namespace from numpy and matplotlib\n"
       ]
      }
     ],
     "prompt_number": 92
    },
    {
     "cell_type": "code",
     "collapsed": false,
     "input": [
      "data = fits.getdata(\"../ferengi_data.fits\",1)"
     ],
     "language": "python",
     "metadata": {},
     "outputs": [],
     "prompt_number": 27
    },
    {
     "cell_type": "heading",
     "level": 5,
     "metadata": {},
     "source": [
      "\"Zeta method\""
     ]
    },
    {
     "cell_type": "markdown",
     "metadata": {},
     "source": [
      "Assume that the change in $f_{features}$ as a function of redshift can be parameterized as:\n",
      "\n",
      "$\\frac{f_f}{f_{f,z=z_0}} = e^{-\\frac{(z-z_0)}{\\zeta}}$"
     ]
    },
    {
     "cell_type": "code",
     "collapsed": false,
     "input": [
      "def fzeta_exp(p,x):\n",
      "    \n",
      "    y = p[0] * np.exp(-1 * (x-p[1])/p[2])\n",
      "\n",
      "    return y\n",
      "    \n",
      "def fzeta_lin(p,x):\n",
      "    \n",
      "    y = p[0] + p[1] * x\n",
      "\n",
      "    return y\n",
      "\n",
      "def errfunc(p,x,y):\n",
      "    \n",
      "    err = y - fzeta_exp(p,x)\n",
      "\n",
      "    return err\n",
      "\n",
      "def common_labels(fig,xlabel=None,ylabel=None,xfontsize=12,yfontsize=12):\n",
      "\n",
      "    # Set common labels\n",
      "    cax = fig.add_subplot(111)    # The big subplot\n",
      "    cax.set_axis_bgcolor('none')\n",
      "    cax.spines['top'].set_color('none')\n",
      "    cax.spines['bottom'].set_color('none')\n",
      "    cax.spines['left'].set_color('none')\n",
      "    cax.spines['right'].set_color('none')\n",
      "    cax.tick_params(labelcolor='none', top='off', bottom='off', left='off', right='off')\n",
      "    cax.set_xlabel(xlabel,fontsize=xfontsize)\n",
      "    cax.set_ylabel(ylabel,fontsize=yfontsize)\n",
      "\n",
      "    return cax"
     ],
     "language": "python",
     "metadata": {},
     "outputs": [],
     "prompt_number": 90
    },
    {
     "cell_type": "code",
     "collapsed": false,
     "input": [
      "unique_galaxies = set(data['sdss_id'])\n",
      "p_guess = np.array([0.5,0.3,1.])\n",
      "\n",
      "# Set up plot\n",
      "fig,axarr = plt.subplots(nrows=3,ncols=3,sharex=True,sharey=True,figsize=(6,6))\n",
      "bigax = common_labels(fig,'Redshift',r'$f_{features}$',14,20)\n",
      "zarr = np.linspace(0,1,50)\n",
      "\n",
      "for ax in axarr.ravel():\n",
      "    \n",
      "    slen = 0\n",
      "    # Make sure there are enough points in the data to fit a function\n",
      "    while slen < (len(p_guess)+1):\n",
      "        ind = (data['sdss_id'] == unique_galaxies.pop())\n",
      "        slen = sum(ind)\n",
      "        \n",
      "    galaxy1 = data[ind & (data['sim_evolution'] == 0)]\n",
      "\n",
      "    z_gal = galaxy1['sim_redshift']\n",
      "    f_gal = galaxy1['t00_smooth_or_features_a1_features_frac_weighted_2']\n",
      "\n",
      "    # Data must be explicitly cast as double-type precision for optimization to work. Incredibly frustrating.\n",
      "    # Fix: http://stackoverflow.com/questions/12473406/scipy-optimize-leastsq-returns-best-guess-parameters-not-new-best-fit \n",
      "\n",
      "    p, cov, infodict, mesg, ier = optimize.leastsq(errfunc,p_guess,args=(z_gal.astype(np.float64),f_gal.astype(np.float64)),full_output=1)\n",
      "    ax.plot(z_gal,f_gal,lw=2)\n",
      "    ax.plot(zarr,fzeta_exp(p,zarr),'--',lw=1)\n",
      "    ax.set_xlim(0,1)\n",
      "    ax.set_ylim(0,1)"
     ],
     "language": "python",
     "metadata": {},
     "outputs": [
      {
       "metadata": {},
       "output_type": "display_data",
       "png": "[encoded data removed]",
       "text": [
        "<matplotlib.figure.Figure at 0x109f57390>"
       ]
      }
     ],
     "prompt_number": 101
    },
    {
     "cell_type": "code",
     "collapsed": false,
     "input": [
      "# Find zeta for all images\n",
      "\n",
      "unique_galaxies = set(data['sdss_id'])\n",
      "\n",
      "zeta = []\n",
      "sb = []\n",
      "for gal in unique_galaxies:\n",
      "    \n",
      "    # Make sure there are enough points in the data to fit a function\n",
      "    ind = (data['sdss_id'] == gal)\n",
      "    slen = sum(ind)\n",
      "    if slen > 3:\n",
      "    \n",
      "        galaxy1 = data[ind & (data['sim_evolution'] == 0)]\n",
      "\n",
      "        z_gal = galaxy1['sim_redshift']\n",
      "        f_gal = galaxy1['t00_smooth_or_features_a1_features_frac_weighted_2']\n",
      "\n",
      "        p, cov = optimize.leastsq(errfunc,p_guess,args=(z_gal.astype(np.float64),f_gal.astype(np.float64)))\n",
      "        \n",
      "        zeta.append(p[2])\n",
      "        sb.append()"
     ],
     "language": "python",
     "metadata": {},
     "outputs": [
      {
       "output_type": "stream",
       "stream": "stderr",
       "text": [
        "-c:3: RuntimeWarning: overflow encountered in exp\n",
        "//anaconda/lib/python2.7/site-packages/scipy/optimize/minpack.py:419: RuntimeWarning: Number of calls to function has reached maxfev = 800.\n",
        "  warnings.warn(errors[info][0], RuntimeWarning)\n"
       ]
      }
     ],
     "prompt_number": 95
    },
    {
     "cell_type": "code",
     "collapsed": false,
     "input": [
      "# Need to get surface brightnesses; not in current catalog"
     ],
     "language": "python",
     "metadata": {},
     "outputs": [],
     "prompt_number": 99
    },
    {
     "cell_type": "code",
     "collapsed": false,
     "input": [
      "# Plot distribution of zeta as function of surface brightness"
     ],
     "language": "python",
     "metadata": {},
     "outputs": [],
     "prompt_number": 100
    },
    {
     "cell_type": "code",
     "collapsed": false,
     "input": [],
     "language": "python",
     "metadata": {},
     "outputs": []
    }
   ],
   "metadata": {}
  }
 ]
}