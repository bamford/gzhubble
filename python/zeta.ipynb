{
 "cells": [
  {
   "cell_type": "markdown",
   "metadata": {},
   "source": [
    "# Measure and parameterize dropoff in $f_{features}$ for FERENGI-fied images in Galaxy Zoo: Hubble"
   ]
  },
  {
   "cell_type": "code",
   "execution_count": 1,
   "metadata": {
    "collapsed": false
   },
   "outputs": [
    {
     "name": "stderr",
     "output_type": "stream",
     "text": [
      "//anaconda/lib/python2.7/site-packages/IPython/kernel/__init__.py:13: ShimWarning: The `IPython.kernel` package has been deprecated. You should import from ipykernel or jupyter_client instead.\n",
      "  \"You should import from ipykernel or jupyter_client instead.\", ShimWarning)\n"
     ]
    }
   ],
   "source": [
    "%matplotlib inline\n",
    "\n",
    "from matplotlib import pyplot as plt\n",
    "from astropy.table import Table\n",
    "from astropy.io import fits\n",
    "from scipy import optimize\n",
    "from scipy.stats import distributions as dist\n",
    "import numpy as np\n",
    "import os\n",
    "import requests\n",
    "import warnings\n",
    "\n",
    "warnings.filterwarnings('ignore', category=RuntimeWarning, append=True)\n",
    "warnings.filterwarnings('ignore', category=UserWarning, append=True)"
   ]
  },
  {
   "cell_type": "code",
   "execution_count": 2,
   "metadata": {
    "collapsed": false
   },
   "outputs": [],
   "source": [
    "# Load data from Dropbox folder instead of clogging up Github\n",
    "\n",
    "def download_from_dropbox(url):\n",
    "    \n",
    "    local_filename = \"../data/{:}\".format(url.split(\"/\")[-1].split(\"?\")[0])\n",
    "    r = requests.get(url, stream=True)\n",
    "    with open(local_filename, 'wb') as f:\n",
    "        for chunk in r.iter_content(chunk_size=1024): \n",
    "            if chunk: # filter out keep-alive new chunks\n",
    "                f.write(chunk)\n",
    "                f.flush()\n",
    "            \n",
    "    return local_filename"
   ]
  },
  {
   "cell_type": "code",
   "execution_count": 3,
   "metadata": {
    "collapsed": false
   },
   "outputs": [
    {
     "ename": "KeyError",
     "evalue": "'Debiasable'",
     "output_type": "error",
     "traceback": [
      "\u001b[0;31m---------------------------------------------------------------------------\u001b[0m",
      "\u001b[0;31mKeyError\u001b[0m                                  Traceback (most recent call last)",
      "\u001b[0;32m<ipython-input-3-4dfc9da23d71>\u001b[0m in \u001b[0;36m<module>\u001b[0;34m()\u001b[0m\n\u001b[1;32m      7\u001b[0m \u001b[0malldata\u001b[0m \u001b[0;34m=\u001b[0m \u001b[0mTable\u001b[0m\u001b[0;34m.\u001b[0m\u001b[0mread\u001b[0m\u001b[0;34m(\u001b[0m\u001b[0mferengi_filename\u001b[0m\u001b[0;34m)\u001b[0m\u001b[0;34m\u001b[0m\u001b[0m\n\u001b[1;32m      8\u001b[0m \u001b[0;34m\u001b[0m\u001b[0m\n\u001b[0;32m----> 9\u001b[0;31m \u001b[0mdata\u001b[0m \u001b[0;34m=\u001b[0m \u001b[0malldata\u001b[0m\u001b[0;34m[\u001b[0m\u001b[0malldata\u001b[0m\u001b[0;34m[\u001b[0m\u001b[0;34m'Debiasable'\u001b[0m\u001b[0;34m]\u001b[0m \u001b[0;34m==\u001b[0m \u001b[0mTrue\u001b[0m\u001b[0;34m]\u001b[0m\u001b[0;34m\u001b[0m\u001b[0m\n\u001b[0m\u001b[1;32m     10\u001b[0m \u001b[0;34m\u001b[0m\u001b[0m\n\u001b[1;32m     11\u001b[0m \u001b[0;31m# Limit to galaxies that have data at z_sim = z0, since that's what we're normalizing to.\u001b[0m\u001b[0;34m\u001b[0m\u001b[0;34m\u001b[0m\u001b[0m\n",
      "\u001b[0;32m//anaconda/lib/python2.7/site-packages/astropy/table/table.pyc\u001b[0m in \u001b[0;36m__getitem__\u001b[0;34m(self, item)\u001b[0m\n\u001b[1;32m    847\u001b[0m     \u001b[0;32mdef\u001b[0m \u001b[0m__getitem__\u001b[0m\u001b[0;34m(\u001b[0m\u001b[0mself\u001b[0m\u001b[0;34m,\u001b[0m \u001b[0mitem\u001b[0m\u001b[0;34m)\u001b[0m\u001b[0;34m:\u001b[0m\u001b[0;34m\u001b[0m\u001b[0m\n\u001b[1;32m    848\u001b[0m         \u001b[0;32mif\u001b[0m \u001b[0misinstance\u001b[0m\u001b[0;34m(\u001b[0m\u001b[0mitem\u001b[0m\u001b[0;34m,\u001b[0m \u001b[0msix\u001b[0m\u001b[0;34m.\u001b[0m\u001b[0mstring_types\u001b[0m\u001b[0;34m)\u001b[0m\u001b[0;34m:\u001b[0m\u001b[0;34m\u001b[0m\u001b[0m\n\u001b[0;32m--> 849\u001b[0;31m             \u001b[0;32mreturn\u001b[0m \u001b[0mself\u001b[0m\u001b[0;34m.\u001b[0m\u001b[0mcolumns\u001b[0m\u001b[0;34m[\u001b[0m\u001b[0mitem\u001b[0m\u001b[0;34m]\u001b[0m\u001b[0;34m\u001b[0m\u001b[0m\n\u001b[0m\u001b[1;32m    850\u001b[0m         \u001b[0;32melif\u001b[0m \u001b[0misinstance\u001b[0m\u001b[0;34m(\u001b[0m\u001b[0mitem\u001b[0m\u001b[0;34m,\u001b[0m \u001b[0;34m(\u001b[0m\u001b[0mint\u001b[0m\u001b[0;34m,\u001b[0m \u001b[0mnp\u001b[0m\u001b[0;34m.\u001b[0m\u001b[0minteger\u001b[0m\u001b[0;34m)\u001b[0m\u001b[0;34m)\u001b[0m\u001b[0;34m:\u001b[0m\u001b[0;34m\u001b[0m\u001b[0m\n\u001b[1;32m    851\u001b[0m             \u001b[0;32mreturn\u001b[0m \u001b[0mself\u001b[0m\u001b[0;34m.\u001b[0m\u001b[0mRow\u001b[0m\u001b[0;34m(\u001b[0m\u001b[0mself\u001b[0m\u001b[0;34m,\u001b[0m \u001b[0mitem\u001b[0m\u001b[0;34m)\u001b[0m\u001b[0;34m\u001b[0m\u001b[0m\n",
      "\u001b[0;32m//anaconda/lib/python2.7/site-packages/astropy/table/table.pyc\u001b[0m in \u001b[0;36m__getitem__\u001b[0;34m(self, item)\u001b[0m\n\u001b[1;32m    105\u001b[0m         \"\"\"\n\u001b[1;32m    106\u001b[0m         \u001b[0;32mif\u001b[0m \u001b[0misinstance\u001b[0m\u001b[0;34m(\u001b[0m\u001b[0mitem\u001b[0m\u001b[0;34m,\u001b[0m \u001b[0msix\u001b[0m\u001b[0;34m.\u001b[0m\u001b[0mstring_types\u001b[0m\u001b[0;34m)\u001b[0m\u001b[0;34m:\u001b[0m\u001b[0;34m\u001b[0m\u001b[0m\n\u001b[0;32m--> 107\u001b[0;31m             \u001b[0;32mreturn\u001b[0m \u001b[0mOrderedDict\u001b[0m\u001b[0;34m.\u001b[0m\u001b[0m__getitem__\u001b[0m\u001b[0;34m(\u001b[0m\u001b[0mself\u001b[0m\u001b[0;34m,\u001b[0m \u001b[0mitem\u001b[0m\u001b[0;34m)\u001b[0m\u001b[0;34m\u001b[0m\u001b[0m\n\u001b[0m\u001b[1;32m    108\u001b[0m         \u001b[0;32melif\u001b[0m \u001b[0misinstance\u001b[0m\u001b[0;34m(\u001b[0m\u001b[0mitem\u001b[0m\u001b[0;34m,\u001b[0m \u001b[0mint\u001b[0m\u001b[0;34m)\u001b[0m\u001b[0;34m:\u001b[0m\u001b[0;34m\u001b[0m\u001b[0m\n\u001b[1;32m    109\u001b[0m             \u001b[0;32mreturn\u001b[0m \u001b[0mself\u001b[0m\u001b[0;34m.\u001b[0m\u001b[0mvalues\u001b[0m\u001b[0;34m(\u001b[0m\u001b[0;34m)\u001b[0m\u001b[0;34m[\u001b[0m\u001b[0mitem\u001b[0m\u001b[0;34m]\u001b[0m\u001b[0;34m\u001b[0m\u001b[0m\n",
      "\u001b[0;31mKeyError\u001b[0m: 'Debiasable'"
     ]
    }
   ],
   "source": [
    "# Use only galaxies with surface brightness/redshift ranges that are considered \"debiasable\"\n",
    "# This table is computed from p_features_thresholds.ipynb\n",
    "\n",
    "ferengi_filename = \"../data/ferengi_debiasable_data.fits\"\n",
    "if not os.path.exists(ferengi_filename):\n",
    "    ferengi_filename = download_from_dropbox(\"https://www.dropbox.com/s/ayhz1vx3b17p4y7/ferengi_debiasable_data.fits?dl=1\")\n",
    "alldata = Table.read(ferengi_filename)    \n",
    "\n",
    "data = alldata[alldata['Debiasable'] == True]\n",
    "\n",
    "# Limit to galaxies that have data at z_sim = z0, since that's what we're normalizing to.\n",
    "z0 = 0.3\n",
    "unique_galaxies = set(data['sdss_id'])\n",
    "z0ind = np.zeros(len(data),dtype=bool)\n",
    "eps = 1e-3\n",
    "for ug in unique_galaxies:\n",
    "    ind = (data['sdss_id'] == ug)\n",
    "    if data[ind]['sim_redshift'].min() < (z0+eps):\n",
    "        z0ind[ind] = True\n",
    "        \n",
    "data_z0 = data[z0ind]"
   ]
  },
  {
   "cell_type": "markdown",
   "metadata": {},
   "source": [
    "##### \"Zeta method\""
   ]
  },
  {
   "cell_type": "markdown",
   "metadata": {},
   "source": [
    "Assume that the change in $f_{features}$ as a function of redshift can be parameterized as:\n",
    "\n",
    "$\\frac{f_f}{f_{f,z=z_0}} = e^{-\\frac{(z-z_0)}{\\zeta}}$\n",
    "\n",
    "where $z_0=0.3$ is the lowest redshift in the FERENGIed images."
   ]
  },
  {
   "cell_type": "code",
   "execution_count": null,
   "metadata": {
    "collapsed": false
   },
   "outputs": [],
   "source": [
    "def fzeta_exp(p,x):\n",
    "    \n",
    "    #y = p[0] * np.exp(-1 * (x-p[1])/p[2])\n",
    "    \n",
    "    y = np.exp(-1 * (x-z0)/p[0])\n",
    "\n",
    "    return y\n",
    "    \n",
    "def fzeta_lin(p,x):\n",
    "    \n",
    "    y = p[0] + p[1] * x\n",
    "\n",
    "    return y\n",
    "\n",
    "def fzeta(p,x):\n",
    "    \n",
    "    # Results are qualitatively the same for both lin and exp versions (should show this explicitly)\n",
    "    # Use the exponential version for now.\n",
    "    \n",
    "    return fzeta_exp(p,x)\n",
    "\n",
    "def errfunc(p,x,y,s):\n",
    "    \n",
    "    err = (y - fzeta(p,x))/s\n",
    "\n",
    "    return err\n",
    "\n",
    "def errfunc_lin(p,x,y,s):\n",
    "    \n",
    "    err = (y - fzeta_lin(p,x))/s\n",
    "\n",
    "    return err\n",
    "\n",
    "def error_bars(k,n=40,c=0.683):\n",
    "\n",
    "    f_gal_lower = dist.beta.ppf((1-c)/2.,k+1,n-k+1)\n",
    "    f_gal_upper = dist.beta.ppf(1-(1-c)/2.,k+1,n-k+1)\n",
    "    f_gal_err = (f_gal_upper - f_gal_lower) / 2.0\n",
    "    \n",
    "    return f_gal_err\n",
    "\n",
    "def common_labels(fig,xlabel=None,ylabel=None,xfontsize=12,yfontsize=12):\n",
    "\n",
    "    # Set common labels\n",
    "    cax = fig.add_subplot(111)    # The big subplot\n",
    "    cax.set_axis_bgcolor('none')\n",
    "    cax.spines['top'].set_color('none')\n",
    "    cax.spines['bottom'].set_color('none')\n",
    "    cax.spines['left'].set_color('none')\n",
    "    cax.spines['right'].set_color('none')\n",
    "    cax.tick_params(labelcolor='none', top='off', bottom='off', left='off', right='off')\n",
    "    cax.set_xlabel(xlabel,fontsize=xfontsize)\n",
    "    cax.set_ylabel(ylabel,fontsize=yfontsize)\n",
    "\n",
    "    return cax"
   ]
  },
  {
   "cell_type": "code",
   "execution_count": null,
   "metadata": {
    "collapsed": false
   },
   "outputs": [],
   "source": [
    "p_guess = np.array([0.5])\n",
    "\n",
    "# Set up plot\n",
    "fig,axarr = plt.subplots(nrows=10,ncols=5,sharex=True,sharey=True,figsize=(15,15))\n",
    "bigax = common_labels(fig,'Redshift',r'$\\frac{f_{features}}{f_{features,z=z_0}}$',14,20)\n",
    "zarr = np.linspace(0,1,50)\n",
    "\n",
    "# For examples, only plot galaxies with an evolution correction of zero.\n",
    "evol = 0.0\n",
    "e0 = data_z0[np.absolute(data_z0['sim_evolution'] - evol) < 0.001]\n",
    "unique_galaxies = set(e0['sdss_id'])\n",
    "\n",
    "for ax in axarr.ravel():\n",
    "    \n",
    "    slen = 0\n",
    "    # Make sure there are enough points to fit a function\n",
    "    while slen < (len(p_guess)+1):\n",
    "        ind = (e0['sdss_id'] == unique_galaxies.pop())\n",
    "        slen = sum(ind)\n",
    "        \n",
    "    galaxy1 = e0[ind]\n",
    "\n",
    "    z_gal = galaxy1['sim_redshift']\n",
    "    f_gal = galaxy1['p_features']\n",
    "    \n",
    "    #  ADD ERROR BARS\n",
    "    n = 40  # assume 40 classifications per galaxy; it'd be better to use true value, though\n",
    "    f_gal_err = error_bars(f_gal*n,n)\n",
    "    f_gal_norm = f_gal / f_gal[0]\n",
    "    f_gal_norm_err = np.sqrt((f_gal_err/f_gal)**2 + (f_gal_err[0]/f_gal[0])**2) * f_gal_norm\n",
    "\n",
    "    # Values must be explicitly cast as double-type precision for optimization to work. Incredibly frustrating.\n",
    "    # Fix: http://stackoverflow.com/questions/12473406/scipy-optimize-leastsq-returns-best-guess-parameters-not-new-best-fit \n",
    "\n",
    "    p, cov, infodict, mesg, ier = optimize.leastsq(errfunc,p_guess,args=(z_gal.astype(np.float64),\n",
    "                                                                         f_gal_norm.astype(np.float64),\n",
    "                                                                         f_gal_norm_err.astype(np.float64)),\n",
    "                                                   full_output=1)\n",
    "    ax.plot(z_gal,f_gal_norm,lw=2)\n",
    "    ax.errorbar(z_gal,f_gal_norm, f_gal_norm_err)\n",
    "    ax.plot(zarr,fzeta_exp(p,zarr),'--',lw=1)\n",
    "    ax.set_title('$f_0={:.2f}\\; \\zeta={:.2f}$'.format(f_gal[0], p[0]))\n",
    "    ax.set_xlim(0,1)\n",
    "    ax.set_ylim(0,2)"
   ]
  },
  {
   "cell_type": "code",
   "execution_count": null,
   "metadata": {
    "collapsed": false
   },
   "outputs": [],
   "source": [
    "# Find zeta for all images\n",
    "\n",
    "data_z0['zeta'] = np.ones(len(data_z0)) * -99\n",
    "data_z0['delchisq'] = np.ones(len(data_z0)) * -99\n",
    "\n",
    "for gal in unique_galaxies:\n",
    "    \n",
    "    # Loop over evolution corrections\n",
    "    \n",
    "    for evo in set(data_z0['sim_evolution']):\n",
    "        \n",
    "        # Find data for this galaxy at all redshifts\n",
    "        \n",
    "        ind = (data_z0['sdss_id'] == gal) & (np.absolute(data_z0['sim_evolution'] - evo) < 0.001)\n",
    "        \n",
    "        # Make sure there are enough points to fit a function\n",
    "        if sum(ind) > 3:\n",
    "        \n",
    "            galaxy1 = data_z0[ind]\n",
    "            \n",
    "            z_gal = galaxy1['sim_redshift']\n",
    "            f_gal = galaxy1['p_features']\n",
    "            \n",
    "            #  ADD SOME ROUGH ERROR BARS\n",
    "            f_gal_err = error_bars(f_gal*n,n)\n",
    "            f_gal_norm = f_gal / f_gal[0]\n",
    "            f_gal_norm_err = np.sqrt((f_gal_err/f_gal)**2 + (f_gal_err[0]/f_gal[0])**2) * f_gal_norm\n",
    "            \n",
    "            try:\n",
    "                p, cov = optimize.leastsq(errfunc,p_guess,args=(z_gal.astype(np.float64),f_gal_norm.astype(np.float64),\n",
    "                                                                f_gal_norm_err.astype(np.float64)))\n",
    "                zeta = p[0]\n",
    "                chisq = (((f_gal_norm - fzeta(p,z_gal)) / f_gal_norm_err)**2).sum()\n",
    "                chisq_const = (((f_gal_norm - f_gal_norm.mean()) / f_gal_norm_err)**2).sum()\n",
    "                delchisq = chisq_const - chisq\n",
    "            except TypeError:\n",
    "                print 'Galaxy %s has only %i redshifted images' % (galaxy1['sdss_id'][0],len(z_gal))\n",
    "                zeta = -99.\n",
    "                \n",
    "            # Add zeta values to the larger table\n",
    "            data_z0['zeta'][ind] = p[0]\n",
    "            data_z0['delchisq'][ind] = delchisq"
   ]
  },
  {
   "cell_type": "code",
   "execution_count": null,
   "metadata": {
    "collapsed": false
   },
   "outputs": [],
   "source": [
    "# Plot the distribution of delta chi^2\n",
    "_ = plt.hist(data_z0['delchisq'][data_z0['delchisq']>-5], 30, histtype='step')\n",
    "plt.xlabel(r\"$\\Delta \\chi^2$\",fontsize=16);"
   ]
  },
  {
   "cell_type": "code",
   "execution_count": null,
   "metadata": {
    "collapsed": false
   },
   "outputs": [],
   "source": [
    "# How many galaxies have well-measured zeta values?\n",
    "\n",
    "print '%i galaxies have well-measured zeta values' % ((data_z0['zeta'] < 10.) & (data_z0['zeta'] > -99.)).sum()\n",
    "print '%i galaxies have zeta = -99' % (data_z0['zeta'] == -99.).sum()\n",
    "print len(data_z0['zeta'])"
   ]
  },
  {
   "cell_type": "code",
   "execution_count": null,
   "metadata": {
    "collapsed": false
   },
   "outputs": [],
   "source": [
    "# Plot distribution of zeta as function of surface brightness\n",
    "from scipy.stats import kendalltau\n",
    "import seaborn as sns\n",
    "\n",
    "sns.set(style=\"ticks\")\n",
    "\n",
    "# Only select unique galaxies (zeta is the same for all evolution corrections)\n",
    "\n",
    "dz3 = data_z0[(data_z0['sim_redshift'] == z0) & (data_z0['p_features'] >= 0.0) & (data_z0['delchisq'] > 3.0)]\n",
    "\n",
    "# Limit zeta to \"sensible\" values\n",
    "zetalim = dz3[(dz3['zeta'] < 10.) & (dz3['zeta'] > -98.)]\n",
    "x = zetalim['mu_max_i']\n",
    "y = np.log10(zetalim['zeta'])\n",
    "print \"%i (%i unique) galaxies with measured zeta values.\\n\" % (len(zetalim),len(set(zetalim['sdss_id'])))\n",
    "\n",
    "jg = sns.jointplot(x, y, kind=\"reg\", stat_func=kendalltau, color=\"#4CB391\")\n",
    "jg.set_axis_labels(r'$\\mu_{max,i}$ [mag/arcsec$^2$]',r'$\\log_{10}(\\zeta)$',fontsize=20);"
   ]
  },
  {
   "cell_type": "code",
   "execution_count": null,
   "metadata": {
    "collapsed": false
   },
   "outputs": [],
   "source": [
    "fit = jg.ax_joint.lines[0].get_data()\n",
    "x0,y0 = fit[0][0],fit[1][0]\n",
    "x1,y1 = fit[0][-1],fit[1][-1]\n",
    "\n",
    "# Slope, intercept where x = SB, y = log_10(zeta)\n",
    "slope = (y1-y0)/(x1-x0)\n",
    "intercept = y1 - slope*x1"
   ]
  },
  {
   "cell_type": "markdown",
   "metadata": {},
   "source": [
    "$\\log_{10}\\zeta = m\\mu + b$\n",
    "\n",
    "$\\zeta = 10^{m\\mu + b}$"
   ]
  },
  {
   "cell_type": "code",
   "execution_count": null,
   "metadata": {
    "collapsed": false
   },
   "outputs": [],
   "source": [
    "print('zeta = {:.1f} is a reasonable first order correction'.format(10**y.mean()))\n",
    "print('For a slightly improved correction, fit with the linear function such that log_10(zeta) = ({:.5f} * SB) + {:.5f}'.format(slope,intercept))"
   ]
  },
  {
   "cell_type": "markdown",
   "metadata": {},
   "source": [
    "### OK. We have a fit for $\\zeta$ based on the SB-$z$ space that should be correctable. Now to actually *correct* all the Hubble data based on this trend!"
   ]
  },
  {
   "cell_type": "code",
   "execution_count": null,
   "metadata": {
    "collapsed": false
   },
   "outputs": [],
   "source": [
    "# Download stripped-down version of the full GZH table. \n",
    "# Contains only OBJNO, survey, redshift, mu_hi, p_features, and categorization from FERENGI galaxies\n",
    "\n",
    "hst_filename = \"../data/gzh_task01_categorized.fits\"\n",
    "if not os.path.exists(hst_filename):\n",
    "    hst_filename = download_from_dropbox(\"https://www.dropbox.com/s/84hwl9171puxla5/gzh_task01_categorized.fits?dl=1\")\n",
    "hstdata = Table.read(hst_filename,format='fits')\n",
    "\n",
    "#hstdata_debiasable = hstdata[(hstdata['Correctable_Category'] == 'correctable') | (hstdata['Correctable_Category'] == 'nei')]\n",
    "# Very stupid error where whitespace in file isn't being stripped.\n",
    "hstdata = hstdata[hstdata['Correctable_Category'] == 'correctable       ']"
   ]
  },
  {
   "cell_type": "markdown",
   "metadata": {},
   "source": [
    "$\\hat\\zeta = \\zeta_0 + \\zeta_1 \\times SB$\n",
    "\n",
    "$\\hat f = f \\times e^{(z-z_0)/{\\hat\\zeta}}$\n",
    "\n",
    "# Mel's function (bounded between f and 1):\n",
    "\n",
    "$\\hat f = 1 - (1-f)e^{-(z-z_0)/{\\hat\\zeta}}$"
   ]
  },
  {
   "cell_type": "code",
   "execution_count": null,
   "metadata": {
    "collapsed": true
   },
   "outputs": [],
   "source": [
    "def fhat(f,z,zeta_hat=0.5):\n",
    "    \n",
    "    val = f * np.exp((z - z0)/ zeta_hat)\n",
    "    \n",
    "    return val\n",
    "\n",
    "def fhat_mel(f,z,zeta_hat=0.5):\n",
    "    \n",
    "    val = 1. - (1. - f)*np.exp(-(z - z0)/ zeta_hat)\n",
    "    \n",
    "    return val"
   ]
  },
  {
   "cell_type": "code",
   "execution_count": null,
   "metadata": {
    "collapsed": false
   },
   "outputs": [],
   "source": [
    "# Test the behavior of the functions for a random array of p_features and redshifts\n",
    "\n",
    "xarr = np.arange(0,1.001,0.001)\n",
    "zarr = np.random.rand(len(xarr))\n",
    "zarr_bounded = np.random.rand(len(xarr))+z0\n",
    "\n",
    "fig = plt.figure(figsize=(10,5))\n",
    "ax1 = fig.add_subplot(121)\n",
    "ax1.scatter(xarr,fhat(xarr,zarr),color='b',label='Standard')\n",
    "ax1.scatter(xarr,fhat_mel(xarr,zarr),color='r',label='Bounded')\n",
    "ax1.set_xlabel(r'$f_{\\rm raw}$',fontsize=20)\n",
    "ax1.set_ylabel(r'$\\hat f_{\\rm adj}$',fontsize=20)\n",
    "ax1.set_title(r'$z > 0$',fontsize=24)\n",
    "ax1.hlines(1,0,1,linestyle='--')\n",
    "ax1.hlines(0,0,1,linestyle='--')\n",
    "ax1.set_xlim(0,1)\n",
    "ax1.set_ylim(-1,5)\n",
    "ax1.legend(loc='upper left')\n",
    "ax2 = fig.add_subplot(122)\n",
    "ax2.scatter(xarr,fhat(xarr,zarr_bounded),color='b',label='Standard')\n",
    "ax2.scatter(xarr,fhat_mel(xarr,zarr_bounded),color='r',label='Bounded')\n",
    "ax2.hlines(1,0,1,linestyle='--')\n",
    "ax2.hlines(0,0,1,linestyle='--')\n",
    "ax2.set_xlim(0,1)\n",
    "ax2.set_ylim(-1,5)\n",
    "ax2.set_xlabel(r'$f_{\\rm raw}$',fontsize=20)\n",
    "ax2.set_title(r'$z > z_0$',fontsize=24)\n",
    "ax2.legend(loc='upper left');"
   ]
  },
  {
   "cell_type": "code",
   "execution_count": null,
   "metadata": {
    "collapsed": false
   },
   "outputs": [],
   "source": [
    "# Plot distribution of zeta_hat values from GZH\n",
    "\n",
    "mu = hstdata['MU_HI']\n",
    "zeta_hat = 10**(slope * mu + intercept)\n",
    "plt.hist(zeta_hat[np.isfinite(zeta_hat)],bins=20,range=(0,2))\n",
    "plt.xlabel(r'$\\hat\\zeta$',fontsize=20);"
   ]
  },
  {
   "cell_type": "code",
   "execution_count": null,
   "metadata": {
    "collapsed": false
   },
   "outputs": [],
   "source": [
    "# Plot 2d histogram of old vs new p_features, using both the standard and bounded equations\n",
    "\n",
    "old = hstdata['p_features']\n",
    "new = fhat(old,hstdata['Z'],zeta_hat)\n",
    "good_z = (hstdata['Z'] > 0.) & (hstdata['Z'] < 9.) & (new <= 1.)\n",
    "bad_z = (hstdata['Z'] > 0.) & (hstdata['Z'] < 9.) & (new > 1.)\n",
    "\n",
    "# Use standard fhat function\n",
    "fig = plt.figure(figsize=(15,5))\n",
    "ax1 = fig.add_subplot(121)\n",
    "hex1 = ax1.hexbin(old[good_z],new[good_z], cmap=plt.cm.YlOrRd_r,gridsize=50,vmax=100)\n",
    "ax1.set_xlabel(r'$f_{features}$',fontsize=20)\n",
    "ax1.set_ylabel(r'$\\hat f_{features}$',fontsize=20)\n",
    "cb1 = plt.colorbar(hex1)\n",
    "ax1.set_title('Standard method',fontsize=20)\n",
    "\n",
    "# Add the one-to-one line for comparision.\n",
    "# Upper left = boosted p_features for z > z0\n",
    "# Lower right = depressed p_features for z < z0\n",
    "\n",
    "ax1.plot([0,1],[0,1],color='k',lw=2,ls='--')\n",
    "\n",
    "# Use bounded fhat function\n",
    "new2 = fhat_mel(old,hstdata['Z'],zeta_hat)\n",
    "ax2 = fig.add_subplot(122)\n",
    "goodbins2 = (hstdata['Z'] > 0.) & (hstdata['Z'] < 9.) & (new2 > 0.)\n",
    "hex2 = ax2.hexbin(old[goodbins2],new2[goodbins2],cmap=plt.cm.YlOrRd_r,gridsize=50,vmax=100)\n",
    "ax2.set_xlabel(r'$f_{features}$',fontsize=20)\n",
    "ax2.set_ylabel(r'$\\hat f_{features}$',fontsize=20)\n",
    "ax2.set_xlim(0,1)\n",
    "ax2.set_ylim(0,1)\n",
    "cb2 = plt.colorbar(hex2)\n",
    "ax2.plot([0,1],[0,1],color='k',lw=2,ls='--')\n",
    "ax2.set_title('Bounded method',fontsize=20);"
   ]
  },
  {
   "cell_type": "code",
   "execution_count": null,
   "metadata": {
    "collapsed": false
   },
   "outputs": [],
   "source": [
    "print \"{:d} out of {:d} galaxies using the bounded method have adjusted f_features < 0.\".format(good_z.sum()-goodbins2.sum(),good_z.sum())"
   ]
  },
  {
   "cell_type": "code",
   "execution_count": null,
   "metadata": {
    "collapsed": true
   },
   "outputs": [],
   "source": []
  }
 ],
 "metadata": {
  "kernelspec": {
   "display_name": "Python 2",
   "language": "python",
   "name": "python2"
  },
  "language_info": {
   "codemirror_mode": {
    "name": "ipython",
    "version": 2
   },
   "file_extension": ".py",
   "mimetype": "text/x-python",
   "name": "python",
   "nbconvert_exporter": "python",
   "pygments_lexer": "ipython2",
   "version": "2.7.10"
  }
 },
 "nbformat": 4,
 "nbformat_minor": 0
}
