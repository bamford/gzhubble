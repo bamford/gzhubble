{
 "cells": [
  {
   "cell_type": "code",
   "execution_count": null,
   "metadata": {
    "collapsed": false
   },
   "outputs": [],
   "source": [
    "%pylab inline\n",
    "from astropy.io import fits as pyfits\n",
    "from astropy.table import Table,join\n",
    "import numpy as np\n",
    "from astropy.io.fits import Column\n",
    "from datetime import datetime\n",
    "import matplotlib.pyplot as plt\n",
    "import requests\n",
    "\n",
    "warnings.filterwarnings('ignore', category=RuntimeWarning, append=True)\n",
    "warnings.filterwarnings('ignore', category=UserWarning, append=True);"
   ]
  },
  {
   "cell_type": "code",
   "execution_count": 15,
   "metadata": {
    "collapsed": true
   },
   "outputs": [],
   "source": [
    "# Load data from Dropbox folder instead of clogging up Github\n",
    "\n",
    "def download_from_dropbox(url):\n",
    "    \n",
    "    local_filename = \"../{:}\".format(url.split(\"/\")[-1].split(\"?\")[0])\n",
    "    r = requests.get(url, stream=True)\n",
    "    with open(local_filename, 'wb') as f:\n",
    "        for chunk in r.iter_content(chunk_size=1024): \n",
    "            if chunk: # filter out keep-alive new chunks\n",
    "                f.write(chunk)\n",
    "                f.flush()\n",
    "            \n",
    "    return local_filename"
   ]
  },
  {
   "cell_type": "code",
   "execution_count": null,
   "metadata": {
    "collapsed": false
   },
   "outputs": [],
   "source": [
    "# 3 tables:\n",
    "# Table 1 - gz_hst_table_raw_and_weighted_votes.fits; contains all the vote data except for goods_full, but I hope to add that as soon as I get that data.\n",
    "votes_fname = download_from_dropbox(\"https://www.dropbox.com/s/97e0p6nla1zxqxc/gz_hst_table_raw_and_weighted_votes.fits?dl=1\")\n",
    "votes_data = Table.read(votes_fname)\n",
    "\n",
    "# Table 2 - lo_hi_limits.fits: just need low, high limits on p_features (2 columns). \n",
    "lohi_fname = download_from_dropbox(\"https://www.dropbox.com/s/kmwoj3llzjvqey4/lo_hi_limits.fits?dl=1\")\n",
    "lohi_data = Table.read(lohi_fname)\n",
    "\n",
    "#Table 3 - gzh_t01_z_mu_categorized.fits, want z, mu, and category information (3 columns)\n",
    "meta_fname = download_from_dropbox(\"https://www.dropbox.com/s/l80ibbm8y7rf2tw/gzh_t01_z_mu_categorized.fits?dl=1\")\n",
    "meta_data = Table.read(meta_fname)\n"
   ]
  },
  {
   "cell_type": "code",
   "execution_count": 17,
   "metadata": {
    "collapsed": false
   },
   "outputs": [],
   "source": [
    "lohi_data.remove_column('Z_BEST')\n",
    "lohi_data.remove_column('MU_HI')\n",
    "lohi_data.remove_column('t01_smooth_or_features_a02_features_or_disk_weighted_fraction')\n",
    "\n",
    "meta_data.remove_column('t01_smooth_or_features_a02_features_or_disk_weighted_fraction')"
   ]
  },
  {
   "cell_type": "code",
   "execution_count": 18,
   "metadata": {
    "collapsed": false
   },
   "outputs": [],
   "source": [
    "#Join Table 2 and Table 3- will have z, mu, low/hi limits on p_features\n",
    "lohi_meta = join(meta_data, lohi_data, keys='OBJNO',join_type='left')"
   ]
  },
  {
   "cell_type": "code",
   "execution_count": 19,
   "metadata": {
    "collapsed": false
   },
   "outputs": [
    {
     "data": {
      "text/plain": [
       "181101"
      ]
     },
     "execution_count": 19,
     "metadata": {},
     "output_type": "execute_result"
    }
   ],
   "source": [
    "len(lohi_meta)"
   ]
  },
  {
   "cell_type": "code",
   "execution_count": 20,
   "metadata": {
    "collapsed": false
   },
   "outputs": [],
   "source": [
    "#strings have empty spaces in objno and correctable_category columns - get rid of them! \n",
    "for i in range(0,len(votes_data['OBJNO'])):\n",
    "    votes_data['OBJNO'][i]=votes_data['OBJNO'][i].strip()\n",
    "    lohi_meta['OBJNO'][i]=lohi_meta['OBJNO'][i].strip()\n",
    "    lohi_meta['Correctable_Category'][i]=lohi_meta['Correctable_Category'][i].strip()"
   ]
  },
  {
   "cell_type": "code",
   "execution_count": 21,
   "metadata": {
    "collapsed": true
   },
   "outputs": [],
   "source": [
    "#join Table 1 (votes + Imaging) with the other stuff:\n",
    "\n",
    "input_table=join(votes_data,lohi_meta,keys='OBJNO')"
   ]
  },
  {
   "cell_type": "code",
   "execution_count": 22,
   "metadata": {
    "collapsed": false
   },
   "outputs": [],
   "source": [
    "#Set path for output\n",
    "fname = '/home/mel/Dropbox/gzhubble/hubble_files/catalog_debiasing_files/input_for_hubble_debiased_catalog.fits'\n",
    "\n",
    "input_table.write(fname,overwrite=True)\n"
   ]
  },
  {
   "cell_type": "code",
   "execution_count": null,
   "metadata": {
    "collapsed": false
   },
   "outputs": [],
   "source": []
  },
  {
   "cell_type": "code",
   "execution_count": null,
   "metadata": {
    "collapsed": true
   },
   "outputs": [],
   "source": []
  }
 ],
 "metadata": {
  "kernelspec": {
   "display_name": "Python 2",
   "language": "python",
   "name": "python2"
  },
  "language_info": {
   "codemirror_mode": {
    "name": "ipython",
    "version": 2
   },
   "file_extension": ".py",
   "mimetype": "text/x-python",
   "name": "python",
   "nbconvert_exporter": "python",
   "pygments_lexer": "ipython2",
   "version": "2.7.6"
  }
 },
 "nbformat": 4,
 "nbformat_minor": 0
}
