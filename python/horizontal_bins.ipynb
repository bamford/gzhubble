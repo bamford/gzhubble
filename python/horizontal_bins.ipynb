{
 "cells": [
  {
   "cell_type": "markdown",
   "metadata": {},
   "source": [
    "# Goal: figure out how to do horizontal bins for $p_{\\textrm{features},z=0.3}$\n",
    "\n",
    "Discussion following telecon on Tom Melvin's thesis corrections (TM,KLM,KW,MG on 29 Jul 2015)"
   ]
  },
  {
   "cell_type": "code",
   "execution_count": 1,
   "metadata": {
    "collapsed": true
   },
   "outputs": [],
   "source": [
    "# Set up packages\n",
    "\n",
    "%matplotlib inline\n",
    "from matplotlib import pyplot as plt\n",
    "import numpy as np\n",
    "from scipy import stats\n",
    "import random"
   ]
  },
  {
   "cell_type": "code",
   "execution_count": 2,
   "metadata": {
    "collapsed": false
   },
   "outputs": [],
   "source": [
    "# Generate a simulated data set\n",
    "\n",
    "N = 50\n",
    "x = np.linspace(0,1,N)\n",
    "y = (x*x**0.5) + stats.norm(0,0.1).rvs(N)\n",
    "y[y<0] = 0.\n",
    "y[y>1] = 1."
   ]
  },
  {
   "cell_type": "code",
   "execution_count": 3,
   "metadata": {
    "collapsed": true
   },
   "outputs": [],
   "source": [
    "'''\n",
    "Approach: fit data with low-order polynomial, \n",
    "then evaluate polynomial near bin points. \n",
    "\n",
    "Fit function must pass between (0,0) and (1,1); \n",
    "uses method of Lagrange multipliers detailed\n",
    "here: http://stackoverflow.com/questions/15191088/how-to-do-a-polynomial-fit-with-fixed-points\n",
    "'''\n",
    "\n",
    "def polyfit_with_fixed_points(n, x, y, xf, yf) :\n",
    "    mat = np.empty((n + 1 + len(xf),) * 2)\n",
    "    vec = np.empty((n + 1 + len(xf),))\n",
    "    x_n = x**np.arange(2 * n + 1)[:, None]\n",
    "    yx_n = np.sum(x_n[:n + 1] * y, axis=1)\n",
    "    x_n = np.sum(x_n, axis=1)\n",
    "    idx = np.arange(n + 1) + np.arange(n + 1)[:, None]\n",
    "    mat[:n + 1, :n + 1] = np.take(x_n, idx)\n",
    "    xf_n = xf**np.arange(n + 1)[:, None]\n",
    "    mat[:n + 1, n + 1:] = xf_n / 2\n",
    "    mat[n + 1:, :n + 1] = xf_n.T\n",
    "    mat[n + 1:, n + 1:] = 0\n",
    "    vec[:n + 1] = yx_n\n",
    "    vec[n + 1:] = yf\n",
    "    params = np.linalg.solve(mat, vec)\n",
    "    \n",
    "    return params[:n + 1]\n",
    "\n",
    "def calculate_hbins(vbins,deg=3):\n",
    "    \n",
    "    eps = 1e-3\n",
    "    xf = (0+eps,1) # offset by small amount so matrix is non-singular\n",
    "    yf = (0,1)\n",
    "    p = polyfit_with_fixed_points(deg,x,y,xf,yf)\n",
    "    poly = np.polynomial.Polynomial(p)\n",
    "    \n",
    "    return poly"
   ]
  },
  {
   "cell_type": "code",
   "execution_count": 4,
   "metadata": {
    "collapsed": false
   },
   "outputs": [],
   "source": [
    "def plot_hbins(poly):\n",
    "    fig,ax = plt.subplots()\n",
    "    ax.scatter(x,y)\n",
    "    x_new = np.linspace(0,1,1000)\n",
    "    ax.plot(x_new,poly(x_new),color='k',ls='--')\n",
    "    astart,vstart = 0.,0.\n",
    "    for vb in vbins:\n",
    "        hb = poly(vb)\n",
    "        aend = 1. if vb==1. else hb\n",
    "        ax.axhspan(astart,aend,alpha=0.5,color=\"#%06x\" % random.randint(0, 0xFFFFFF))\n",
    "        ax.text(1.1,np.mean((astart,aend)),'Bin %.1f to %.1f' % (vstart,vb) )\n",
    "        vstart = vb\n",
    "        astart = hb\n",
    "    ax.set_xlim(0,1);\n",
    "    ax.set_ylim(0,1);\n",
    "    \n",
    "    return None"
   ]
  },
  {
   "cell_type": "code",
   "execution_count": 5,
   "metadata": {
    "collapsed": false
   },
   "outputs": [
    {
     "name": "stdout",
     "output_type": "stream",
     "text": [
      "Values of p_features to use:\n",
      "[ 0.13386194  0.35662776  0.68237004  1.        ]\n"
     ]
    },
    {
     "data": {
      "image/png": "[encoded data removed]",
      "text/plain": [
       "<matplotlib.figure.Figure at 0x107407410>"
      ]
     },
     "metadata": {},
     "output_type": "display_data"
    }
   ],
   "source": [
    "# Set the upper bin parameters in p_{features,z=0.3} we want to fit\n",
    "vbins = (0.2,0.5,0.8,1.0)\n",
    "\n",
    "poly = calculate_hbins(vbins)\n",
    "plot_hbins(poly)\n",
    "\n",
    "print 'Values of p_features to use:'\n",
    "print poly(vbins)"
   ]
  },
  {
   "cell_type": "code",
   "execution_count": null,
   "metadata": {
    "collapsed": true
   },
   "outputs": [],
   "source": []
  }
 ],
 "metadata": {
  "kernelspec": {
   "display_name": "Python 2",
   "language": "python",
   "name": "python2"
  },
  "language_info": {
   "codemirror_mode": {
    "name": "ipython",
    "version": 2
   },
   "file_extension": ".py",
   "mimetype": "text/x-python",
   "name": "python",
   "nbconvert_exporter": "python",
   "pygments_lexer": "ipython2",
   "version": "2.7.10"
  }
 },
 "nbformat": 4,
 "nbformat_minor": 0
}
