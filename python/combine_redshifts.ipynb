{
 "cells": [
  {
   "cell_type": "markdown",
   "metadata": {},
   "source": [
    "# Obtaining the best redshift from 3 Catalogs: Griffiths, 3dHST, UltraVISTA\n",
    "\n",
    "## What we have:\n",
    "## Griffiths has spec-z, photo-z. Their best Z is 'high-quality spec z else photoz.' It is not known how high-quality is defined. The errors listed on their photoz are 3sig. \n",
    "## 3dHST has spec-zs, photo-zs, and grism-zs. Their 'z_best' can be any of these.\n",
    "## UltraVISTA just has photo-zs. \n",
    "## MUSYC has spec-zs and photo-z's. "
   ]
  },
  {
   "cell_type": "markdown",
   "metadata": {},
   "source": [
    "## Workflow for choosing best redshift:\n",
    "## 1) If Griffiths has high quality spec z (z_spec = z_best), use that.  Note: Griffith et al states that SPECZ = Z if z_quality >=3, but that doens't seem to be the case for places that don't have a quality measurement - inspection showed that in these cases, the specz was more consistent with the other catalogs than the photoz, so I'm using z_spec = z_best as the critera here instead of z_qual >=3. \n",
    "## else if 3dHST spec-z = 3dHST best_z, use that. \n",
    "## else if MUSYC has spec-z (within real range; 0.01< z < 5), use that. \n",
    "## else (no good spec-z's anywhere):\n",
    "## compare 1-sig errors on Griffiths photoz, 3dHST grism z, 3dHST photoz, UltraVISTA photoz MUSYC. choose that with lowest err. Note: all except Griffiths report 1 sig errors; Griffiths reports 3sig if Imaging = COSMOS, so that error is divided by 3 in the comparison.\n",
    "\n",
    " \n",
    "\n"
   ]
  },
  {
   "cell_type": "code",
   "execution_count": 1,
   "metadata": {
    "collapsed": true
   },
   "outputs": [],
   "source": [
    "%matplotlib inline\n",
    "\n",
    "from astropy.io import fits as pyfits\n",
    "from astropy.table import Table\n",
    "import numpy as np\n",
    "from astropy.io.fits import Column\n",
    "from datetime import datetime\n",
    "from operator import itemgetter\n",
    "import matplotlib.pyplot as plt\n",
    "import os\n",
    "import warnings\n",
    "import requests"
   ]
  },
  {
   "cell_type": "code",
   "execution_count": 2,
   "metadata": {
    "collapsed": true
   },
   "outputs": [],
   "source": [
    "def download_from_dropbox(url):\n",
    "    \n",
    "    local_filename = \"{:}\".format(url.split(\"/\")[-1].split(\"?\")[0])\n",
    "    r = requests.get(url, stream=True)\n",
    "    with open(local_filename, 'wb') as f:\n",
    "        for chunk in r.iter_content(chunk_size=1024): \n",
    "            if chunk: # filter out keep-alive new chunks\n",
    "                f.write(chunk)\n",
    "                f.flush()\n",
    "            \n",
    "    return local_filename"
   ]
  },
  {
   "cell_type": "code",
   "execution_count": 3,
   "metadata": {
    "collapsed": false
   },
   "outputs": [
    {
     "name": "stderr",
     "output_type": "stream",
     "text": [
      "/usr/local/lib/python2.7/dist-packages/requests/packages/urllib3/util/ssl_.py:315: SNIMissingWarning: An HTTPS request has been made, but the SNI (Subject Name Indication) extension to TLS is not available on this platform. This may cause the server to present an incorrect TLS certificate, which can cause validation failures. For more information, see https://urllib3.readthedocs.org/en/latest/security.html#snimissingwarning.\n",
      "  SNIMissingWarning\n",
      "/usr/local/lib/python2.7/dist-packages/requests/packages/urllib3/util/ssl_.py:120: InsecurePlatformWarning: A true SSLContext object is not available. This prevents urllib3 from configuring SSL appropriately and may cause certain SSL connections to fail. For more information, see https://urllib3.readthedocs.org/en/latest/security.html#insecureplatformwarning.\n",
      "  InsecurePlatformWarning\n",
      "/usr/local/lib/python2.7/dist-packages/requests/packages/urllib3/util/ssl_.py:120: InsecurePlatformWarning: A true SSLContext object is not available. This prevents urllib3 from configuring SSL appropriately and may cause certain SSL connections to fail. For more information, see https://urllib3.readthedocs.org/en/latest/security.html#insecureplatformwarning.\n",
      "  InsecurePlatformWarning\n"
     ]
    }
   ],
   "source": [
    "old_catalog_filename = download_from_dropbox(\"https://www.dropbox.com/s/ge7sgtf0crxmwyi/all_redshift_info.fits?dl=1\")\n",
    "old_catalog = Table.read(old_catalog_filename)\n"
   ]
  },
  {
   "cell_type": "code",
   "execution_count": 4,
   "metadata": {
    "collapsed": false
   },
   "outputs": [],
   "source": [
    "subjects=set(old_catalog['OBJNO'])\n",
    "imagings=set(old_catalog['IMAGING'])"
   ]
  },
  {
   "cell_type": "code",
   "execution_count": 67,
   "metadata": {
    "collapsed": false
   },
   "outputs": [],
   "source": [
    "#add new redshift columns \n",
    "col1=Table.Column(name='Z_BEST',length=len(old_catalog))\n",
    "col2=Table.Column(name='Z_BEST_TYPE',length=len(old_catalog),dtype='|S10')\n",
    "col3=Table.Column(name='Z_BEST_SOURCE',length=len(old_catalog),dtype='|S10')"
   ]
  },
  {
   "cell_type": "code",
   "execution_count": 68,
   "metadata": {
    "collapsed": false
   },
   "outputs": [],
   "source": [
    "updated_table = old_catalog.copy(copy_data=True)\n",
    "updated_table.add_columns((col1,col2,col3))"
   ]
  },
  {
   "cell_type": "code",
   "execution_count": 128,
   "metadata": {
    "collapsed": false
   },
   "outputs": [],
   "source": [
    "def get_best_redshift(galaxy):\n",
    "    \n",
    "    #define Griffith variables\n",
    "    griffith_specz = galaxy['SPECZ']\n",
    "    griffith_quality = galaxy['ZQUALITY']\n",
    "    griffith_photoz = galaxy['PHOTOZ']\n",
    "    griffith_bestz = galaxy['Z']\n",
    "    \n",
    "    if galaxy['IMAGING']=='COSMOS    ':\n",
    "        griffith_photoz_err = galaxy['PHOTOZ_ERR']/galaxy['PHOTOZ']/3.\n",
    "    else:\n",
    "        griffith_photoz_err = galaxy['PHOTOZ_ERR']/galaxy['PHOTOZ']\n",
    "    \n",
    "    if str(griffith_photoz_err)=='nan':\n",
    "        griffith_photoz_err = 99\n",
    "    if galaxy['PHOTOZ_ERR']<=0:\n",
    "        griffith_photoz_err = 99\n",
    "\n",
    "    #define 3dhst variables\n",
    "    dhst_specz = galaxy['z_spec']\n",
    "    dhst_bestz = galaxy['z_best']\n",
    "    dhst_photoz = galaxy['z_peak_phot']\n",
    "    dhst_photoz_err = (galaxy['z_phot_u68']-galaxy['z_phot_l68'])/dhst_photoz\n",
    "\n",
    "    dhst_grismz = galaxy['z_max_grism']\n",
    "    dhst_grismz_err = (galaxy['z_grism_u68']-galaxy['z_grism_l68'])/dhst_grismz\n",
    "\n",
    "    \n",
    "    if str(dhst_photoz_err)=='nan':\n",
    "        dhst_photoz_err = 99\n",
    "    if dhst_photoz < 0:\n",
    "        dhst_photoz_err = 99\n",
    "    if str(dhst_grismz_err)=='nan':\n",
    "        dhst_grismz_err = 99\n",
    "    if dhst_grismz < 0:\n",
    "        dhst_grismz_err = 99\n",
    "    \n",
    "    #define ultravista variables\n",
    "    uv_photoz = galaxy['zPDF']\n",
    "    uv_photoz_err = (galaxy['zPDF_u68']-galaxy['zPDF_l68'])/uv_photoz\n",
    "    \n",
    "    if str(uv_photoz_err)=='nan':\n",
    "        uv_photoz_err = 99\n",
    "    if uv_photoz < 0:\n",
    "        uv_photoz_err=99\n",
    "        \n",
    "    #define MUSYC variables:\n",
    "    musyc_specz = galaxy['Z_SPEC_ALL']\n",
    "    musyc_photoz = galaxy['Z_PEAK']\n",
    "    musyc_photoz_err = (galaxy['z_U68']-galaxy['z_L68'])/musyc_photoz\n",
    "    \n",
    "    if str(musyc_photoz_err)=='nan':\n",
    "        musyc_photoz_err = 99\n",
    "    if musyc_photoz < 0:\n",
    "        musyc_photoz_err=99\n",
    "    \n",
    "    #Order of operations to determine which redshift to use:\n",
    "    #1) If high quality specz exists in Griffiths catalog, use that first. \n",
    "    if griffith_specz==griffith_bestz and griffith_specz > 0 and griffith_specz < 9:\n",
    "        return griffith_specz,'SPEC_Z','Griffith'\n",
    "        \n",
    "    #if no specz in Griffith, check 3Dhst\n",
    "    elif dhst_specz == dhst_bestz and dhst_specz >0 and dhst_specz <9: \n",
    "            return dhst_bestz,'SPEC_Z','3DHST'\n",
    "    #if no specz in Griffith or 3Dhst, check MUSYC:\n",
    "    elif musyc_specz > 0 and musyc_specz < 9:\n",
    "            return musyc_specz, 'SPEC_Z','MUSYC'\n",
    "        \n",
    "    else: #no speczs, so check which photoz or grism has smallest error. \n",
    "        photoz_list = [[griffith_photoz,griffith_photoz_err,'PHOTO_Z','Griffith'],[dhst_photoz,dhst_photoz_err,'PHOTO_Z','3DHST'],[uv_photoz,uv_photoz_err,'PHOTO_Z','UltraVISTA'],[dhst_grismz,dhst_grismz_err,'GRISM_Z','3DHST'],[musyc_photoz,musyc_photoz_err,'PHOTO_Z','MUSYC']]\n",
    "        photoz_list = sorted(photoz_list, key=itemgetter(1)) #sort by which has smallest error            \n",
    "        # if photo_z is a real number: \n",
    "        if photoz_list[0][0] > 0 and photoz_list[0][0] <9:\n",
    "            return photoz_list[0][0],photoz_list[0][2],photoz_list[0][3]\n",
    "        #else no good redshifts anywhere, return blank\n",
    "        else:\n",
    "            return 0,'',''"
   ]
  },
  {
   "cell_type": "code",
   "execution_count": 129,
   "metadata": {
    "collapsed": false
   },
   "outputs": [
    {
     "name": "stdout",
     "output_type": "stream",
     "text": [
      "0\n",
      "10000\n",
      "20000\n",
      "30000\n",
      "40000\n",
      "50000\n",
      "60000\n",
      "70000\n",
      "80000"
     ]
    },
    {
     "name": "stderr",
     "output_type": "stream",
     "text": [
      "/usr/local/lib/python2.7/dist-packages/ipykernel/__main__.py:10: RuntimeWarning: invalid value encountered in float_scalars\n",
      "/usr/local/lib/python2.7/dist-packages/ipykernel/__main__.py:10: RuntimeWarning: divide by zero encountered in float_scalars\n"
     ]
    },
    {
     "name": "stdout",
     "output_type": "stream",
     "text": [
      "\n",
      "90000\n",
      "100000\n",
      "110000\n",
      "120000\n",
      "130000\n",
      "140000\n",
      "150000\n",
      "160000\n",
      "170000\n",
      "180000\n",
      "190000\n"
     ]
    }
   ],
   "source": [
    "for g,galaxy in enumerate(updated_table):\n",
    "    galaxy['Z_BEST'], galaxy['Z_BEST_TYPE'], galaxy['Z_BEST_SOURCE'] = get_best_redshift(galaxy)\n",
    "    if g % 10000==0:\n",
    "        print g "
   ]
  },
  {
   "cell_type": "code",
   "execution_count": 130,
   "metadata": {
    "collapsed": false
   },
   "outputs": [],
   "source": [
    "updated_table.write('/home/mel/Dropbox/gzhubble/hubble_files/gzh_redshift_data/best_redshift_table_%i_%i_%i.fits'%(datetime.now().month,datetime.now().day,datetime.now().year),overwrite=True)\n"
   ]
  },
  {
   "cell_type": "code",
   "execution_count": 144,
   "metadata": {
    "collapsed": false
   },
   "outputs": [
    {
     "name": "stdout",
     "output_type": "stream",
     "text": [
      "for survey AEGIS     :\n",
      "for source \n",
      "GRISM_Z:  = 0\n",
      "SPEC_Z:  = 0\n",
      "PHOTO_Z:  = 0\n",
      ":  = 1134\n",
      "for source 3DHST\n",
      "GRISM_Z:  = 515\n",
      "SPEC_Z:  = 12\n",
      "PHOTO_Z:  = 249\n",
      ":  = 0\n",
      "for source UltraVISTA\n",
      "GRISM_Z:  = 0\n",
      "SPEC_Z:  = 0\n",
      "PHOTO_Z:  = 0\n",
      ":  = 0\n",
      "for source MUSYC\n",
      "GRISM_Z:  = 0\n",
      "SPEC_Z:  = 0\n",
      "PHOTO_Z:  = 0\n",
      ":  = 0\n",
      "for source Griffith\n",
      "GRISM_Z:  = 0\n",
      "SPEC_Z:  = 3656\n",
      "PHOTO_Z:  = 2941\n",
      ":  = 0\n",
      "\n",
      "for survey GOODS-N   :\n",
      "for source \n",
      "GRISM_Z:  = 0\n",
      "SPEC_Z:  = 0\n",
      "PHOTO_Z:  = 0\n",
      ":  = 159\n",
      "for source 3DHST\n",
      "GRISM_Z:  = 101\n",
      "SPEC_Z:  = 5\n",
      "PHOTO_Z:  = 253\n",
      ":  = 0\n",
      "for source UltraVISTA\n",
      "GRISM_Z:  = 0\n",
      "SPEC_Z:  = 0\n",
      "PHOTO_Z:  = 0\n",
      ":  = 0\n",
      "for source MUSYC\n",
      "GRISM_Z:  = 0\n",
      "SPEC_Z:  = 0\n",
      "PHOTO_Z:  = 0\n",
      ":  = 0\n",
      "for source Griffith\n",
      "GRISM_Z:  = 0\n",
      "SPEC_Z:  = 1997\n",
      "PHOTO_Z:  = 36\n",
      ":  = 0\n",
      "\n",
      "for survey GOODS_FULL:\n",
      "for source \n",
      "GRISM_Z:  = 0\n",
      "SPEC_Z:  = 0\n",
      "PHOTO_Z:  = 0\n",
      ":  = 11946\n",
      "for source 3DHST\n",
      "GRISM_Z:  = 2893\n",
      "SPEC_Z:  = 745\n",
      "PHOTO_Z:  = 1662\n",
      ":  = 0\n",
      "for source UltraVISTA\n",
      "GRISM_Z:  = 0\n",
      "SPEC_Z:  = 0\n",
      "PHOTO_Z:  = 0\n",
      ":  = 0\n",
      "for source MUSYC\n",
      "GRISM_Z:  = 0\n",
      "SPEC_Z:  = 816\n",
      "PHOTO_Z:  = 1184\n",
      ":  = 0\n",
      "for source Griffith\n",
      "GRISM_Z:  = 0\n",
      "SPEC_Z:  = 3027\n",
      "PHOTO_Z:  = 41\n",
      ":  = 0\n",
      "\n",
      "for survey SDSS      :\n",
      "for source \n",
      "GRISM_Z:  = 0\n",
      "SPEC_Z:  = 0\n",
      "PHOTO_Z:  = 0\n",
      ":  = 51861\n",
      "for source 3DHST\n",
      "GRISM_Z:  = 0\n",
      "SPEC_Z:  = 0\n",
      "PHOTO_Z:  = 0\n",
      ":  = 0\n",
      "for source UltraVISTA\n",
      "GRISM_Z:  = 0\n",
      "SPEC_Z:  = 0\n",
      "PHOTO_Z:  = 0\n",
      ":  = 0\n",
      "for source MUSYC\n",
      "GRISM_Z:  = 0\n",
      "SPEC_Z:  = 0\n",
      "PHOTO_Z:  = 0\n",
      ":  = 0\n",
      "for source Griffith\n",
      "GRISM_Z:  = 0\n",
      "SPEC_Z:  = 0\n",
      "PHOTO_Z:  = 0\n",
      ":  = 0\n",
      "\n",
      "for survey GEMS      :\n",
      "for source \n",
      "GRISM_Z:  = 0\n",
      "SPEC_Z:  = 0\n",
      "PHOTO_Z:  = 0\n",
      ":  = 561\n",
      "for source 3DHST\n",
      "GRISM_Z:  = 99\n",
      "SPEC_Z:  = 6\n",
      "PHOTO_Z:  = 40\n",
      ":  = 0\n",
      "for source UltraVISTA\n",
      "GRISM_Z:  = 0\n",
      "SPEC_Z:  = 0\n",
      "PHOTO_Z:  = 0\n",
      ":  = 0\n",
      "for source MUSYC\n",
      "GRISM_Z:  = 0\n",
      "SPEC_Z:  = 279\n",
      "PHOTO_Z:  = 7304\n",
      ":  = 0\n",
      "for source Griffith\n",
      "GRISM_Z:  = 0\n",
      "SPEC_Z:  = 387\n",
      "PHOTO_Z:  = 628\n",
      ":  = 0\n",
      "\n",
      "for survey GOODS-S   :\n",
      "for source \n",
      "GRISM_Z:  = 0\n",
      "SPEC_Z:  = 0\n",
      "PHOTO_Z:  = 0\n",
      ":  = 319\n",
      "for source 3DHST\n",
      "GRISM_Z:  = 369\n",
      "SPEC_Z:  = 103\n",
      "PHOTO_Z:  = 37\n",
      ":  = 0\n",
      "for source UltraVISTA\n",
      "GRISM_Z:  = 0\n",
      "SPEC_Z:  = 0\n",
      "PHOTO_Z:  = 0\n",
      ":  = 0\n",
      "for source MUSYC\n",
      "GRISM_Z:  = 0\n",
      "SPEC_Z:  = 287\n",
      "PHOTO_Z:  = 275\n",
      ":  = 0\n",
      "for source Griffith\n",
      "GRISM_Z:  = 0\n",
      "SPEC_Z:  = 3016\n",
      "PHOTO_Z:  = 507\n",
      ":  = 0\n",
      "\n",
      "for survey COSMOS    :\n",
      "for source \n",
      "GRISM_Z:  = 0\n",
      "SPEC_Z:  = 0\n",
      "PHOTO_Z:  = 0\n",
      ":  = 5088\n",
      "for source 3DHST\n",
      "GRISM_Z:  = 358\n",
      "SPEC_Z:  = 35\n",
      "PHOTO_Z:  = 26\n",
      ":  = 0\n",
      "for source UltraVISTA\n",
      "GRISM_Z:  = 0\n",
      "SPEC_Z:  = 0\n",
      "PHOTO_Z:  = 2665\n",
      ":  = 0\n",
      "for source MUSYC\n",
      "GRISM_Z:  = 0\n",
      "SPEC_Z:  = 0\n",
      "PHOTO_Z:  = 0\n",
      ":  = 0\n",
      "for source Griffith\n",
      "GRISM_Z:  = 0\n",
      "SPEC_Z:  = 7201\n",
      "PHOTO_Z:  = 77435\n",
      ":  = 0\n",
      "\n",
      "total  = 71068\n",
      "\n",
      "total 3DHST = 7508\n",
      "\n",
      "total UltraVISTA = 2665\n",
      "\n",
      "total MUSYC = 10145\n",
      "\n",
      "total Griffith = 100872\n",
      "\n",
      "total GRISM_Z = 4335\n",
      "total SPEC_Z = 21572\n",
      "total PHOTO_Z = 95283\n",
      "total  = 71068\n"
     ]
    }
   ],
   "source": [
    "#Check distribution of different redshifts\n",
    "imaging_list=list(set(updated_table['IMAGING']))\n",
    "\n",
    "z_sources = list(set(updated_table['Z_BEST_SOURCE']))\n",
    "z_types = list(set(updated_table['Z_BEST_TYPE']))\n",
    "for survey in imaging_list:\n",
    "    print('for survey %s:' %survey)\n",
    "    for source in z_sources: \n",
    "        print('for source %s'%source)\n",
    "        for zt in z_types:\n",
    "            print ('%s:  = %i' %(zt, ((updated_table['IMAGING'] == survey) & (updated_table['Z_BEST_SOURCE'] == source)&(updated_table['Z_BEST_TYPE'] == zt)).sum()))\n",
    "    print('')\n",
    "for source in z_sources:\n",
    "    print('total %s = %i'%(source,((updated_table['Z_BEST_SOURCE']==source)).sum()))\n",
    "    \n",
    "    print('')\n",
    "for zt in z_types:\n",
    "    print('total %s = %i'%(zt,((updated_table['Z_BEST_TYPE']==zt)).sum()))\n"
   ]
  },
  {
   "cell_type": "code",
   "execution_count": 145,
   "metadata": {
    "collapsed": false
   },
   "outputs": [
    {
     "data": {
      "text/plain": [
       "192258"
      ]
     },
     "execution_count": 145,
     "metadata": {},
     "output_type": "execute_result"
    }
   ],
   "source": [
    "len(updated_table)"
   ]
  },
  {
   "cell_type": "code",
   "execution_count": null,
   "metadata": {
    "collapsed": false
   },
   "outputs": [],
   "source": []
  },
  {
   "cell_type": "code",
   "execution_count": null,
   "metadata": {
    "collapsed": true
   },
   "outputs": [],
   "source": []
  }
 ],
 "metadata": {
  "kernelspec": {
   "display_name": "Python 2",
   "language": "python",
   "name": "python2"
  },
  "language_info": {
   "codemirror_mode": {
    "name": "ipython",
    "version": 2
   },
   "file_extension": ".py",
   "mimetype": "text/x-python",
   "name": "python",
   "nbconvert_exporter": "python",
   "pygments_lexer": "ipython2",
   "version": "2.7.6"
  }
 },
 "nbformat": 4,
 "nbformat_minor": 0
}
