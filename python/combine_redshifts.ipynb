{
 "cells": [
  {
   "cell_type": "markdown",
   "metadata": {},
   "source": [
    "# Obtaining the best redshift from 3 Catalogs: Griffiths, 3dHST, UltraVISTA\n",
    "\n",
    "## What we have:\n",
    "## Griffiths has spec-z, photo-z. Their best Z is 'high-quality spec z else photoz.' It is not known how high-quality is defined. The errors listed on their photoz are 3sig. \n",
    "## 3dHST has spec-zs, photo-zs, and grism-zs. Their 'z_best' can be any of these.\n",
    "## UltraVISTA just has photo-zs. "
   ]
  },
  {
   "cell_type": "markdown",
   "metadata": {},
   "source": [
    "## Workflow for choosing best redshift:\n",
    "## 1) If Griffiths spec-z = Griffiths best-z, then use that. \n",
    "## else if 3dHST spec-z = 3dHST best_z, use that. \n",
    "## else (no good spec-z's anywhere):\n",
    "## compare 1-sig errors on Griffiths photoz, 3dHST grism z, 3dHST photoz, UltraVISTA photoz. choose that with lowest err. Note: all except Griffiths report 1 sig errors; Griffiths reports 3sig, so that error is divided by 3 in the comparison.\n",
    "\n",
    " \n",
    "\n"
   ]
  },
  {
   "cell_type": "code",
   "execution_count": 4,
   "metadata": {
    "collapsed": true
   },
   "outputs": [],
   "source": [
    "%matplotlib inline\n",
    "\n",
    "from astropy.io import fits as pyfits\n",
    "import numpy as np\n",
    "from datetime import datetime\n",
    "import matplotlib.pyplot as plt\n",
    "from astropy.table import Table,Column\n",
    "from operator import itemgetter\n",
    "from datetime import datetime\n",
    "import requests\n",
    "import os"
   ]
  },
  {
   "cell_type": "code",
   "execution_count": 6,
   "metadata": {
    "collapsed": true
   },
   "outputs": [],
   "source": [
    "def download_from_dropbox(url):\n",
    "    \n",
    "    local_filename = \"{:}\".format(url.split(\"/\")[-1].split(\"?\")[0])\n",
    "    r = requests.get(url, stream=True)\n",
    "    with open(local_filename, 'wb') as f:\n",
    "        for chunk in r.iter_content(chunk_size=1024): \n",
    "            if chunk: # filter out keep-alive new chunks\n",
    "                f.write(chunk)\n",
    "                f.flush()\n",
    "            \n",
    "    return local_filename"
   ]
  },
  {
   "cell_type": "code",
   "execution_count": 7,
   "metadata": {
    "collapsed": false
   },
   "outputs": [
    {
     "name": "stderr",
     "output_type": "stream",
     "text": [
      "/usr/local/lib/python2.7/dist-packages/requests/packages/urllib3/util/ssl_.py:120: InsecurePlatformWarning: A true SSLContext object is not available. This prevents urllib3 from configuring SSL appropriately and may cause certain SSL connections to fail. For more information, see https://urllib3.readthedocs.org/en/latest/security.html#insecureplatformwarning.\n",
      "  InsecurePlatformWarning\n",
      "/usr/local/lib/python2.7/dist-packages/requests/packages/urllib3/util/ssl_.py:120: InsecurePlatformWarning: A true SSLContext object is not available. This prevents urllib3 from configuring SSL appropriately and may cause certain SSL connections to fail. For more information, see https://urllib3.readthedocs.org/en/latest/security.html#insecureplatformwarning.\n",
      "  InsecurePlatformWarning\n"
     ]
    }
   ],
   "source": [
    "old_catalog_filename = download_from_dropbox(\"https://www.dropbox.com/s/ge7sgtf0crxmwyi/all_redshift_info.fits?dl=1\")\n",
    "old_catalog = Table.read(old_catalog_filename) "
   ]
  },
  {
   "cell_type": "code",
   "execution_count": 8,
   "metadata": {
    "collapsed": false
   },
   "outputs": [],
   "source": [
    "subjects=set(old_catalog['OBJNO'])\n"
   ]
  },
  {
   "cell_type": "code",
   "execution_count": 42,
   "metadata": {
    "collapsed": false
   },
   "outputs": [],
   "source": [
    "updated_table=Table()\n",
    "for col_name in old_catalog.columns.names:\n",
    "    c0 = Column([x[col_name] for x in old_catalog], name=col_name) \n",
    "    updated_table.add_columns([c0])\n"
   ]
  },
  {
   "cell_type": "code",
   "execution_count": 43,
   "metadata": {
    "collapsed": false
   },
   "outputs": [],
   "source": [
    "def get_best_redshift(galaxy):\n",
    "    \n",
    "    #define Griffiths variables\n",
    "    griffiths_specz = galaxy['SPECZ']\n",
    "    griffiths_bestz = galaxy['Z']\n",
    "    griffiths_photoz = galaxy['PHOTOZ']\n",
    "    griffiths_photoz_err_3sig = galaxy['PHOTOZ_ERR']/galaxy['PHOTOZ']\n",
    "    griffiths_photoz_err_1sig = galaxy['PHOTOZ_ERR']/galaxy['PHOTOZ']/3.\n",
    "\n",
    "    \n",
    "    #define 3dhst variables\n",
    "    dhst_specz = galaxy['z_spec']\n",
    "    dhst_bestz = galaxy['z_best']\n",
    "    dhst_photoz = galaxy['z_peak_phot']\n",
    "    dhst_photoz_err = (galaxy['z_phot_u68']-galaxy['z_phot_l68'])/dhst_photoz\n",
    "\n",
    "    dhst_grismz = galaxy['z_max_grism']\n",
    "    dhst_grismz_err = (galaxy['z_grism_u68']-galaxy['z_grism_l68'])/dhst_grismz\n",
    "\n",
    "    \n",
    "    if str(dhst_photoz_err)=='nan':\n",
    "        dhst_photoz_err = 99\n",
    "    if dhst_photoz < 0:\n",
    "        dhst_photoz_err = 99\n",
    "    if str(dhst_grismz_err)=='nan':\n",
    "        dhst_grismz_err = 99\n",
    "    if dhst_grismz < 0:\n",
    "        dhst_grismz_err = 99\n",
    "    \n",
    "    #define ultravista variables\n",
    "    uv_photoz = galaxy['zPDF']\n",
    "    uv_photoz_err = (galaxy['zPDF_u68']-galaxy['zPDF_l68'])/uv_photoz\n",
    "    if str(uv_photoz_err)=='nan':\n",
    "        uv_photoz_err = 99\n",
    "    if uv_photoz < 0:\n",
    "        uv_photoz_err=99\n",
    "    \n",
    "    #Order of operations to determine which redshift to use:\n",
    "    #1) If specz exists in Griffiths catalog, use that first. \n",
    "    if griffiths_specz == griffiths_bestz and griffiths_specz > 0 and griffiths_specz < 9:\n",
    "        return griffiths_specz,'Griffiths'\n",
    "        \n",
    "    #if no specz in Griffiths, check 3Dhst\n",
    "    else:\n",
    "        if dhst_specz == dhst_bestz and dhst_specz >0 and dhst_specz <9: \n",
    "            return dhst_bestz, '3DHST'\n",
    "        \n",
    "        else: #no speczs, so check which photoz has smallest error. \n",
    "            photoz_list = [[griffiths_photoz,griffiths_photoz_err_1sig,'Griffiths'],[dhst_photoz,dhst_photoz_err,'3DHST'],[uv_photoz,uv_photoz_err,['UltraVISTA']]]\n",
    "            photoz_list = sorted(photoz_list, key=itemgetter(1)) #sort by which has smallest error            \n",
    "            \n",
    "            return photoz_list[0][0],photoz_list[0][2]"
   ]
  },
  {
   "cell_type": "code",
   "execution_count": 44,
   "metadata": {
    "collapsed": false
   },
   "outputs": [
    {
     "name": "stderr",
     "output_type": "stream",
     "text": [
      "/usr/local/lib/python2.7/dist-packages/ipykernel/__main__.py:7: RuntimeWarning: divide by zero encountered in float_scalars\n",
      "/usr/local/lib/python2.7/dist-packages/ipykernel/__main__.py:8: RuntimeWarning: divide by zero encountered in float_scalars\n",
      "/usr/local/lib/python2.7/dist-packages/ipykernel/__main__.py:7: RuntimeWarning: invalid value encountered in float_scalars\n",
      "/usr/local/lib/python2.7/dist-packages/ipykernel/__main__.py:8: RuntimeWarning: invalid value encountered in float_scalars\n"
     ]
    }
   ],
   "source": [
    "for galaxy in updated_table:\n",
    "    galaxy['Z_BEST'], galaxy['Z_BEST_SOURCE'] = get_best_redshift(galaxy)"
   ]
  },
  {
   "cell_type": "code",
   "execution_count": 45,
   "metadata": {
    "collapsed": false
   },
   "outputs": [],
   "source": [
    "fname = '/home/user/mel/Dropbox/gzhubble/hubble_files/gzh_redshift_data/best_redshift_table_%i_%i_%i.fits'%(datetime.now().month,datetime.now().day,datetime.now().year)\n",
    "\n",
    "if os.path.exists(fname):\n",
    "    os.remove(fname)\n",
    "updated_table.write(fname,format='fits')\n"
   ]
  },
  {
   "cell_type": "code",
   "execution_count": 57,
   "metadata": {
    "collapsed": false
   },
   "outputs": [],
   "source": [
    "galaxy = old_catalog[5]"
   ]
  },
  {
   "cell_type": "code",
   "execution_count": 22,
   "metadata": {
    "collapsed": false
   },
   "outputs": [],
   "source": [
    "    dhst_specz = galaxy['z_spec']\n",
    "    dhst_bestz = galaxy['z_best']\n",
    "    dhst_photoz = galaxy['z_peak_phot']\n"
   ]
  },
  {
   "cell_type": "code",
   "execution_count": 58,
   "metadata": {
    "collapsed": false
   },
   "outputs": [
    {
     "data": {
      "text/plain": [
       "0.68181813"
      ]
     },
     "execution_count": 58,
     "metadata": {},
     "output_type": "execute_result"
    }
   ],
   "source": [
    "(galaxy['zPDF_u68']-galaxy['zPDF_l68'])/galaxy['zPDF']"
   ]
  },
  {
   "cell_type": "code",
   "execution_count": 59,
   "metadata": {
    "collapsed": false
   },
   "outputs": [
    {
     "data": {
      "text/plain": [
       "nan"
      ]
     },
     "execution_count": 59,
     "metadata": {},
     "output_type": "execute_result"
    }
   ],
   "source": [
    "(galaxy['z_grism_u68']-galaxy['z_grism_l68'])/galaxy['z_max_grism']"
   ]
  },
  {
   "cell_type": "code",
   "execution_count": 60,
   "metadata": {
    "collapsed": false
   },
   "outputs": [
    {
     "data": {
      "text/plain": [
       "nan"
      ]
     },
     "execution_count": 60,
     "metadata": {},
     "output_type": "execute_result"
    }
   ],
   "source": [
    "(galaxy['z_phot_u68']-galaxy['z_phot_l68'])/galaxy['z_peak_phot']"
   ]
  },
  {
   "cell_type": "code",
   "execution_count": 61,
   "metadata": {
    "collapsed": false
   },
   "outputs": [
    {
     "data": {
      "text/plain": [
       "0.1111111044883728"
      ]
     },
     "execution_count": 61,
     "metadata": {},
     "output_type": "execute_result"
    }
   ],
   "source": [
    "galaxy['PHOTOZ_ERR']/galaxy['PHOTOZ']/3."
   ]
  },
  {
   "cell_type": "code",
   "execution_count": 62,
   "metadata": {
    "collapsed": false
   },
   "outputs": [
    {
     "data": {
      "text/plain": [
       "0.33333331"
      ]
     },
     "execution_count": 62,
     "metadata": {},
     "output_type": "execute_result"
    }
   ],
   "source": [
    " galaxy['PHOTOZ_ERR']/galaxy['PHOTOZ']"
   ]
  },
  {
   "cell_type": "code",
   "execution_count": 63,
   "metadata": {
    "collapsed": false
   },
   "outputs": [
    {
     "data": {
      "text/plain": [
       "0.0099999998"
      ]
     },
     "execution_count": 63,
     "metadata": {},
     "output_type": "execute_result"
    }
   ],
   "source": [
    "galaxy['PHOTOZ']"
   ]
  },
  {
   "cell_type": "code",
   "execution_count": null,
   "metadata": {
    "collapsed": true
   },
   "outputs": [],
   "source": []
  }
 ],
 "metadata": {
  "kernelspec": {
   "display_name": "Python 2",
   "language": "python",
   "name": "python2"
  },
  "language_info": {
   "codemirror_mode": {
    "name": "ipython",
    "version": 2
   },
   "file_extension": ".py",
   "mimetype": "text/x-python",
   "name": "python",
   "nbconvert_exporter": "python",
   "pygments_lexer": "ipython2",
   "version": "2.7.6"
  }
 },
 "nbformat": 4,
 "nbformat_minor": 0
}
