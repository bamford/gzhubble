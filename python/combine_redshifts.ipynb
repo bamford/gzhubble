{
 "cells": [
  {
   "cell_type": "markdown",
   "metadata": {},
   "source": [
    "# Obtaining the best redshift from 3 Catalogs: Griffiths, 3dHST, UltraVISTA\n",
    "\n",
    "## What we have:\n",
    "## Griffiths has spec-z, photo-z. Their best Z is 'high-quality spec z else photoz.' It is not known how high-quality is defined. The errors listed on their photoz are 3sig. \n",
    "## 3dHST has spec-zs, photo-zs, and grism-zs. Their 'z_best' can be any of these.\n",
    "## UltraVISTA just has photo-zs. "
   ]
  },
  {
   "cell_type": "markdown",
   "metadata": {},
   "source": [
    "## Workflow for choosing best redshift:\n",
    "## 1) If Griffiths spec-z = Griffiths best-z, then use that. \n",
    "## else if 3dHST spec-z = 3dHST best_z, use that. \n",
    "## else (no good spec-z's anywhere):\n",
    "## compare 1-sig errors on Griffiths photoz, 3dHST grism z, 3dHST photoz, UltraVISTA photoz. choose that with lowest err. Note: all except Griffiths report 1 sig errors; Griffiths reports 3sig, so that error is divided by 3 in the comparison.\n",
    "\n",
    " \n",
    "\n"
   ]
  },
  {
   "cell_type": "code",
   "execution_count": 23,
   "metadata": {
    "collapsed": true
   },
   "outputs": [],
   "source": [
    "%matplotlib inline\n",
    "\n",
    "from astropy.io import fits as pyfits\n",
    "from astropy.table import Table\n",
    "import numpy as np\n",
    "from astropy.io.fits import Column\n",
    "from datetime import datetime\n",
    "from operator import itemgetter\n",
    "import matplotlib.pyplot as plt\n",
    "import os\n",
    "import warnings\n",
    "import requests"
   ]
  },
  {
   "cell_type": "code",
   "execution_count": 5,
   "metadata": {
    "collapsed": true
   },
   "outputs": [],
   "source": [
    "def download_from_dropbox(url):\n",
    "    \n",
    "    local_filename = \"{:}\".format(url.split(\"/\")[-1].split(\"?\")[0])\n",
    "    r = requests.get(url, stream=True)\n",
    "    with open(local_filename, 'wb') as f:\n",
    "        for chunk in r.iter_content(chunk_size=1024): \n",
    "            if chunk: # filter out keep-alive new chunks\n",
    "                f.write(chunk)\n",
    "                f.flush()\n",
    "            \n",
    "    return local_filename"
   ]
  },
  {
   "cell_type": "code",
   "execution_count": 19,
   "metadata": {
    "collapsed": false
   },
   "outputs": [],
   "source": [
    "old_catalog_filename = download_from_dropbox(\"https://www.dropbox.com/s/ge7sgtf0crxmwyi/all_redshift_info.fits?dl=1\")\n",
    "old_catalog = Table.read(old_catalog_filename)\n"
   ]
  },
  {
   "cell_type": "code",
   "execution_count": 7,
   "metadata": {
    "collapsed": false
   },
   "outputs": [],
   "source": [
    "subjects=set(old_catalog['OBJNO'])\n",
    "imagings=set(old_catalog['IMAGING'])"
   ]
  },
  {
   "cell_type": "code",
   "execution_count": 20,
   "metadata": {
    "collapsed": false
   },
   "outputs": [],
   "source": [
    "updated_table = old_catalog.copy(copy_data=True)"
   ]
  },
  {
   "cell_type": "code",
   "execution_count": 15,
   "metadata": {
    "collapsed": false
   },
   "outputs": [
    {
     "data": {
      "text/plain": [
       "{'AEGIS     ',\n",
       " 'COSMOS    ',\n",
       " 'GEMS      ',\n",
       " 'GOODS-N   ',\n",
       " 'GOODS-S   ',\n",
       " 'GOODS_FULL',\n",
       " 'SDSS      '}"
      ]
     },
     "execution_count": 15,
     "metadata": {},
     "output_type": "execute_result"
    }
   ],
   "source": [
    "imagings"
   ]
  },
  {
   "cell_type": "code",
   "execution_count": 21,
   "metadata": {
    "collapsed": false
   },
   "outputs": [],
   "source": [
    "def get_best_redshift(galaxy):\n",
    "    \n",
    "    #define Griffiths variables\n",
    "    griffiths_specz = galaxy['SPECZ']\n",
    "    griffiths_bestz = galaxy['Z']\n",
    "    griffiths_photoz = galaxy['PHOTOZ']\n",
    "    griffiths_photoz_err_3sig = galaxy['PHOTOZ_ERR']/galaxy['PHOTOZ']\n",
    "    griffiths_photoz_err_1sig = galaxy['PHOTOZ_ERR']/galaxy['PHOTOZ']/3.\n",
    "\n",
    "    \n",
    "    #define 3dhst variables\n",
    "    dhst_specz = galaxy['z_spec']\n",
    "    dhst_bestz = galaxy['z_best']\n",
    "    dhst_photoz = galaxy['z_peak_phot']\n",
    "    dhst_photoz_err = (galaxy['z_phot_u68']-galaxy['z_phot_l68'])/dhst_photoz\n",
    "\n",
    "    dhst_grismz = galaxy['z_max_grism']\n",
    "    dhst_grismz_err = (galaxy['z_grism_u68']-galaxy['z_grism_l68'])/dhst_grismz\n",
    "\n",
    "    \n",
    "    if str(dhst_photoz_err)=='nan':\n",
    "        dhst_photoz_err = 99\n",
    "    if dhst_photoz < 0:\n",
    "        dhst_photoz_err = 99\n",
    "    if str(dhst_grismz_err)=='nan':\n",
    "        dhst_grismz_err = 99\n",
    "    if dhst_grismz < 0:\n",
    "        dhst_grismz_err = 99\n",
    "    \n",
    "    #define ultravista variables\n",
    "    uv_photoz = galaxy['zPDF']\n",
    "    uv_photoz_err = (galaxy['zPDF_u68']-galaxy['zPDF_l68'])/uv_photoz\n",
    "    if str(uv_photoz_err)=='nan':\n",
    "        uv_photoz_err = 99\n",
    "    if uv_photoz < 0:\n",
    "        uv_photoz_err=99\n",
    "    \n",
    "    #Order of operations to determine which redshift to use:\n",
    "    #1) If specz exists in Griffiths catalog, use that first. \n",
    "    if griffiths_specz == griffiths_bestz and griffiths_specz > 0 and griffiths_specz < 9:\n",
    "        return griffiths_specz,'Griffiths_specz'\n",
    "        \n",
    "    #if no specz in Griffiths, check 3Dhst\n",
    "    else:\n",
    "        if dhst_specz == dhst_bestz and dhst_specz >0 and dhst_specz <9: \n",
    "            return dhst_bestz, '3DHST_specz'\n",
    "        \n",
    "        else: #no speczs, so check which photoz has smallest error. \n",
    "            photoz_list = [[griffiths_photoz,griffiths_photoz_err_1sig,'Griffiths_photoz'],[dhst_photoz,dhst_photoz_err,'3DHST_photoz'],[uv_photoz,uv_photoz_err,'UltraVISTA_photoz'],[dhst_grismz,dhst_grismz_err,'3DHST_grismz']]\n",
    "            photoz_list = sorted(photoz_list, key=itemgetter(1)) #sort by which has smallest error            \n",
    "            \n",
    "            return photoz_list[0][0],photoz_list[0][2]"
   ]
  },
  {
   "cell_type": "code",
   "execution_count": 24,
   "metadata": {
    "collapsed": false
   },
   "outputs": [
    {
     "name": "stderr",
     "output_type": "stream",
     "text": [
      "/home/user1/galloway/anaconda2/envs/Zuko/lib/python2.7/site-packages/ipykernel/__main__.py:7: RuntimeWarning: divide by zero encountered in float_scalars\n",
      "/home/user1/galloway/anaconda2/envs/Zuko/lib/python2.7/site-packages/ipykernel/__main__.py:8: RuntimeWarning: divide by zero encountered in float_scalars\n",
      "/home/user1/galloway/anaconda2/envs/Zuko/lib/python2.7/site-packages/ipykernel/__main__.py:7: RuntimeWarning: invalid value encountered in float_scalars\n",
      "/home/user1/galloway/anaconda2/envs/Zuko/lib/python2.7/site-packages/ipykernel/__main__.py:8: RuntimeWarning: invalid value encountered in float_scalars\n"
     ]
    }
   ],
   "source": [
    "for galaxy in updated_table:\n",
    "    if galaxy['IMAGING'].strip()!='SDSS' and galaxy['IMAGING'].strip()!='GOODS_FULL':\n",
    "        galaxy['Z_BEST'], galaxy['Z_BEST_SOURCE'] = get_best_redshift(galaxy)"
   ]
  },
  {
   "cell_type": "code",
   "execution_count": 25,
   "metadata": {
    "collapsed": false
   },
   "outputs": [],
   "source": [
    "fname = '/home/user1/galloway/Dropbox/gzhubble/hubble_files/gzh_redshift_data/best_redshift_table_%i_%i_%i.fits'%(datetime.now().month,datetime.now().day,datetime.now().year)\n",
    "\n",
    "if os.path.exists(fname):\n",
    "    os.remove(fname)\n",
    "updated_table.write(fname,format='fits')\n"
   ]
  },
  {
   "cell_type": "code",
   "execution_count": 40,
   "metadata": {
    "collapsed": false
   },
   "outputs": [
    {
     "name": "stdout",
     "output_type": "stream",
     "text": [
      "for survey AEGIS     :\n",
      "Griffiths_specz:  = 3656\n",
      "3DHST_specz:  = 12\n",
      "Griffiths_photo:  = 4442\n",
      "3DHST_grismz:  = 341\n",
      "UltraVISTA_phot:  = 0\n",
      "3DHST_photoz:  = 56\n",
      "\n",
      "for survey GOODS-N   :\n",
      "Griffiths_specz:  = 1997\n",
      "3DHST_specz:  = 5\n",
      "Griffiths_photo:  = 218\n",
      "3DHST_grismz:  = 101\n",
      "UltraVISTA_phot:  = 0\n",
      "3DHST_photoz:  = 230\n",
      "\n",
      "for survey GEMS      :\n",
      "Griffiths_specz:  = 387\n",
      "3DHST_specz:  = 6\n",
      "Griffiths_photo:  = 8886\n",
      "3DHST_grismz:  = 9\n",
      "UltraVISTA_phot:  = 0\n",
      "3DHST_photoz:  = 16\n",
      "\n",
      "for survey GOODS-S   :\n",
      "Griffiths_specz:  = 3016\n",
      "3DHST_specz:  = 103\n",
      "Griffiths_photo:  = 1662\n",
      "3DHST_grismz:  = 67\n",
      "UltraVISTA_phot:  = 0\n",
      "3DHST_photoz:  = 65\n",
      "\n",
      "for survey COSMOS    :\n",
      "Griffiths_specz:  = 7201\n",
      "3DHST_specz:  = 35\n",
      "Griffiths_photo:  = 82662\n",
      "3DHST_grismz:  = 358\n",
      "UltraVISTA_phot:  = 2473\n",
      "3DHST_photoz:  = 79\n",
      "\n",
      "total Griffiths_specz = 16257\n",
      "total 3DHST_specz = 161\n",
      "total Griffiths_photo = 97870\n",
      "total 3DHST_grismz = 876\n",
      "total UltraVISTA_phot = 2473\n",
      "total 3DHST_photoz = 446\n"
     ]
    }
   ],
   "source": [
    "#Check distribution of different redshifts\n",
    "imaging_list=list(set(updated_table['IMAGING']))\n",
    "imaging_list.remove(imaging_list[2])\n",
    "imaging_list.remove(imaging_list[2])\n",
    "\n",
    "z_sources = list(set(updated_table['Z_BEST_SOURCE']))\n",
    "z_sources.remove(z_sources[0])\n",
    "\n",
    "for survey in imaging_list:\n",
    "    print('for survey %s:' %survey)\n",
    "    for source in z_sources: \n",
    "        print ('%s:  = %i' %(source, ((updated_table['IMAGING'] == survey) & (updated_table['Z_BEST_SOURCE'] == source)).sum()))\n",
    "    print('')\n",
    "for source in z_sources:\n",
    "    print('total %s = %i'%(source,((updated_table['Z_BEST_SOURCE']==source)).sum()))"
   ]
  },
  {
   "cell_type": "code",
   "execution_count": 36,
   "metadata": {
    "collapsed": false
   },
   "outputs": [
    {
     "data": {
      "text/plain": [
       "{'               ',\n",
       " '3DHST_grismz',\n",
       " '3DHST_photoz',\n",
       " '3DHST_specz',\n",
       " 'Griffiths_photo',\n",
       " 'Griffiths_specz',\n",
       " 'UltraVISTA_phot'}"
      ]
     },
     "execution_count": 36,
     "metadata": {},
     "output_type": "execute_result"
    }
   ],
   "source": [
    "z_sources\n",
    "\n"
   ]
  },
  {
   "cell_type": "code",
   "execution_count": 33,
   "metadata": {
    "collapsed": false
   },
   "outputs": [
    {
     "data": {
      "text/plain": [
       "['AEGIS     ', 'GOODS-N   ', 'GEMS      ', 'GOODS-S   ', 'COSMOS    ']"
      ]
     },
     "execution_count": 33,
     "metadata": {},
     "output_type": "execute_result"
    }
   ],
   "source": [
    "imaging_list"
   ]
  },
  {
   "cell_type": "code",
   "execution_count": null,
   "metadata": {
    "collapsed": true
   },
   "outputs": [],
   "source": []
  }
 ],
 "metadata": {
  "kernelspec": {
   "display_name": "Python 2",
   "language": "python",
   "name": "python2"
  },
  "language_info": {
   "codemirror_mode": {
    "name": "ipython",
    "version": 2
   },
   "file_extension": ".py",
   "mimetype": "text/x-python",
   "name": "python",
   "nbconvert_exporter": "python",
   "pygments_lexer": "ipython2",
   "version": "2.7.11"
  }
 },
 "nbformat": 4,
 "nbformat_minor": 0
}
